{
 "cells": [
  {
   "cell_type": "code",
   "execution_count": 1,
   "metadata": {
    "colab": {},
    "colab_type": "code",
    "id": "dzqD2WDFOIN-"
   },
   "outputs": [],
   "source": [
    "from nemo.utils.exp_manager import exp_manager\n",
    "from nemo.collections import nlp as nemo_nlp\n",
    "\n",
    "import os\n",
    "import wget \n",
    "import torch\n",
    "import lightning.pytorch as pl\n",
    "from omegaconf import OmegaConf\n",
    "from pytorch_lightning import Trainer\n"
   ]
  },
  {
   "cell_type": "markdown",
   "metadata": {
    "colab_type": "text",
    "id": "daYw_Xll2ZR9"
   },
   "source": [
    "# Task Description\n",
    "Automatic Speech Recognition (ASR) systems typically generate text with no punctuation and capitalization of the words. \n",
    "This tutorial explains how to implement a model in NeMo that will predict punctuation and capitalization for each word in a sentence to make ASR output more readable and to boost performance of the named entity recognition, machine translation or text-to-speech models. \n",
    "We'll show how to train a model for this task using a pre-trained BERT model. \n",
    "For every word in our training dataset we’re going to predict:\n",
    "\n",
    "- punctuation mark that should follow the word and\n",
    "- whether the word should be capitalized"
   ]
  },
  {
   "cell_type": "markdown",
   "metadata": {
    "colab_type": "text",
    "id": "ZnuziSwJ1yEB"
   },
   "source": [
    "# Dataset\n",
    "This model can work with any dataset as long as it follows the format specified below. \n",
    "The training and evaluation data is divided into *2 files: text.txt and labels.txt*. \n",
    "Each line of the **text.txt** file contains text sequences, where words are separated with spaces: [WORD] [SPACE] [WORD] [SPACE] [WORD], for example:"
   ]
  },
  {
   "cell_type": "markdown",
   "metadata": {
    "colab_type": "text",
    "id": "TXFORGBv2Jqu"
   },
   "source": [
    "\n",
    "\n",
    "```\n",
    "when is the next flight to new york\n",
    "the next flight is ...\n",
    "...\n",
    "```\n",
    "\n"
   ]
  },
  {
   "cell_type": "markdown",
   "metadata": {
    "colab_type": "text",
    "id": "Y7ci55rM2QH8"
   },
   "source": [
    "The **labels.txt** file contains corresponding labels for each word in text.txt, the labels are separated with spaces. Each label in labels.txt file consists of 2 symbols:\n",
    "\n",
    "- the first symbol of the label indicates what punctuation mark should follow the word (where O means no punctuation needed);\n",
    "- the second symbol determines if a word needs to be capitalized or not (where U indicates that the word should be upper cased, and O - no capitalization needed.)\n",
    "\n",
    "In this tutorial, we are considering only commas, periods, and question marks the rest punctuation marks were removed. To use more punctuation marks, update the dataset to include desired labels, no changes to the model needed. \n",
    "\n",
    "Each line of the **labels.txt** should follow the format: \n",
    "[LABEL] [SPACE] [LABEL] [SPACE] [LABEL] (for labels.txt). \n",
    "For example, labels for the above text.txt file should be:"
   ]
  },
  {
   "cell_type": "markdown",
   "metadata": {
    "colab_type": "text",
    "id": "-94C1-864EW1"
   },
   "source": [
    "\n",
    "\n",
    "```\n",
    "OU OO OO OO OO OO OU ?U\n",
    "OU OO OO OO ...\n",
    "...\n",
    "```\n",
    "\n"
   ]
  },
  {
   "cell_type": "markdown",
   "metadata": {
    "colab_type": "text",
    "id": "VsEmwIPO4L4V"
   },
   "source": [
    "The complete list of all possible labels for this task used in this tutorial is: `OO, ,O, .O, ?O, OU, ,U, .U, ?U.`"
   ]
  },
  {
   "cell_type": "markdown",
   "metadata": {
    "colab_type": "text",
    "id": "SL58EWkd2ZVb"
   },
   "source": [
    "## Download and preprocess the data¶"
   ]
  },
  {
   "cell_type": "markdown",
   "metadata": {
    "colab_type": "text",
    "id": "THi6s1Qx2G1k"
   },
   "source": [
    "In this notebook we are going to use a subset of English examples from the [Tatoeba collection of sentences](https://tatoeba.org/eng) this script will download and preprocess the Tatoeba data [NeMo/examples/nlp/token_classification/get_tatoeba_data.py](https://github.com/NVIDIA/NeMo/blob/stable/examples/nlp/token_classification/data/get_tatoeba_data.py). Note, for further experiments with the model, set NUM_SAMPLES=-1 and consider including other datasets to improve model performance. \n"
   ]
  },
  {
   "cell_type": "code",
   "execution_count": 2,
   "metadata": {
    "colab": {},
    "colab_type": "code",
    "id": "n8HZrDmr12_-"
   },
   "outputs": [],
   "source": [
    "DATA_DIR = '/workspace/datasets/punc_restore'\n",
    "WORK_DIR = '/workspace/NeMo-W/examples/nlp/token_classification'\n",
    "MODEL_CONFIG = \"punctuation_capitalization_config.yaml\"\n",
    "\n",
    "# model parameters\n",
    "TOKENS_IN_BATCH = 1024\n",
    "MAX_SEQ_LENGTH = 64\n",
    "LEARNING_RATE = 0.00002\n",
    "NUM_SAMPLES = 10000"
   ]
  },
  {
   "cell_type": "code",
   "execution_count": 3,
   "metadata": {
    "colab": {},
    "colab_type": "code",
    "id": "UOeeeCGqI-9c"
   },
   "outputs": [
    {
     "name": "stdout",
     "output_type": "stream",
     "text": [
      "Downloading get_tatoeba_data.py...\n"
     ]
    },
    {
     "ename": "NameError",
     "evalue": "name 'BRANCH' is not defined",
     "output_type": "error",
     "traceback": [
      "\u001b[0;31m---------------------------------------------------------------------------\u001b[0m",
      "\u001b[0;31mNameError\u001b[0m                                 Traceback (most recent call last)",
      "Cell \u001b[0;32mIn[3], line 5\u001b[0m\n\u001b[1;32m      3\u001b[0m \u001b[38;5;28;01mif\u001b[39;00m \u001b[38;5;129;01mnot\u001b[39;00m os\u001b[38;5;241m.\u001b[39mpath\u001b[38;5;241m.\u001b[39mexists(\u001b[38;5;124mf\u001b[39m\u001b[38;5;124m\"\u001b[39m\u001b[38;5;132;01m{\u001b[39;00mWORK_DIR\u001b[38;5;132;01m}\u001b[39;00m\u001b[38;5;124m/get_tatoeba_data.py\u001b[39m\u001b[38;5;124m\"\u001b[39m):\n\u001b[1;32m      4\u001b[0m     \u001b[38;5;28mprint\u001b[39m(\u001b[38;5;124m'\u001b[39m\u001b[38;5;124mDownloading get_tatoeba_data.py...\u001b[39m\u001b[38;5;124m'\u001b[39m)\n\u001b[0;32m----> 5\u001b[0m     wget\u001b[38;5;241m.\u001b[39mdownload(\u001b[38;5;124mf\u001b[39m\u001b[38;5;124m'\u001b[39m\u001b[38;5;124mhttps://raw.githubusercontent.com/NVIDIA/NeMo/\u001b[39m\u001b[38;5;132;01m{\u001b[39;00m\u001b[43mBRANCH\u001b[49m\u001b[38;5;132;01m}\u001b[39;00m\u001b[38;5;124m/examples/nlp/token_classification/data/get_tatoeba_data.py\u001b[39m\u001b[38;5;124m'\u001b[39m, WORK_DIR)\n\u001b[1;32m      6\u001b[0m \u001b[38;5;28;01melse\u001b[39;00m:\n\u001b[1;32m      7\u001b[0m     \u001b[38;5;28mprint\u001b[39m (\u001b[38;5;124m'\u001b[39m\u001b[38;5;124mget_tatoeba_data.py already exists\u001b[39m\u001b[38;5;124m'\u001b[39m)\n",
      "\u001b[0;31mNameError\u001b[0m: name 'BRANCH' is not defined"
     ]
    }
   ],
   "source": [
    "## download get_tatoeba_data.py script to download and preprocess the Tatoeba data\n",
    "os.makedirs(WORK_DIR, exist_ok=True)\n",
    "if not os.path.exists(f\"{WORK_DIR}/get_tatoeba_data.py\"):\n",
    "    print('Downloading get_tatoeba_data.py...')\n",
    "    wget.download(f'https://raw.githubusercontent.com/NVIDIA/NeMo/{BRANCH}/examples/nlp/token_classification/data/get_tatoeba_data.py', WORK_DIR)\n",
    "else:\n",
    "    print ('get_tatoeba_data.py already exists')"
   ]
  },
  {
   "cell_type": "code",
   "execution_count": null,
   "metadata": {
    "colab": {},
    "colab_type": "code",
    "id": "H0ulD2TL13DR"
   },
   "outputs": [],
   "source": [
    "# download and preprocess the data\n",
    "# --clean_dir flag deletes raw Tataoeba data, remove the flag to avoid multiple data downloads if you want to experiment with the dataset size\n",
    "! python $WORK_DIR/get_tatoeba_data.py --data_dir $DATA_DIR --num_sample $NUM_SAMPLES --clean_dir"
   ]
  },
  {
   "cell_type": "markdown",
   "metadata": {
    "colab_type": "text",
    "id": "pctMm2vsPlPT"
   },
   "source": [
    "after execution of the above cell, your data folder will contain the following 4 files needed for training (raw Tatoeba data could be present if `--clean_dir` was not used):\n",
    "- labels_dev.txt\n",
    "- labels_train.txt\n",
    "- text_dev.txt\n",
    "- text_train.txt\n"
   ]
  },
  {
   "cell_type": "code",
   "execution_count": 3,
   "metadata": {
    "colab": {},
    "colab_type": "code",
    "id": "KKwxXXezPvXF"
   },
   "outputs": [
    {
     "name": "stdout",
     "output_type": "stream",
     "text": [
      "total 286444\n",
      "-rw-rw-r-- 1 1002 1003  4970881 Dec  8 02:06 cached.__text_dev.txt__labels_dev.txt__.BertTokenizer.max_seq_length512.vocab30522.num_samples10000.punctuation_capitalization.pkl\n",
      "-rw-rw-r-- 1 1002 1003  5399489 Dec  8 02:06 cached.__text_train.txt__labels_train.txt__.BertTokenizer.max_seq_length512.vocab30522.num_samples10000.punctuation_capitalization.pkl\n",
      "-rw-rw-r-- 1 1002 1003 61557003 Dec  8 02:07 clean_rus_sentences.txt\n",
      "-rw-rw-r-- 1 1002 1003 12416096 Dec  8 02:06 dev.txt\n",
      "drwxrwxr-x 2 1002 1003     4096 Dec  8 02:05 label_id_files_for_nemo_checkpoint\n",
      "-rw-rw-r-- 1 1002 1003  3375729 Dec  8 02:06 labels_dev.txt\n",
      "-rw-rw-r-- 1 1002 1003 13721988 Dec  8 02:06 labels_train.txt\n",
      "drwxrwxr-x 2 1002 1003     4096 Dec  8 02:05 processed\n",
      "-rw-rw-r-- 1 1002 1003 80739921 Dec  8 02:07 sentences.tsv\n",
      "-rw-rw-r-- 1 1002 1003 11920999 Dec  8 02:06 text_dev.txt\n",
      "-rw-rw-r-- 1 1002 1003 48184291 Dec  8 02:07 text_train.txt\n",
      "-rw-rw-r-- 1 1002 1003 50171907 Dec  8 02:07 train.txt\n",
      "drwxrwxr-x 2 1002 1003   823296 Dec  8 02:05 train_tarred\n"
     ]
    }
   ],
   "source": [
    "! ls -l $DATA_DIR"
   ]
  },
  {
   "cell_type": "code",
   "execution_count": 4,
   "metadata": {
    "colab": {},
    "colab_type": "code",
    "id": "6UDPgadLN6SG"
   },
   "outputs": [
    {
     "name": "stdout",
     "output_type": "stream",
     "text": [
      "Text:\n",
      "один раз в жизни я делаю хорошее дело и оно бесполезно\n",
      "мне пора идти спать\n",
      "что ты делаешь\n",
      "что это\n",
      "у меня нет слов\n"
     ]
    },
    {
     "name": "stdout",
     "output_type": "stream",
     "text": [
      "\n",
      "Labels:\n",
      "OU OO OO OO OO OO OO .O OU OO .O\n",
      "OU OO OO .O\n",
      "OU OO ?O\n",
      "OU ?O\n",
      "OU OO OO .O\n"
     ]
    }
   ],
   "source": [
    "# let's take a look at the data \n",
    "print('Text:')\n",
    "! head -n 5 $DATA_DIR/text_train.txt\n",
    "\n",
    "print('\\nLabels:')\n",
    "! head -n 5 $DATA_DIR/labels_train.txt"
   ]
  },
  {
   "cell_type": "markdown",
   "metadata": {},
   "source": [
    "As you see, `get_tatoeba_data.py` script provides not only downloads Tatoeba but also creates labels. If you wish to preprocess your own data, use [examples/nlp/token_classification/data/prepare_data_for_punctuation_capitalization.py](https://github.com/NVIDIA/NeMo/blob/main/examples/nlp/token_classification/data/prepare_data_for_punctuation_capitalization.py) script:\n",
    "\n",
    "```\n",
    "NEMO_ROOT = \"<Path_to_NeMo>\"\n",
    "!python $NEMO_ROOT/examples/nlp/token_classification/data/prepare_data_for_punctuation_capitalization.py \\\n",
    "    --source_file $DATA_DIR/text_train.txt \\\n",
    "    --output_dir $DATA_DIR/my_train_preprocessed\n",
    "```"
   ]
  },
  {
   "cell_type": "code",
   "execution_count": null,
   "metadata": {},
   "outputs": [],
   "source": [
    "!ls $DATA_DIR/my_train_preprocessed -l"
   ]
  },
  {
   "cell_type": "markdown",
   "metadata": {},
   "source": [
    "# Tarred dataset\n",
    "\n",
    "If your dataset is too large to be stored in memory, you can use tarred dataset. A tarred dataset is a collection of tarred files which contain batches ready for passing into a model.\n",
    "\n",
    "All tar files will contain identical number of batches, so if number of batches in the dataset is not evenly divisible by parameter `--num_batches_per_tar_file` value, then up to `--num_batches_per_tar_file - 1` batches may be lost."
   ]
  },
  {
   "cell_type": "code",
   "execution_count": 5,
   "metadata": {},
   "outputs": [
    {
     "name": "stdout",
     "output_type": "stream",
     "text": [
      "824802 /workspace/datasets/punc_restore/text_train.txt\n"
     ]
    },
    {
     "name": "stdout",
     "output_type": "stream",
     "text": [
      "824802 /workspace/datasets/punc_restore/labels_train.txt\n"
     ]
    }
   ],
   "source": [
    "# Number of lines in text and labels files\n",
    "!wc -l $DATA_DIR/text_train.txt\n",
    "!wc -l $DATA_DIR/labels_train.txt"
   ]
  },
  {
   "cell_type": "code",
   "execution_count": null,
   "metadata": {},
   "outputs": [],
   "source": [
    "## download script to prepare tarred dataset\n",
    "os.makedirs(WORK_DIR, exist_ok=True)\n",
    "if not os.path.exists(f\"{WORK_DIR}/create_punctuation_capitalization_tarred_dataset.py\"):\n",
    "    print('Downloading create_punctuation_capitalization_tarred_dataset.py...')\n",
    "    wget.download(f'https://raw.githubusercontent.com/NVIDIA/NeMo/{BRANCH}/examples/nlp/token_classification/data/create_punctuation_capitalization_tarred_dataset.py', WORK_DIR)\n",
    "else:\n",
    "    print (\"create_punctuation_capitalization_tarred_dataset.py script already exists\")\n",
    "\n",
    "!python $WORK_DIR/create_punctuation_capitalization_tarred_dataset.py \\\n",
    "    --text $DATA_DIR/text_train.txt \\\n",
    "    --labels $DATA_DIR/labels_train.txt \\\n",
    "    --output_dir $DATA_DIR/train_tarred \\\n",
    "    --num_batches_per_tarfile 5 \\\n",
    "    --tokens_in_batch 1024 \\\n",
    "    --lines_per_dataset_fragment 4000 \\\n",
    "    --tokenizer_name bert-base-uncased \\\n",
    "    --n_jobs 2"
   ]
  },
  {
   "cell_type": "code",
   "execution_count": null,
   "metadata": {},
   "outputs": [],
   "source": [
    "!ls $DATA_DIR/train_tarred -l"
   ]
  },
  {
   "cell_type": "code",
   "execution_count": null,
   "metadata": {},
   "outputs": [],
   "source": [
    "!ls $DATA_DIR/train_tarred/*.tar | wc -l  # number of tar files"
   ]
  },
  {
   "cell_type": "code",
   "execution_count": null,
   "metadata": {},
   "outputs": [],
   "source": [
    "!ls $DATA_DIR/train_tarred/ | grep -v '.tar'  # all not tar files"
   ]
  },
  {
   "cell_type": "markdown",
   "metadata": {},
   "source": [
    "If you wish to use tarred dataset, then you need to \n",
    "- pass metadata JSON file in config parameter `model.train_ds.tar_metadata_file`,\n",
    "- set `model.train_ds.use_tarred_dataset=true`."
   ]
  },
  {
   "cell_type": "markdown",
   "metadata": {
    "colab_type": "text",
    "id": "daludzzL2Jba"
   },
   "source": [
    "# Model Configuration"
   ]
  },
  {
   "cell_type": "markdown",
   "metadata": {
    "colab_type": "text",
    "id": "_whKCxfTMo6Y"
   },
   "source": [
    "In the Punctuation and Capitalization Model, we are jointly training two token-level classifiers on top of the pretrained [BERT](https://arxiv.org/pdf/1810.04805.pdf) model: \n",
    "- one classifier to predict punctuation and\n",
    "- the other one - capitalization.\n",
    "\n",
    "The model is defined in a config file which declares multiple important sections. They are:\n",
    "- **model**: All arguments that are related to the Model - language model, token classifiers, optimizer and schedulers, dataset and any other related information\n",
    "\n",
    "- **trainer**: Any argument to be passed to PyTorch Lightning\n",
    "\n",
    "See [docs](https://docs.nvidia.com/deeplearning/nemo/user-guide/docs/en/main/nlp/punctuation_and_capitalization.html#training-punctuation-and-capitalization-model) for full config description."
   ]
  },
  {
   "cell_type": "code",
   "execution_count": 3,
   "metadata": {
    "colab": {},
    "colab_type": "code",
    "id": "T1gA8PsJ13MJ"
   },
   "outputs": [
    {
     "name": "stdout",
     "output_type": "stream",
     "text": [
      "config file already exists\n"
     ]
    }
   ],
   "source": [
    "# download the model's configuration file \n",
    "config_dir = WORK_DIR + '/conf/'\n",
    "os.makedirs(config_dir, exist_ok=True)\n",
    "if not os.path.exists(config_dir + MODEL_CONFIG):\n",
    "    print('Downloading config file...')\n",
    "    wget.download(f'https://raw.githubusercontent.com/NVIDIA/NeMo/{BRANCH}/examples/nlp/token_classification/conf/' + MODEL_CONFIG, config_dir)\n",
    "else:\n",
    "    print ('config file already exists')"
   ]
  },
  {
   "cell_type": "code",
   "execution_count": 6,
   "metadata": {
    "colab": {},
    "colab_type": "code",
    "id": "mX3KmWMvSUQw"
   },
   "outputs": [
    {
     "name": "stdout",
     "output_type": "stream",
     "text": [
      "/workspace/NeMo-W/examples/nlp/token_classification/conf/punctuation_capitalization_config.yaml\n",
      "pretrained_model: null\n",
      "trainer:\n",
      "  devices: 1\n",
      "  num_nodes: 1\n",
      "  max_epochs: 3\n",
      "  max_steps: -1\n",
      "  accumulate_grad_batches: 1\n",
      "  gradient_clip_val: 0.0\n",
      "  precision: 16\n",
      "  accelerator: gpu\n",
      "  strategy: ddp\n",
      "  enable_checkpointing: false\n",
      "  logger: false\n",
      "  log_every_n_steps: 1\n",
      "  val_check_interval: 1.0\n",
      "exp_manager:\n",
      "  exp_dir: null\n",
      "  name: Punctuation_and_Capitalization\n",
      "  create_tensorboard_logger: true\n",
      "  create_checkpoint_callback: true\n",
      "model:\n",
      "  class_labels:\n",
      "    punct_labels_file: punct_label_ids.csv\n",
      "    capit_labels_file: capit_label_ids.csv\n",
      "  common_dataset_parameters:\n",
      "    pad_label: O\n",
      "    ignore_extra_tokens: false\n",
      "    ignore_start_end: true\n",
      "    punct_label_ids: null\n",
      "    capit_label_ids: null\n",
      "    label_vocab_dir: null\n",
      "  train_ds:\n",
      "    use_tarred_dataset: false\n",
      "    ds_item: ???\n",
      "    text_file: text_train.txt\n",
      "    labels_file: labels_train.txt\n",
      "    shuffle: true\n",
      "    num_samples: -1\n",
      "    tokens_in_batch: 15000\n",
      "    max_seq_length: 512\n",
      "    n_jobs: 0\n",
      "    tar_metadata_file: null\n",
      "    tar_shuffle_n: 1\n",
      "  validation_ds:\n",
      "    use_tarred_dataset: false\n",
      "    ds_item: ???\n",
      "    text_file: text_dev.txt\n",
      "    labels_file: labels_dev.txt\n",
      "    shuffle: false\n",
      "    num_samples: -1\n",
      "    tokens_in_batch: 15000\n",
      "    max_seq_length: 512\n",
      "    n_jobs: 0\n",
      "    tar_metadata_file: null\n",
      "  test_ds:\n",
      "    use_tarred_dataset: false\n",
      "    ds_item: ???\n",
      "    text_file: text_dev.txt\n",
      "    labels_file: labels_dev.txt\n",
      "    shuffle: false\n",
      "    num_samples: -1\n",
      "    tokens_in_batch: 15000\n",
      "    max_seq_length: 512\n",
      "    n_jobs: 0\n",
      "    tar_metadata_file: null\n",
      "  tokenizer:\n",
      "    tokenizer_name: ${model.language_model.pretrained_model_name}\n",
      "    vocab_file: null\n",
      "    tokenizer_model: null\n",
      "    special_tokens: null\n",
      "  language_model:\n",
      "    pretrained_model_name: bert-base-uncased\n",
      "    lm_checkpoint: null\n",
      "    config_file: null\n",
      "    config: null\n",
      "  punct_head:\n",
      "    num_fc_layers: 1\n",
      "    fc_dropout: 0.1\n",
      "    activation: relu\n",
      "    use_transformer_init: true\n",
      "  capit_head:\n",
      "    num_fc_layers: 1\n",
      "    fc_dropout: 0.1\n",
      "    activation: relu\n",
      "    use_transformer_init: true\n",
      "  optim:\n",
      "    name: adam\n",
      "    lr: 0.0001\n",
      "    weight_decay: 0.0\n",
      "    sched:\n",
      "      name: WarmupAnnealing\n",
      "      warmup_steps: null\n",
      "      warmup_ratio: 0.1\n",
      "      last_epoch: -1\n",
      "      monitor: val_loss\n",
      "      reduce_on_plateau: false\n",
      "hydra:\n",
      "  run:\n",
      "    dir: .\n",
      "  job_logging:\n",
      "    root:\n",
      "      handlers: null\n",
      "\n"
     ]
    }
   ],
   "source": [
    "# this line will print the entire config of the model\n",
    "config_path = f'{WORK_DIR}/conf/{MODEL_CONFIG}'\n",
    "print(config_path)\n",
    "config = OmegaConf.load(config_path)\n",
    "print(OmegaConf.to_yaml(config))"
   ]
  },
  {
   "cell_type": "markdown",
   "metadata": {
    "colab_type": "text",
    "id": "ZCgWzNBkaQLZ"
   },
   "source": [
    "# Setting up Data within the config\n",
    "\n",
    "Among other things, the config file contains dictionaries called `common_dataset_parameters`, `train_ds` and `validation_ds`. These are configurations used to setup the Dataset and DataLoaders of the corresponding config.\n",
    "\n",
    "Specify paths directories with train and dev datasets in parameters `train_ds.ds_item` and `validation_ds.ds_item`.\n",
    "\n",
    "I you want to use multiple datasets for evaluation, specify paths to the directory(ies) with evaluation file(s) in the following way:\n",
    "\n",
    "`model.validation_ds.ds_item=[PATH_TO_DEV1,PATH_TO_DEV2]` (Note no space between the paths and square brackets).\n",
    "\n",
    "Also notice that some configs, including `model.train_ds.ds_item`, have `???` in place of values, this values are required to be specified by the user.\n",
    "\n",
    "Let's now add the data directory path to the config."
   ]
  },
  {
   "cell_type": "code",
   "execution_count": 7,
   "metadata": {
    "colab": {},
    "colab_type": "code",
    "id": "LQHCJN-ZaoLp"
   },
   "outputs": [],
   "source": [
    "# in this tutorial train and dev data is located in the same folder\n",
    "config.model.train_ds.ds_item = DATA_DIR\n",
    "config.model.validation_ds.ds_item=DATA_DIR\n",
    "del config.model.test_ds  # We do not have test data, only train and dev"
   ]
  },
  {
   "cell_type": "markdown",
   "metadata": {
    "colab_type": "text",
    "id": "nB96-3sTc3yk"
   },
   "source": [
    "# Building the PyTorch Lightning Trainer\n",
    "\n",
    "NeMo models are primarily PyTorch Lightning modules - and therefore are entirely compatible with the PyTorch Lightning ecosystem!\n",
    "\n",
    "Let's first instantiate a Trainer object!"
   ]
  },
  {
   "cell_type": "code",
   "execution_count": 8,
   "metadata": {
    "colab": {},
    "colab_type": "code",
    "id": "1tG4FzZ4Ui60"
   },
   "outputs": [
    {
     "name": "stdout",
     "output_type": "stream",
     "text": [
      "Trainer config - \n",
      "\n",
      "devices: 1\n",
      "num_nodes: 1\n",
      "max_epochs: 3\n",
      "max_steps: -1\n",
      "accumulate_grad_batches: 1\n",
      "gradient_clip_val: 0.0\n",
      "precision: 16\n",
      "accelerator: gpu\n",
      "strategy: ddp\n",
      "enable_checkpointing: false\n",
      "logger: false\n",
      "log_every_n_steps: 1\n",
      "val_check_interval: 1.0\n",
      "\n"
     ]
    }
   ],
   "source": [
    "print(\"Trainer config - \\n\")\n",
    "print(OmegaConf.to_yaml(config.trainer))"
   ]
  },
  {
   "cell_type": "code",
   "execution_count": 20,
   "metadata": {
    "colab": {},
    "colab_type": "code",
    "id": "knF6QeQQdMrH"
   },
   "outputs": [
    {
     "name": "stderr",
     "output_type": "stream",
     "text": [
      "[NeMo W 2024-12-08 02:27:18 nemo_logging:349] /usr/local/lib/python3.10/dist-packages/lightning_fabric/connector.py:563: `precision=16` is supported for historical reasons but its usage is discouraged. Please set your precision to 16-mixed instead!\n",
      "    \n",
      "INFO: Using 16bit Automatic Mixed Precision (AMP)\n",
      "I1208 02:27:18.933322 128621095987008 rank_zero.py:63] Using 16bit Automatic Mixed Precision (AMP)\n",
      "INFO: GPU available: True (cuda), used: True\n",
      "I1208 02:27:18.959913 128621095987008 rank_zero.py:63] GPU available: True (cuda), used: True\n",
      "INFO: TPU available: False, using: 0 TPU cores\n",
      "I1208 02:27:18.961236 128621095987008 rank_zero.py:63] TPU available: False, using: 0 TPU cores\n",
      "INFO: IPU available: False, using: 0 IPUs\n",
      "I1208 02:27:18.962811 128621095987008 rank_zero.py:63] IPU available: False, using: 0 IPUs\n",
      "INFO: HPU available: False, using: 0 HPUs\n",
      "I1208 02:27:18.963886 128621095987008 rank_zero.py:63] HPU available: False, using: 0 HPUs\n",
      "INFO: `Trainer(val_check_interval=1.0)` was configured so validation will run at the end of the training epoch..\n",
      "I1208 02:27:18.965046 128621095987008 rank_zero.py:63] `Trainer(val_check_interval=1.0)` was configured so validation will run at the end of the training epoch..\n"
     ]
    }
   ],
   "source": [
    "# lets modify some trainer configs\n",
    "# checks if we have GPU available and uses it\n",
    "accelerator = 'gpu' if torch.cuda.is_available() else 'cpu'\n",
    "config.trainer.devices = 1\n",
    "config.trainer.accelerator = accelerator\n",
    "config.trainer.precision = 16 if torch.cuda.is_available() else 32\n",
    "\n",
    "# For mixed precision training, use precision=16 and amp_level=O1\n",
    "\n",
    "# Reduces maximum number of epochs to 1 for a quick training\n",
    "config.trainer.max_epochs = 15\n",
    "\n",
    "# Remove distributed training flags\n",
    "config.trainer.strategy = 'auto'\n",
    "\n",
    "trainer = Trainer(**config.trainer)"
   ]
  },
  {
   "cell_type": "markdown",
   "metadata": {
    "colab_type": "text",
    "id": "8IlEMdVxdr6p"
   },
   "source": [
    "# Setting up a NeMo Experiment¶\n",
    "\n",
    "NeMo has an experiment manager that handles logging and checkpointing for us, so let's use it!"
   ]
  },
  {
   "cell_type": "code",
   "execution_count": 21,
   "metadata": {
    "colab": {},
    "colab_type": "code",
    "id": "8uztqGAmdrYt"
   },
   "outputs": [
    {
     "name": "stdout",
     "output_type": "stream",
     "text": [
      "[NeMo I 2024-12-08 02:28:05 exp_manager:396] Experiments will be logged at /workspace/NeMo-W/tutorials/nlp/nemo_experiments/Punctuation_and_Capitalization/2024-12-08_02-24-38\n",
      "[NeMo I 2024-12-08 02:28:05 exp_manager:856] TensorboardLogger has been set up\n"
     ]
    },
    {
     "data": {
      "text/plain": [
       "'/workspace/NeMo-W/tutorials/nlp/nemo_experiments/Punctuation_and_Capitalization/2024-12-08_02-24-38'"
      ]
     },
     "execution_count": 21,
     "metadata": {},
     "output_type": "execute_result"
    }
   ],
   "source": [
    "exp_dir = exp_manager(trainer, config.get(\"exp_manager\", None))\n",
    "\n",
    "# the exp_dir provides a path to the current experiment for easy access\n",
    "exp_dir = str(exp_dir)\n",
    "exp_dir"
   ]
  },
  {
   "cell_type": "markdown",
   "metadata": {
    "colab_type": "text",
    "id": "6FI_nQsJo_11"
   },
   "source": [
    "# Model Training"
   ]
  },
  {
   "cell_type": "markdown",
   "metadata": {
    "colab_type": "text",
    "id": "8tjLhUvL_o7_"
   },
   "source": [
    "Before initializing the model, we might want to modify some of the model configs. For example, we might want to modify the pretrained BERT model."
   ]
  },
  {
   "cell_type": "code",
   "execution_count": 22,
   "metadata": {
    "colab": {},
    "colab_type": "code",
    "id": "Xeuc2i7Y_nP5"
   },
   "outputs": [
    {
     "name": "stdout",
     "output_type": "stream",
     "text": [
      "['google-bert/bert-base-uncased', 'google-bert/bert-large-uncased', 'google-bert/bert-base-cased', 'google-bert/bert-large-cased', 'google-bert/bert-base-multilingual-uncased', 'google-bert/bert-base-multilingual-cased', 'google-bert/bert-base-chinese', 'google-bert/bert-base-german-cased', 'google-bert/bert-large-uncased-whole-word-masking', 'google-bert/bert-large-cased-whole-word-masking', 'google-bert/bert-large-uncased-whole-word-masking-finetuned-squad', 'google-bert/bert-large-cased-whole-word-masking-finetuned-squad', 'google-bert/bert-base-cased-finetuned-mrpc', 'google-bert/bert-base-german-dbmdz-cased', 'google-bert/bert-base-german-dbmdz-uncased', 'cl-tohoku/bert-base-japanese', 'cl-tohoku/bert-base-japanese-whole-word-masking', 'cl-tohoku/bert-base-japanese-char', 'cl-tohoku/bert-base-japanese-char-whole-word-masking', 'TurkuNLP/bert-base-finnish-cased-v1', 'TurkuNLP/bert-base-finnish-uncased-v1', 'wietsedv/bert-base-dutch-cased', 'distilbert-base-uncased', 'distilbert-base-uncased-distilled-squad', 'distilbert-base-cased', 'distilbert-base-cased-distilled-squad', 'distilbert-base-german-cased', 'distilbert-base-multilingual-cased', 'distilbert-base-uncased-finetuned-sst-2-english', 'almanach/camembert-base', 'Musixmatch/umberto-commoncrawl-cased-v1', 'Musixmatch/umberto-wikipedia-uncased-v1', 'FacebookAI/roberta-base', 'FacebookAI/roberta-large', 'FacebookAI/roberta-large-mnli', 'distilbert/distilroberta-base', 'openai-community/roberta-base-openai-detector', 'openai-community/roberta-large-openai-detector', 'albert/albert-base-v1', 'albert/albert-large-v1', 'albert/albert-xlarge-v1', 'albert/albert-xxlarge-v1', 'albert/albert-base-v2', 'albert/albert-large-v2', 'albert/albert-xlarge-v2', 'albert/albert-xxlarge-v2', 'openai-community/gpt2', 'openai-community/gpt2-medium', 'openai-community/gpt2-large', 'openai-community/gpt2-xl', 'distilbert/distilgpt2']\n"
     ]
    }
   ],
   "source": [
    "# complete list of supported BERT-like models\n",
    "print(nemo_nlp.modules.get_pretrained_lm_models_list())\n",
    "\n",
    "PRETRAINED_BERT_MODEL = \"bert-base-uncased\""
   ]
  },
  {
   "cell_type": "code",
   "execution_count": 23,
   "metadata": {
    "colab": {},
    "colab_type": "code",
    "id": "RK2xglXyAUOO"
   },
   "outputs": [],
   "source": [
    "# add the specified above model parameters to the config\n",
    "config.model.language_model.pretrained_model_name = PRETRAINED_BERT_MODEL\n",
    "config.model.train_ds.tokens_in_batch = TOKENS_IN_BATCH\n",
    "config.model.validation_ds.tokens_in_batch = TOKENS_IN_BATCH\n",
    "config.model.optim.lr = LEARNING_RATE\n",
    "config.model.train_ds.num_samples = NUM_SAMPLES\n",
    "config.model.validation_ds.num_samples = NUM_SAMPLES\n"
   ]
  },
  {
   "cell_type": "markdown",
   "metadata": {
    "colab_type": "text",
    "id": "gYKcziSsiAAd"
   },
   "source": [
    "Now, we are ready to initialize our model. During the model initialization call, the dataset and data loaders we'll be prepared for training and evaluation.\n",
    "Also, the pretrained BERT model will be downloaded, note it can take up to a few minutes depending on the size of the chosen BERT model."
   ]
  },
  {
   "cell_type": "code",
   "execution_count": 24,
   "metadata": {
    "colab": {},
    "colab_type": "code",
    "id": "Yk2hJssviAAe",
    "pycharm": {
     "name": "#%%\n"
    },
    "scrolled": false
   },
   "outputs": [
    {
     "name": "stdout",
     "output_type": "stream",
     "text": [
      "[NeMo I 2024-12-08 02:28:13 tokenizer_utils:128] Getting HuggingFace AutoTokenizer with pretrained_model_name: bert-base-uncased, vocab_file: /root/.cache/huggingface/nemo_nlp_tmp/ae0d012864bdb2474ba67537c3f5e0fa/vocab.txt, merges_files: None, special_tokens_dict: {}, and use_fast: False\n"
     ]
    },
    {
     "name": "stderr",
     "output_type": "stream",
     "text": [
      "[NeMo W 2024-12-08 02:28:13 nemo_logging:349] /usr/local/lib/python3.10/dist-packages/huggingface_hub/file_download.py:1132: FutureWarning: `resume_download` is deprecated and will be removed in version 1.0.0. Downloads always resume when possible. If you want to force a new download, use `force_download=True`.\n",
      "      warnings.warn(\n",
      "    \n",
      "[NeMo W 2024-12-08 02:28:13 modelPT:272] You tried to register an artifact under config key=tokenizer.vocab_file but an artifact for it has already been registered.\n"
     ]
    },
    {
     "name": "stdout",
     "output_type": "stream",
     "text": [
      "[NeMo I 2024-12-08 02:28:13 punctuation_capitalization_dataset:1192] Features restored from /workspace/datasets/punc_restore/cached.__text_train.txt__labels_train.txt__.BertTokenizer.max_seq_length512.vocab30522.num_samples10000.punctuation_capitalization.pkl\n"
     ]
    },
    {
     "name": "stderr",
     "output_type": "stream",
     "text": [
      "Batch mark up:   0%|          | 0/10000 [00:00<?, ?query/s][NeMo W 2024-12-08 02:28:13 punctuation_capitalization_dataset:1572] Could not create batch with multiple of 8 size. Probably, there is a too long sequence in the dataset or parameter `tokens_in_batch` is too small. Current length of sequences in batch is 144. Batch size will be reduced to 7. tokens_in_batch=1024. The batch includes sequences from 9984 to 9990.\n",
      "[NeMo W 2024-12-08 02:28:13 punctuation_capitalization_dataset:1572] Could not create batch with multiple of 8 size. Probably, there is a too long sequence in the dataset or parameter `tokens_in_batch` is too small. Current length of sequences in batch is 184. Batch size will be reduced to 5. tokens_in_batch=1024. The batch includes sequences from 9991 to 9995.\n",
      "[NeMo W 2024-12-08 02:28:13 punctuation_capitalization_dataset:1572] Could not create batch with multiple of 8 size. Probably, there is a too long sequence in the dataset or parameter `tokens_in_batch` is too small. Current length of sequences in batch is 280. Batch size will be reduced to 3. tokens_in_batch=1024. The batch includes sequences from 9996 to 9998.\n",
      "Batch mark up: 100%|██████████| 10000/10000 [00:00<00:00, 706159.34query/s]\n",
      "Batch building: 100%|██████████| 390/390 [00:00<00:00, 1653.24batch/s]\n"
     ]
    },
    {
     "name": "stdout",
     "output_type": "stream",
     "text": [
      "[NeMo I 2024-12-08 02:28:13 punctuation_capitalization_dataset:1192] Features restored from /workspace/datasets/punc_restore/cached.__text_dev.txt__labels_dev.txt__.BertTokenizer.max_seq_length512.vocab30522.num_samples10000.punctuation_capitalization.pkl\n"
     ]
    },
    {
     "name": "stderr",
     "output_type": "stream",
     "text": [
      "Batch mark up:   0%|          | 0/10000 [00:00<?, ?query/s][NeMo W 2024-12-08 02:28:13 punctuation_capitalization_dataset:1572] Could not create batch with multiple of 8 size. Probably, there is a too long sequence in the dataset or parameter `tokens_in_batch` is too small. Current length of sequences in batch is 136. Batch size will be reduced to 7. tokens_in_batch=1024. The batch includes sequences from 9968 to 9974.\n",
      "[NeMo W 2024-12-08 02:28:13 punctuation_capitalization_dataset:1572] Could not create batch with multiple of 8 size. Probably, there is a too long sequence in the dataset or parameter `tokens_in_batch` is too small. Current length of sequences in batch is 160. Batch size will be reduced to 6. tokens_in_batch=1024. The batch includes sequences from 9975 to 9980.\n",
      "[NeMo W 2024-12-08 02:28:13 punctuation_capitalization_dataset:1572] Could not create batch with multiple of 8 size. Probably, there is a too long sequence in the dataset or parameter `tokens_in_batch` is too small. Current length of sequences in batch is 176. Batch size will be reduced to 5. tokens_in_batch=1024. The batch includes sequences from 9981 to 9985.\n",
      "[NeMo W 2024-12-08 02:28:13 punctuation_capitalization_dataset:1572] Could not create batch with multiple of 8 size. Probably, there is a too long sequence in the dataset or parameter `tokens_in_batch` is too small. Current length of sequences in batch is 184. Batch size will be reduced to 5. tokens_in_batch=1024. The batch includes sequences from 9986 to 9990.\n",
      "[NeMo W 2024-12-08 02:28:13 punctuation_capitalization_dataset:1572] Could not create batch with multiple of 8 size. Probably, there is a too long sequence in the dataset or parameter `tokens_in_batch` is too small. Current length of sequences in batch is 224. Batch size will be reduced to 5. tokens_in_batch=1024. The batch includes sequences from 9991 to 9995.\n",
      "[NeMo W 2024-12-08 02:28:13 punctuation_capitalization_dataset:1572] Could not create batch with multiple of 8 size. Probably, there is a too long sequence in the dataset or parameter `tokens_in_batch` is too small. Current length of sequences in batch is 320. Batch size will be reduced to 3. tokens_in_batch=1024. The batch includes sequences from 9996 to 9998.\n",
      "Batch mark up: 100%|██████████| 10000/10000 [00:00<00:00, 590057.26query/s]\n",
      "Batch building: 100%|██████████| 346/346 [00:00<00:00, 1461.13batch/s]\n",
      "[NeMo W 2024-12-08 02:28:14 lm_utils:91] bert-base-uncased is not in get_pretrained_lm_models_list(include_external=False), will be using AutoModel from HuggingFace.\n"
     ]
    }
   ],
   "source": [
    "# initialize the model\n",
    "# during this stage, the dataset and data loaders we'll be prepared for training and evaluation\n",
    "model = nemo_nlp.models.PunctuationCapitalizationModel(cfg=config.model, trainer=trainer)"
   ]
  },
  {
   "cell_type": "markdown",
   "metadata": {
    "colab_type": "text",
    "id": "kQ592Tx4pzyB"
   },
   "source": [
    "## Monitoring training progress\n",
    "Optionally, you can create a Tensorboard visualization to monitor training progress."
   ]
  },
  {
   "cell_type": "code",
   "execution_count": 25,
   "metadata": {
    "colab": {},
    "colab_type": "code",
    "id": "mTJr16_pp0aS"
   },
   "outputs": [
    {
     "name": "stdout",
     "output_type": "stream",
     "text": [
      "To use tensorboard, please use this notebook in a Google Colab environment.\n"
     ]
    }
   ],
   "source": [
    "try:\n",
    "  from google import colab\n",
    "  COLAB_ENV = True\n",
    "except (ImportError, ModuleNotFoundError):\n",
    "  COLAB_ENV = False\n",
    "\n",
    "# Load the TensorBoard notebook extension\n",
    "if COLAB_ENV:\n",
    "  %load_ext tensorboard\n",
    "  %tensorboard --logdir {exp_dir}\n",
    "else:\n",
    "  print(\"To use tensorboard, please use this notebook in a Google Colab environment.\")"
   ]
  },
  {
   "cell_type": "code",
   "execution_count": 26,
   "metadata": {
    "colab": {},
    "colab_type": "code",
    "id": "hUvnSpyjp0Dh"
   },
   "outputs": [
    {
     "name": "stderr",
     "output_type": "stream",
     "text": [
      "LOCAL_RANK: 0 - CUDA_VISIBLE_DEVICES: [0]\n"
     ]
    },
    {
     "name": "stdout",
     "output_type": "stream",
     "text": [
      "[NeMo I 2024-12-08 02:28:18 modelPT:770] Optimizer config = Adam (\n",
      "    Parameter Group 0\n",
      "        amsgrad: False\n",
      "        betas: (0.9, 0.999)\n",
      "        capturable: False\n",
      "        differentiable: False\n",
      "        eps: 1e-08\n",
      "        foreach: None\n",
      "        fused: None\n",
      "        lr: 2e-05\n",
      "        maximize: False\n",
      "        weight_decay: 0.0\n",
      "    )\n",
      "[NeMo I 2024-12-08 02:28:18 lr_scheduler:923] Scheduler \"<nemo.core.optim.lr_scheduler.WarmupAnnealing object at 0x74f944821d20>\" \n",
      "    will be used during training (effective maximum steps = 5850) - \n",
      "    Parameters : \n",
      "    (warmup_steps: null\n",
      "    warmup_ratio: 0.1\n",
      "    last_epoch: -1\n",
      "    max_steps: 5850\n",
      "    )\n"
     ]
    },
    {
     "name": "stderr",
     "output_type": "stream",
     "text": [
      "\n",
      "  | Name             | Type             | Params\n",
      "------------------------------------------------------\n",
      "0 | metrics          | ModuleDict       | 0     \n",
      "1 | bert_model       | BertEncoder      | 109 M \n",
      "2 | punct_classifier | TokenClassifier  | 3.1 K \n",
      "3 | capit_classifier | TokenClassifier  | 1.5 K \n",
      "4 | loss             | CrossEntropyLoss | 0     \n",
      "5 | agg_loss         | AggregatorLoss   | 0     \n",
      "------------------------------------------------------\n",
      "109 M     Trainable params\n",
      "0         Non-trainable params\n",
      "109 M     Total params\n",
      "437.947   Total estimated model params size (MB)\n"
     ]
    },
    {
     "data": {
      "application/json": {
       "ascii": false,
       "bar_format": "{l_bar}{bar}| {n_fmt}/{total_fmt} [{elapsed}<{remaining}, {rate_noinv_fmt}{postfix}]",
       "colour": null,
       "elapsed": 0.006703853607177734,
       "initial": 0,
       "n": 0,
       "ncols": null,
       "nrows": null,
       "postfix": null,
       "prefix": "Sanity Checking",
       "rate": null,
       "total": null,
       "unit": "it",
       "unit_divisor": 1000,
       "unit_scale": false
      },
      "application/vnd.jupyter.widget-view+json": {
       "model_id": "8d0233dfd2724bc28e7d973ab3ccfdc5",
       "version_major": 2,
       "version_minor": 0
      },
      "text/plain": [
       "Sanity Checking: |          | 0/? [00:00<?, ?it/s]"
      ]
     },
     "metadata": {},
     "output_type": "display_data"
    },
    {
     "name": "stdout",
     "output_type": "stream",
     "text": [
      "[NeMo I 2024-12-08 02:28:19 punctuation_capitalization_model:342] Punctuation report: \n",
      "    label                                                precision    recall       f1           support   \n",
      "    O (label_id: 0)                                        100.00       3.72       7.17        269\n",
      "    , (label_id: 1)                                          5.04      68.42       9.39         19\n",
      "    . (label_id: 2)                                          0.00       0.00       0.00         55\n",
      "    ? (label_id: 3)                                          1.19       9.09       2.11         11\n",
      "    -------------------\n",
      "    micro avg                                                6.78       6.78       6.78        354\n",
      "    macro avg                                               26.56      20.31       4.67        354\n",
      "    weighted avg                                            76.30       6.78       6.02        354\n",
      "    \n",
      "[NeMo I 2024-12-08 02:28:19 punctuation_capitalization_model:343] Capitalization report: \n",
      "    label                                                precision    recall       f1           support   \n",
      "    O (label_id: 0)                                         79.71      95.09      86.72        285\n",
      "    U (label_id: 1)                                          0.00       0.00       0.00         69\n",
      "    -------------------\n",
      "    micro avg                                               76.55      76.55      76.55        354\n",
      "    macro avg                                               39.85      47.54      43.36        354\n",
      "    weighted avg                                            64.17      76.55      69.82        354\n",
      "    \n"
     ]
    },
    {
     "data": {
      "application/json": {
       "ascii": false,
       "bar_format": "{l_bar}{bar}| {n_fmt}/{total_fmt} [{elapsed}<{remaining}, {rate_noinv_fmt}{postfix}]",
       "colour": null,
       "elapsed": 0.012415885925292969,
       "initial": 0,
       "n": 0,
       "ncols": null,
       "nrows": null,
       "postfix": null,
       "prefix": "Training",
       "rate": null,
       "total": null,
       "unit": "it",
       "unit_divisor": 1000,
       "unit_scale": false
      },
      "application/vnd.jupyter.widget-view+json": {
       "model_id": "ae8581e0eab143f9988adf809b025aec",
       "version_major": 2,
       "version_minor": 0
      },
      "text/plain": [
       "Training: |          | 0/? [00:00<?, ?it/s]"
      ]
     },
     "metadata": {},
     "output_type": "display_data"
    },
    {
     "name": "stdout",
     "output_type": "stream",
     "text": [
      "[NeMo I 2024-12-08 02:28:19 preemption:56] Preemption requires torch distributed to be initialized, disabling preemption\n"
     ]
    },
    {
     "data": {
      "application/json": {
       "ascii": false,
       "bar_format": "{l_bar}{bar}| {n_fmt}/{total_fmt} [{elapsed}<{remaining}, {rate_noinv_fmt}{postfix}]",
       "colour": null,
       "elapsed": 0.010059118270874023,
       "initial": 0,
       "n": 0,
       "ncols": null,
       "nrows": null,
       "postfix": null,
       "prefix": "Validation",
       "rate": null,
       "total": null,
       "unit": "it",
       "unit_divisor": 1000,
       "unit_scale": false
      },
      "application/vnd.jupyter.widget-view+json": {
       "model_id": "ff0fe2c6efef4ebd8621d9f4637bbea4",
       "version_major": 2,
       "version_minor": 0
      },
      "text/plain": [
       "Validation: |          | 0/? [00:00<?, ?it/s]"
      ]
     },
     "metadata": {},
     "output_type": "display_data"
    },
    {
     "name": "stdout",
     "output_type": "stream",
     "text": [
      "[NeMo I 2024-12-08 02:29:05 punctuation_capitalization_model:342] Punctuation report: \n",
      "    label                                                precision    recall       f1           support   \n",
      "    O (label_id: 0)                                         95.13      99.26      97.15      43398\n",
      "    , (label_id: 1)                                         76.97      39.62      52.31       3281\n",
      "    . (label_id: 2)                                         82.05      97.05      88.92       8461\n",
      "    ? (label_id: 3)                                          0.00       0.00       0.00       1835\n",
      "    -------------------\n",
      "    micro avg                                               92.30      92.30      92.30      56975\n",
      "    macro avg                                               63.54      58.98      59.60      56975\n",
      "    weighted avg                                            89.08      92.30      90.22      56975\n",
      "    \n",
      "[NeMo I 2024-12-08 02:29:05 punctuation_capitalization_model:343] Capitalization report: \n",
      "    label                                                precision    recall       f1           support   \n",
      "    O (label_id: 0)                                         97.73      99.76      98.74      45887\n",
      "    U (label_id: 1)                                         98.93      90.42      94.49      11088\n",
      "    -------------------\n",
      "    micro avg                                               97.95      97.95      97.95      56975\n",
      "    macro avg                                               98.33      95.09      96.61      56975\n",
      "    weighted avg                                            97.97      97.95      97.91      56975\n",
      "    \n"
     ]
    },
    {
     "name": "stderr",
     "output_type": "stream",
     "text": [
      "INFO: Epoch 0, global step 390: 'val_loss' reached 0.36746 (best 0.36746), saving model to '/workspace/NeMo-W/tutorials/nlp/nemo_experiments/Punctuation_and_Capitalization/2024-12-08_02-24-38/checkpoints/Punctuation_and_Capitalization--val_loss=0.3675-epoch=0.ckpt' as top 3\n",
      "I1208 02:29:05.809089 128621095987008 rank_zero.py:63] Epoch 0, global step 390: 'val_loss' reached 0.36746 (best 0.36746), saving model to '/workspace/NeMo-W/tutorials/nlp/nemo_experiments/Punctuation_and_Capitalization/2024-12-08_02-24-38/checkpoints/Punctuation_and_Capitalization--val_loss=0.3675-epoch=0.ckpt' as top 3\n"
     ]
    },
    {
     "name": "stdout",
     "output_type": "stream",
     "text": [
      "[NeMo I 2024-12-08 02:29:11 punctuation_capitalization_dataset:1821] Shuffling training dataset\n"
     ]
    },
    {
     "name": "stderr",
     "output_type": "stream",
     "text": [
      "[NeMo W 2024-12-08 02:29:11 punctuation_capitalization_dataset:1572] Could not create batch with multiple of 8 size. Probably, there is a too long sequence in the dataset or parameter `tokens_in_batch` is too small. Current length of sequences in batch is 144. Batch size will be reduced to 7. tokens_in_batch=1024. The batch includes sequences from 9984 to 9990.\n",
      "[NeMo W 2024-12-08 02:29:11 punctuation_capitalization_dataset:1572] Could not create batch with multiple of 8 size. Probably, there is a too long sequence in the dataset or parameter `tokens_in_batch` is too small. Current length of sequences in batch is 184. Batch size will be reduced to 5. tokens_in_batch=1024. The batch includes sequences from 9991 to 9995.\n",
      "[NeMo W 2024-12-08 02:29:11 punctuation_capitalization_dataset:1572] Could not create batch with multiple of 8 size. Probably, there is a too long sequence in the dataset or parameter `tokens_in_batch` is too small. Current length of sequences in batch is 280. Batch size will be reduced to 3. tokens_in_batch=1024. The batch includes sequences from 9996 to 9998.\n",
      "Batch mark up: 100%|██████████| 10000/10000 [00:00<00:00, 689750.53query/s]\n",
      "Batch building: 100%|██████████| 390/390 [00:00<00:00, 1503.84batch/s]\n"
     ]
    },
    {
     "data": {
      "application/json": {
       "ascii": false,
       "bar_format": "{l_bar}{bar}| {n_fmt}/{total_fmt} [{elapsed}<{remaining}, {rate_noinv_fmt}{postfix}]",
       "colour": null,
       "elapsed": 0.0062520503997802734,
       "initial": 0,
       "n": 0,
       "ncols": null,
       "nrows": null,
       "postfix": null,
       "prefix": "Validation",
       "rate": null,
       "total": null,
       "unit": "it",
       "unit_divisor": 1000,
       "unit_scale": false
      },
      "application/vnd.jupyter.widget-view+json": {
       "model_id": "24974fbdfc244b6daf2235200d833164",
       "version_major": 2,
       "version_minor": 0
      },
      "text/plain": [
       "Validation: |          | 0/? [00:00<?, ?it/s]"
      ]
     },
     "metadata": {},
     "output_type": "display_data"
    },
    {
     "name": "stdout",
     "output_type": "stream",
     "text": [
      "[NeMo I 2024-12-08 02:29:58 punctuation_capitalization_model:342] Punctuation report: \n",
      "    label                                                precision    recall       f1           support   \n",
      "    O (label_id: 0)                                         96.67      98.70      97.68      43398\n",
      "    , (label_id: 1)                                         75.39      60.59      67.18       3281\n",
      "    . (label_id: 2)                                         88.68      93.75      91.14       8461\n",
      "    ? (label_id: 3)                                         73.15      43.22      54.33       1835\n",
      "    -------------------\n",
      "    micro avg                                               93.98      93.98      93.98      56975\n",
      "    macro avg                                               83.47      74.06      77.58      56975\n",
      "    weighted avg                                            93.50      93.98      93.55      56975\n",
      "    \n",
      "[NeMo I 2024-12-08 02:29:58 punctuation_capitalization_model:343] Capitalization report: \n",
      "    label                                                precision    recall       f1           support   \n",
      "    O (label_id: 0)                                         97.84      99.96      98.89      45887\n",
      "    U (label_id: 1)                                         99.83      90.86      95.14      11088\n",
      "    -------------------\n",
      "    micro avg                                               98.19      98.19      98.19      56975\n",
      "    macro avg                                               98.84      95.41      97.01      56975\n",
      "    weighted avg                                            98.23      98.19      98.16      56975\n",
      "    \n"
     ]
    },
    {
     "name": "stderr",
     "output_type": "stream",
     "text": [
      "INFO: Epoch 1, global step 780: 'val_loss' reached 0.28612 (best 0.28612), saving model to '/workspace/NeMo-W/tutorials/nlp/nemo_experiments/Punctuation_and_Capitalization/2024-12-08_02-24-38/checkpoints/Punctuation_and_Capitalization--val_loss=0.2861-epoch=1.ckpt' as top 3\n",
      "I1208 02:29:58.304861 128621095987008 rank_zero.py:63] Epoch 1, global step 780: 'val_loss' reached 0.28612 (best 0.28612), saving model to '/workspace/NeMo-W/tutorials/nlp/nemo_experiments/Punctuation_and_Capitalization/2024-12-08_02-24-38/checkpoints/Punctuation_and_Capitalization--val_loss=0.2861-epoch=1.ckpt' as top 3\n"
     ]
    },
    {
     "name": "stdout",
     "output_type": "stream",
     "text": [
      "[NeMo I 2024-12-08 02:30:04 punctuation_capitalization_dataset:1821] Shuffling training dataset\n"
     ]
    },
    {
     "name": "stderr",
     "output_type": "stream",
     "text": [
      "[NeMo W 2024-12-08 02:30:04 punctuation_capitalization_dataset:1572] Could not create batch with multiple of 8 size. Probably, there is a too long sequence in the dataset or parameter `tokens_in_batch` is too small. Current length of sequences in batch is 144. Batch size will be reduced to 7. tokens_in_batch=1024. The batch includes sequences from 9984 to 9990.\n",
      "[NeMo W 2024-12-08 02:30:04 punctuation_capitalization_dataset:1572] Could not create batch with multiple of 8 size. Probably, there is a too long sequence in the dataset or parameter `tokens_in_batch` is too small. Current length of sequences in batch is 184. Batch size will be reduced to 5. tokens_in_batch=1024. The batch includes sequences from 9991 to 9995.\n",
      "[NeMo W 2024-12-08 02:30:04 punctuation_capitalization_dataset:1572] Could not create batch with multiple of 8 size. Probably, there is a too long sequence in the dataset or parameter `tokens_in_batch` is too small. Current length of sequences in batch is 280. Batch size will be reduced to 3. tokens_in_batch=1024. The batch includes sequences from 9996 to 9998.\n",
      "Batch mark up: 100%|██████████| 10000/10000 [00:00<00:00, 695492.07query/s]\n",
      "Batch building: 100%|██████████| 390/390 [00:00<00:00, 1530.79batch/s]\n"
     ]
    },
    {
     "data": {
      "application/json": {
       "ascii": false,
       "bar_format": "{l_bar}{bar}| {n_fmt}/{total_fmt} [{elapsed}<{remaining}, {rate_noinv_fmt}{postfix}]",
       "colour": null,
       "elapsed": 0.009356498718261719,
       "initial": 0,
       "n": 0,
       "ncols": null,
       "nrows": null,
       "postfix": null,
       "prefix": "Validation",
       "rate": null,
       "total": null,
       "unit": "it",
       "unit_divisor": 1000,
       "unit_scale": false
      },
      "application/vnd.jupyter.widget-view+json": {
       "model_id": "85254a16b7264e4a8f40d1659caeb09a",
       "version_major": 2,
       "version_minor": 0
      },
      "text/plain": [
       "Validation: |          | 0/? [00:00<?, ?it/s]"
      ]
     },
     "metadata": {},
     "output_type": "display_data"
    },
    {
     "name": "stdout",
     "output_type": "stream",
     "text": [
      "[NeMo I 2024-12-08 02:30:50 punctuation_capitalization_model:342] Punctuation report: \n",
      "    label                                                precision    recall       f1           support   \n",
      "    O (label_id: 0)                                         97.18      97.92      97.55      43398\n",
      "    , (label_id: 1)                                         69.30      66.75      68.00       3281\n",
      "    . (label_id: 2)                                         90.68      93.44      92.04       8461\n",
      "    ? (label_id: 3)                                         75.93      56.57      64.83       1835\n",
      "    -------------------\n",
      "    micro avg                                               94.13      94.13      94.13      56975\n",
      "    macro avg                                               83.27      78.67      80.61      56975\n",
      "    weighted avg                                            93.93      94.13      93.98      56975\n",
      "    \n",
      "[NeMo I 2024-12-08 02:30:50 punctuation_capitalization_model:343] Capitalization report: \n",
      "    label                                                precision    recall       f1           support   \n",
      "    O (label_id: 0)                                         97.99      99.92      98.95      45887\n",
      "    U (label_id: 1)                                         99.64      91.53      95.41      11088\n",
      "    -------------------\n",
      "    micro avg                                               98.29      98.29      98.29      56975\n",
      "    macro avg                                               98.81      95.73      97.18      56975\n",
      "    weighted avg                                            98.31      98.29      98.26      56975\n",
      "    \n"
     ]
    },
    {
     "name": "stderr",
     "output_type": "stream",
     "text": [
      "INFO: Epoch 2, global step 1170: 'val_loss' reached 0.28180 (best 0.28180), saving model to '/workspace/NeMo-W/tutorials/nlp/nemo_experiments/Punctuation_and_Capitalization/2024-12-08_02-24-38/checkpoints/Punctuation_and_Capitalization--val_loss=0.2818-epoch=2.ckpt' as top 3\n",
      "I1208 02:30:50.795865 128621095987008 rank_zero.py:63] Epoch 2, global step 1170: 'val_loss' reached 0.28180 (best 0.28180), saving model to '/workspace/NeMo-W/tutorials/nlp/nemo_experiments/Punctuation_and_Capitalization/2024-12-08_02-24-38/checkpoints/Punctuation_and_Capitalization--val_loss=0.2818-epoch=2.ckpt' as top 3\n"
     ]
    },
    {
     "name": "stdout",
     "output_type": "stream",
     "text": [
      "[NeMo I 2024-12-08 02:30:56 punctuation_capitalization_dataset:1821] Shuffling training dataset\n"
     ]
    },
    {
     "name": "stderr",
     "output_type": "stream",
     "text": [
      "[NeMo W 2024-12-08 02:30:56 punctuation_capitalization_dataset:1572] Could not create batch with multiple of 8 size. Probably, there is a too long sequence in the dataset or parameter `tokens_in_batch` is too small. Current length of sequences in batch is 144. Batch size will be reduced to 7. tokens_in_batch=1024. The batch includes sequences from 9984 to 9990.\n",
      "[NeMo W 2024-12-08 02:30:56 punctuation_capitalization_dataset:1572] Could not create batch with multiple of 8 size. Probably, there is a too long sequence in the dataset or parameter `tokens_in_batch` is too small. Current length of sequences in batch is 184. Batch size will be reduced to 5. tokens_in_batch=1024. The batch includes sequences from 9991 to 9995.\n",
      "[NeMo W 2024-12-08 02:30:56 punctuation_capitalization_dataset:1572] Could not create batch with multiple of 8 size. Probably, there is a too long sequence in the dataset or parameter `tokens_in_batch` is too small. Current length of sequences in batch is 280. Batch size will be reduced to 3. tokens_in_batch=1024. The batch includes sequences from 9996 to 9998.\n",
      "Batch mark up: 100%|██████████| 10000/10000 [00:00<00:00, 702704.73query/s]\n",
      "Batch building: 100%|██████████| 390/390 [00:00<00:00, 1570.13batch/s]\n"
     ]
    },
    {
     "data": {
      "application/json": {
       "ascii": false,
       "bar_format": "{l_bar}{bar}| {n_fmt}/{total_fmt} [{elapsed}<{remaining}, {rate_noinv_fmt}{postfix}]",
       "colour": null,
       "elapsed": 0.005845308303833008,
       "initial": 0,
       "n": 0,
       "ncols": null,
       "nrows": null,
       "postfix": null,
       "prefix": "Validation",
       "rate": null,
       "total": null,
       "unit": "it",
       "unit_divisor": 1000,
       "unit_scale": false
      },
      "application/vnd.jupyter.widget-view+json": {
       "model_id": "01303b55b5df4b0b8dae30ad428e0735",
       "version_major": 2,
       "version_minor": 0
      },
      "text/plain": [
       "Validation: |          | 0/? [00:00<?, ?it/s]"
      ]
     },
     "metadata": {},
     "output_type": "display_data"
    },
    {
     "name": "stdout",
     "output_type": "stream",
     "text": [
      "[NeMo I 2024-12-08 02:31:43 punctuation_capitalization_model:342] Punctuation report: \n",
      "    label                                                precision    recall       f1           support   \n",
      "    O (label_id: 0)                                         96.85      98.84      97.83      43398\n",
      "    , (label_id: 1)                                         77.54      63.15      69.61       3281\n",
      "    . (label_id: 2)                                         92.91      91.88      92.39       8461\n",
      "    ? (label_id: 3)                                         72.57      65.01      68.58       1835\n",
      "    -------------------\n",
      "    micro avg                                               94.66      94.66      94.66      56975\n",
      "    macro avg                                               84.97      79.72      82.11      56975\n",
      "    weighted avg                                            94.37      94.66      94.46      56975\n",
      "    \n",
      "[NeMo I 2024-12-08 02:31:43 punctuation_capitalization_model:343] Capitalization report: \n",
      "    label                                                precision    recall       f1           support   \n",
      "    O (label_id: 0)                                         98.32      99.70      99.00      45887\n",
      "    U (label_id: 1)                                         98.67      92.93      95.71      11088\n",
      "    -------------------\n",
      "    micro avg                                               98.38      98.38      98.38      56975\n",
      "    macro avg                                               98.49      96.31      97.36      56975\n",
      "    weighted avg                                            98.38      98.38      98.36      56975\n",
      "    \n"
     ]
    },
    {
     "name": "stderr",
     "output_type": "stream",
     "text": [
      "INFO: Epoch 3, global step 1560: 'val_loss' reached 0.27636 (best 0.27636), saving model to '/workspace/NeMo-W/tutorials/nlp/nemo_experiments/Punctuation_and_Capitalization/2024-12-08_02-24-38/checkpoints/Punctuation_and_Capitalization--val_loss=0.2764-epoch=3.ckpt' as top 3\n",
      "I1208 02:31:43.179659 128621095987008 rank_zero.py:63] Epoch 3, global step 1560: 'val_loss' reached 0.27636 (best 0.27636), saving model to '/workspace/NeMo-W/tutorials/nlp/nemo_experiments/Punctuation_and_Capitalization/2024-12-08_02-24-38/checkpoints/Punctuation_and_Capitalization--val_loss=0.2764-epoch=3.ckpt' as top 3\n"
     ]
    },
    {
     "name": "stdout",
     "output_type": "stream",
     "text": [
      "[NeMo I 2024-12-08 02:31:49 punctuation_capitalization_dataset:1821] Shuffling training dataset\n"
     ]
    },
    {
     "name": "stderr",
     "output_type": "stream",
     "text": [
      "[NeMo W 2024-12-08 02:31:49 punctuation_capitalization_dataset:1572] Could not create batch with multiple of 8 size. Probably, there is a too long sequence in the dataset or parameter `tokens_in_batch` is too small. Current length of sequences in batch is 144. Batch size will be reduced to 7. tokens_in_batch=1024. The batch includes sequences from 9984 to 9990.\n",
      "[NeMo W 2024-12-08 02:31:49 punctuation_capitalization_dataset:1572] Could not create batch with multiple of 8 size. Probably, there is a too long sequence in the dataset or parameter `tokens_in_batch` is too small. Current length of sequences in batch is 184. Batch size will be reduced to 5. tokens_in_batch=1024. The batch includes sequences from 9991 to 9995.\n",
      "[NeMo W 2024-12-08 02:31:49 punctuation_capitalization_dataset:1572] Could not create batch with multiple of 8 size. Probably, there is a too long sequence in the dataset or parameter `tokens_in_batch` is too small. Current length of sequences in batch is 280. Batch size will be reduced to 3. tokens_in_batch=1024. The batch includes sequences from 9996 to 9998.\n",
      "Batch mark up: 100%|██████████| 10000/10000 [00:00<00:00, 742302.14query/s]\n",
      "Batch building: 100%|██████████| 390/390 [00:00<00:00, 1534.77batch/s]\n"
     ]
    },
    {
     "data": {
      "application/json": {
       "ascii": false,
       "bar_format": "{l_bar}{bar}| {n_fmt}/{total_fmt} [{elapsed}<{remaining}, {rate_noinv_fmt}{postfix}]",
       "colour": null,
       "elapsed": 0.008687734603881836,
       "initial": 0,
       "n": 0,
       "ncols": null,
       "nrows": null,
       "postfix": null,
       "prefix": "Validation",
       "rate": null,
       "total": null,
       "unit": "it",
       "unit_divisor": 1000,
       "unit_scale": false
      },
      "application/vnd.jupyter.widget-view+json": {
       "model_id": "ee587ad5064341c1a75e789d978e404e",
       "version_major": 2,
       "version_minor": 0
      },
      "text/plain": [
       "Validation: |          | 0/? [00:00<?, ?it/s]"
      ]
     },
     "metadata": {},
     "output_type": "display_data"
    },
    {
     "name": "stdout",
     "output_type": "stream",
     "text": [
      "[NeMo I 2024-12-08 02:32:35 punctuation_capitalization_model:342] Punctuation report: \n",
      "    label                                                precision    recall       f1           support   \n",
      "    O (label_id: 0)                                         97.10      98.82      97.95      43398\n",
      "    , (label_id: 1)                                         78.14      66.69      71.96       3281\n",
      "    . (label_id: 2)                                         91.85      93.64      92.74       8461\n",
      "    ? (label_id: 3)                                         78.12      58.96      67.20       1835\n",
      "    -------------------\n",
      "    micro avg                                               94.92      94.92      94.92      56975\n",
      "    macro avg                                               86.30      79.53      82.46      56975\n",
      "    weighted avg                                            94.62      94.92      94.69      56975\n",
      "    \n",
      "[NeMo I 2024-12-08 02:32:35 punctuation_capitalization_model:343] Capitalization report: \n",
      "    label                                                precision    recall       f1           support   \n",
      "    O (label_id: 0)                                         98.29      99.80      99.04      45887\n",
      "    U (label_id: 1)                                         99.11      92.79      95.85      11088\n",
      "    -------------------\n",
      "    micro avg                                               98.44      98.44      98.44      56975\n",
      "    macro avg                                               98.70      96.30      97.44      56975\n",
      "    weighted avg                                            98.45      98.44      98.42      56975\n",
      "    \n"
     ]
    },
    {
     "name": "stderr",
     "output_type": "stream",
     "text": [
      "INFO: Epoch 4, global step 1950: 'val_loss' was not in top 3\n",
      "I1208 02:32:35.788935 128621095987008 rank_zero.py:63] Epoch 4, global step 1950: 'val_loss' was not in top 3\n"
     ]
    },
    {
     "name": "stdout",
     "output_type": "stream",
     "text": [
      "[NeMo I 2024-12-08 02:32:38 punctuation_capitalization_dataset:1821] Shuffling training dataset\n"
     ]
    },
    {
     "name": "stderr",
     "output_type": "stream",
     "text": [
      "[NeMo W 2024-12-08 02:32:38 punctuation_capitalization_dataset:1572] Could not create batch with multiple of 8 size. Probably, there is a too long sequence in the dataset or parameter `tokens_in_batch` is too small. Current length of sequences in batch is 144. Batch size will be reduced to 7. tokens_in_batch=1024. The batch includes sequences from 9984 to 9990.\n",
      "[NeMo W 2024-12-08 02:32:38 punctuation_capitalization_dataset:1572] Could not create batch with multiple of 8 size. Probably, there is a too long sequence in the dataset or parameter `tokens_in_batch` is too small. Current length of sequences in batch is 184. Batch size will be reduced to 5. tokens_in_batch=1024. The batch includes sequences from 9991 to 9995.\n",
      "[NeMo W 2024-12-08 02:32:38 punctuation_capitalization_dataset:1572] Could not create batch with multiple of 8 size. Probably, there is a too long sequence in the dataset or parameter `tokens_in_batch` is too small. Current length of sequences in batch is 280. Batch size will be reduced to 3. tokens_in_batch=1024. The batch includes sequences from 9996 to 9998.\n",
      "Batch mark up: 100%|██████████| 10000/10000 [00:00<00:00, 690772.90query/s]\n",
      "Batch building: 100%|██████████| 390/390 [00:00<00:00, 1669.24batch/s]\n"
     ]
    },
    {
     "data": {
      "application/json": {
       "ascii": false,
       "bar_format": "{l_bar}{bar}| {n_fmt}/{total_fmt} [{elapsed}<{remaining}, {rate_noinv_fmt}{postfix}]",
       "colour": null,
       "elapsed": 0.006089448928833008,
       "initial": 0,
       "n": 0,
       "ncols": null,
       "nrows": null,
       "postfix": null,
       "prefix": "Validation",
       "rate": null,
       "total": null,
       "unit": "it",
       "unit_divisor": 1000,
       "unit_scale": false
      },
      "application/vnd.jupyter.widget-view+json": {
       "model_id": "a339b6e173a64ca7baeb40b254d93c95",
       "version_major": 2,
       "version_minor": 0
      },
      "text/plain": [
       "Validation: |          | 0/? [00:00<?, ?it/s]"
      ]
     },
     "metadata": {},
     "output_type": "display_data"
    },
    {
     "name": "stdout",
     "output_type": "stream",
     "text": [
      "[NeMo I 2024-12-08 02:33:25 punctuation_capitalization_model:342] Punctuation report: \n",
      "    label                                                precision    recall       f1           support   \n",
      "    O (label_id: 0)                                         97.27      98.25      97.75      43398\n",
      "    , (label_id: 1)                                         72.40      68.42      70.35       3281\n",
      "    . (label_id: 2)                                         93.51      90.79      92.13       8461\n",
      "    ? (label_id: 3)                                         69.68      69.26      69.47       1835\n",
      "    -------------------\n",
      "    micro avg                                               94.49      94.49      94.49      56975\n",
      "    macro avg                                               83.21      81.68      82.43      56975\n",
      "    weighted avg                                            94.39      94.49      94.43      56975\n",
      "    \n",
      "[NeMo I 2024-12-08 02:33:25 punctuation_capitalization_model:343] Capitalization report: \n",
      "    label                                                precision    recall       f1           support   \n",
      "    O (label_id: 0)                                         98.39      99.52      98.95      45887\n",
      "    U (label_id: 1)                                         97.93      93.27      95.54      11088\n",
      "    -------------------\n",
      "    micro avg                                               98.31      98.31      98.31      56975\n",
      "    macro avg                                               98.16      96.40      97.25      56975\n",
      "    weighted avg                                            98.30      98.31      98.29      56975\n",
      "    \n"
     ]
    },
    {
     "name": "stderr",
     "output_type": "stream",
     "text": [
      "INFO: Epoch 5, global step 2340: 'val_loss' was not in top 3\n",
      "I1208 02:33:25.085621 128621095987008 rank_zero.py:63] Epoch 5, global step 2340: 'val_loss' was not in top 3\n"
     ]
    },
    {
     "name": "stdout",
     "output_type": "stream",
     "text": [
      "[NeMo I 2024-12-08 02:33:28 punctuation_capitalization_dataset:1821] Shuffling training dataset\n"
     ]
    },
    {
     "name": "stderr",
     "output_type": "stream",
     "text": [
      "[NeMo W 2024-12-08 02:33:28 punctuation_capitalization_dataset:1572] Could not create batch with multiple of 8 size. Probably, there is a too long sequence in the dataset or parameter `tokens_in_batch` is too small. Current length of sequences in batch is 144. Batch size will be reduced to 7. tokens_in_batch=1024. The batch includes sequences from 9984 to 9990.\n",
      "[NeMo W 2024-12-08 02:33:28 punctuation_capitalization_dataset:1572] Could not create batch with multiple of 8 size. Probably, there is a too long sequence in the dataset or parameter `tokens_in_batch` is too small. Current length of sequences in batch is 184. Batch size will be reduced to 5. tokens_in_batch=1024. The batch includes sequences from 9991 to 9995.\n",
      "[NeMo W 2024-12-08 02:33:28 punctuation_capitalization_dataset:1572] Could not create batch with multiple of 8 size. Probably, there is a too long sequence in the dataset or parameter `tokens_in_batch` is too small. Current length of sequences in batch is 280. Batch size will be reduced to 3. tokens_in_batch=1024. The batch includes sequences from 9996 to 9998.\n",
      "Batch mark up: 100%|██████████| 10000/10000 [00:00<00:00, 721278.05query/s]\n",
      "Batch building: 100%|██████████| 390/390 [00:00<00:00, 1440.74batch/s]\n"
     ]
    },
    {
     "data": {
      "application/json": {
       "ascii": false,
       "bar_format": "{l_bar}{bar}| {n_fmt}/{total_fmt} [{elapsed}<{remaining}, {rate_noinv_fmt}{postfix}]",
       "colour": null,
       "elapsed": 0.005620002746582031,
       "initial": 0,
       "n": 0,
       "ncols": null,
       "nrows": null,
       "postfix": null,
       "prefix": "Validation",
       "rate": null,
       "total": null,
       "unit": "it",
       "unit_divisor": 1000,
       "unit_scale": false
      },
      "application/vnd.jupyter.widget-view+json": {
       "model_id": "387ca8cf44ff4b87a4f5769e82f97e77",
       "version_major": 2,
       "version_minor": 0
      },
      "text/plain": [
       "Validation: |          | 0/? [00:00<?, ?it/s]"
      ]
     },
     "metadata": {},
     "output_type": "display_data"
    },
    {
     "name": "stdout",
     "output_type": "stream",
     "text": [
      "[NeMo I 2024-12-08 02:34:14 punctuation_capitalization_model:342] Punctuation report: \n",
      "    label                                                precision    recall       f1           support   \n",
      "    O (label_id: 0)                                         97.43      98.36      97.89      43398\n",
      "    , (label_id: 1)                                         73.46      70.34      71.87       3281\n",
      "    . (label_id: 2)                                         93.57      91.27      92.40       8461\n",
      "    ? (label_id: 3)                                         71.53      68.99      70.24       1835\n",
      "    -------------------\n",
      "    micro avg                                               94.75      94.75      94.75      56975\n",
      "    macro avg                                               84.00      82.24      83.10      56975\n",
      "    weighted avg                                            94.64      94.75      94.69      56975\n",
      "    \n",
      "[NeMo I 2024-12-08 02:34:14 punctuation_capitalization_model:343] Capitalization report: \n",
      "    label                                                precision    recall       f1           support   \n",
      "    O (label_id: 0)                                         98.43      99.70      99.06      45887\n",
      "    U (label_id: 1)                                         98.69      93.41      95.98      11088\n",
      "    -------------------\n",
      "    micro avg                                               98.48      98.48      98.48      56975\n",
      "    macro avg                                               98.56      96.55      97.52      56975\n",
      "    weighted avg                                            98.48      98.48      98.46      56975\n",
      "    \n"
     ]
    },
    {
     "name": "stderr",
     "output_type": "stream",
     "text": [
      "INFO: Epoch 6, global step 2730: 'val_loss' was not in top 3\n",
      "I1208 02:34:14.672870 128621095987008 rank_zero.py:63] Epoch 6, global step 2730: 'val_loss' was not in top 3\n"
     ]
    },
    {
     "name": "stdout",
     "output_type": "stream",
     "text": [
      "[NeMo I 2024-12-08 02:34:17 punctuation_capitalization_dataset:1821] Shuffling training dataset\n"
     ]
    },
    {
     "name": "stderr",
     "output_type": "stream",
     "text": [
      "[NeMo W 2024-12-08 02:34:17 punctuation_capitalization_dataset:1572] Could not create batch with multiple of 8 size. Probably, there is a too long sequence in the dataset or parameter `tokens_in_batch` is too small. Current length of sequences in batch is 144. Batch size will be reduced to 7. tokens_in_batch=1024. The batch includes sequences from 9984 to 9990.\n",
      "[NeMo W 2024-12-08 02:34:17 punctuation_capitalization_dataset:1572] Could not create batch with multiple of 8 size. Probably, there is a too long sequence in the dataset or parameter `tokens_in_batch` is too small. Current length of sequences in batch is 184. Batch size will be reduced to 5. tokens_in_batch=1024. The batch includes sequences from 9991 to 9995.\n",
      "[NeMo W 2024-12-08 02:34:17 punctuation_capitalization_dataset:1572] Could not create batch with multiple of 8 size. Probably, there is a too long sequence in the dataset or parameter `tokens_in_batch` is too small. Current length of sequences in batch is 280. Batch size will be reduced to 3. tokens_in_batch=1024. The batch includes sequences from 9996 to 9998.\n",
      "Batch mark up: 100%|██████████| 10000/10000 [00:00<00:00, 737485.98query/s]\n",
      "Batch building: 100%|██████████| 390/390 [00:00<00:00, 1675.91batch/s]\n"
     ]
    },
    {
     "data": {
      "application/json": {
       "ascii": false,
       "bar_format": "{l_bar}{bar}| {n_fmt}/{total_fmt} [{elapsed}<{remaining}, {rate_noinv_fmt}{postfix}]",
       "colour": null,
       "elapsed": 0.010262727737426758,
       "initial": 0,
       "n": 0,
       "ncols": null,
       "nrows": null,
       "postfix": null,
       "prefix": "Validation",
       "rate": null,
       "total": null,
       "unit": "it",
       "unit_divisor": 1000,
       "unit_scale": false
      },
      "application/vnd.jupyter.widget-view+json": {
       "model_id": "c753bd94884e438c8a7c1543aea847bf",
       "version_major": 2,
       "version_minor": 0
      },
      "text/plain": [
       "Validation: |          | 0/? [00:00<?, ?it/s]"
      ]
     },
     "metadata": {},
     "output_type": "display_data"
    },
    {
     "name": "stdout",
     "output_type": "stream",
     "text": [
      "[NeMo I 2024-12-08 02:35:03 punctuation_capitalization_model:342] Punctuation report: \n",
      "    label                                                precision    recall       f1           support   \n",
      "    O (label_id: 0)                                         97.30      98.21      97.75      43398\n",
      "    , (label_id: 1)                                         72.05      69.22      70.60       3281\n",
      "    . (label_id: 2)                                         91.94      93.67      92.79       8461\n",
      "    ? (label_id: 3)                                         78.25      59.62      67.68       1835\n",
      "    -------------------\n",
      "    micro avg                                               94.62      94.62      94.62      56975\n",
      "    macro avg                                               84.89      80.18      82.21      56975\n",
      "    weighted avg                                            94.44      94.62      94.48      56975\n",
      "    \n",
      "[NeMo I 2024-12-08 02:35:03 punctuation_capitalization_model:343] Capitalization report: \n",
      "    label                                                precision    recall       f1           support   \n",
      "    O (label_id: 0)                                         98.39      99.59      98.99      45887\n",
      "    U (label_id: 1)                                         98.21      93.26      95.67      11088\n",
      "    -------------------\n",
      "    micro avg                                               98.36      98.36      98.36      56975\n",
      "    macro avg                                               98.30      96.43      97.33      56975\n",
      "    weighted avg                                            98.36      98.36      98.34      56975\n",
      "    \n"
     ]
    },
    {
     "name": "stderr",
     "output_type": "stream",
     "text": [
      "INFO: Epoch 7, global step 3120: 'val_loss' was not in top 3\n",
      "I1208 02:35:04.001048 128621095987008 rank_zero.py:63] Epoch 7, global step 3120: 'val_loss' was not in top 3\n"
     ]
    },
    {
     "name": "stdout",
     "output_type": "stream",
     "text": [
      "[NeMo I 2024-12-08 02:35:07 punctuation_capitalization_dataset:1821] Shuffling training dataset\n"
     ]
    },
    {
     "name": "stderr",
     "output_type": "stream",
     "text": [
      "[NeMo W 2024-12-08 02:35:07 punctuation_capitalization_dataset:1572] Could not create batch with multiple of 8 size. Probably, there is a too long sequence in the dataset or parameter `tokens_in_batch` is too small. Current length of sequences in batch is 144. Batch size will be reduced to 7. tokens_in_batch=1024. The batch includes sequences from 9984 to 9990.\n",
      "[NeMo W 2024-12-08 02:35:07 punctuation_capitalization_dataset:1572] Could not create batch with multiple of 8 size. Probably, there is a too long sequence in the dataset or parameter `tokens_in_batch` is too small. Current length of sequences in batch is 184. Batch size will be reduced to 5. tokens_in_batch=1024. The batch includes sequences from 9991 to 9995.\n",
      "[NeMo W 2024-12-08 02:35:07 punctuation_capitalization_dataset:1572] Could not create batch with multiple of 8 size. Probably, there is a too long sequence in the dataset or parameter `tokens_in_batch` is too small. Current length of sequences in batch is 280. Batch size will be reduced to 3. tokens_in_batch=1024. The batch includes sequences from 9996 to 9998.\n",
      "Batch mark up: 100%|██████████| 10000/10000 [00:00<00:00, 718966.03query/s]\n",
      "Batch building: 100%|██████████| 390/390 [00:00<00:00, 1523.40batch/s]\n"
     ]
    },
    {
     "data": {
      "application/json": {
       "ascii": false,
       "bar_format": "{l_bar}{bar}| {n_fmt}/{total_fmt} [{elapsed}<{remaining}, {rate_noinv_fmt}{postfix}]",
       "colour": null,
       "elapsed": 0.006856203079223633,
       "initial": 0,
       "n": 0,
       "ncols": null,
       "nrows": null,
       "postfix": null,
       "prefix": "Validation",
       "rate": null,
       "total": null,
       "unit": "it",
       "unit_divisor": 1000,
       "unit_scale": false
      },
      "application/vnd.jupyter.widget-view+json": {
       "model_id": "a558b688aa254fb3b53a18dbd3cd733e",
       "version_major": 2,
       "version_minor": 0
      },
      "text/plain": [
       "Validation: |          | 0/? [00:00<?, ?it/s]"
      ]
     },
     "metadata": {},
     "output_type": "display_data"
    },
    {
     "name": "stdout",
     "output_type": "stream",
     "text": [
      "[NeMo I 2024-12-08 02:35:53 punctuation_capitalization_model:342] Punctuation report: \n",
      "    label                                                precision    recall       f1           support   \n",
      "    O (label_id: 0)                                         97.29      98.56      97.92      43398\n",
      "    , (label_id: 1)                                         75.57      68.73      71.99       3281\n",
      "    . (label_id: 2)                                         92.40      92.85      92.63       8461\n",
      "    ? (label_id: 3)                                         75.52      62.72      68.53       1835\n",
      "    -------------------\n",
      "    micro avg                                               94.84      94.84      94.84      56975\n",
      "    macro avg                                               85.20      80.72      82.77      56975\n",
      "    weighted avg                                            94.61      94.84      94.69      56975\n",
      "    \n",
      "[NeMo I 2024-12-08 02:35:53 punctuation_capitalization_model:343] Capitalization report: \n",
      "    label                                                precision    recall       f1           support   \n",
      "    O (label_id: 0)                                         98.40      99.70      99.05      45887\n",
      "    U (label_id: 1)                                         98.69      93.29      95.92      11088\n",
      "    -------------------\n",
      "    micro avg                                               98.45      98.45      98.45      56975\n",
      "    macro avg                                               98.55      96.50      97.48      56975\n",
      "    weighted avg                                            98.46      98.45      98.44      56975\n",
      "    \n"
     ]
    },
    {
     "name": "stderr",
     "output_type": "stream",
     "text": [
      "INFO: Epoch 8, global step 3510: 'val_loss' was not in top 3\n",
      "I1208 02:35:53.613523 128621095987008 rank_zero.py:63] Epoch 8, global step 3510: 'val_loss' was not in top 3\n"
     ]
    },
    {
     "name": "stdout",
     "output_type": "stream",
     "text": [
      "[NeMo I 2024-12-08 02:35:56 punctuation_capitalization_dataset:1821] Shuffling training dataset\n"
     ]
    },
    {
     "name": "stderr",
     "output_type": "stream",
     "text": [
      "[NeMo W 2024-12-08 02:35:56 punctuation_capitalization_dataset:1572] Could not create batch with multiple of 8 size. Probably, there is a too long sequence in the dataset or parameter `tokens_in_batch` is too small. Current length of sequences in batch is 144. Batch size will be reduced to 7. tokens_in_batch=1024. The batch includes sequences from 9984 to 9990.\n",
      "[NeMo W 2024-12-08 02:35:56 punctuation_capitalization_dataset:1572] Could not create batch with multiple of 8 size. Probably, there is a too long sequence in the dataset or parameter `tokens_in_batch` is too small. Current length of sequences in batch is 184. Batch size will be reduced to 5. tokens_in_batch=1024. The batch includes sequences from 9991 to 9995.\n",
      "[NeMo W 2024-12-08 02:35:56 punctuation_capitalization_dataset:1572] Could not create batch with multiple of 8 size. Probably, there is a too long sequence in the dataset or parameter `tokens_in_batch` is too small. Current length of sequences in batch is 280. Batch size will be reduced to 3. tokens_in_batch=1024. The batch includes sequences from 9996 to 9998.\n",
      "Batch mark up: 100%|██████████| 10000/10000 [00:00<00:00, 734850.11query/s]\n",
      "Batch building: 100%|██████████| 390/390 [00:00<00:00, 1650.19batch/s]\n"
     ]
    },
    {
     "data": {
      "application/json": {
       "ascii": false,
       "bar_format": "{l_bar}{bar}| {n_fmt}/{total_fmt} [{elapsed}<{remaining}, {rate_noinv_fmt}{postfix}]",
       "colour": null,
       "elapsed": 0.007782936096191406,
       "initial": 0,
       "n": 0,
       "ncols": null,
       "nrows": null,
       "postfix": null,
       "prefix": "Validation",
       "rate": null,
       "total": null,
       "unit": "it",
       "unit_divisor": 1000,
       "unit_scale": false
      },
      "application/vnd.jupyter.widget-view+json": {
       "model_id": "0158b4be31c94990ae7314e8f43a48bc",
       "version_major": 2,
       "version_minor": 0
      },
      "text/plain": [
       "Validation: |          | 0/? [00:00<?, ?it/s]"
      ]
     },
     "metadata": {},
     "output_type": "display_data"
    },
    {
     "name": "stdout",
     "output_type": "stream",
     "text": [
      "[NeMo I 2024-12-08 02:36:43 punctuation_capitalization_model:342] Punctuation report: \n",
      "    label                                                precision    recall       f1           support   \n",
      "    O (label_id: 0)                                         97.19      98.76      97.97      43398\n",
      "    , (label_id: 1)                                         77.66      67.60      72.28       3281\n",
      "    . (label_id: 2)                                         92.89      92.36      92.63       8461\n",
      "    ? (label_id: 3)                                         74.50      65.29      69.59       1835\n",
      "    -------------------\n",
      "    micro avg                                               94.94      94.94      94.94      56975\n",
      "    macro avg                                               85.56      81.00      83.12      56975\n",
      "    weighted avg                                            94.70      94.94      94.78      56975\n",
      "    \n",
      "[NeMo I 2024-12-08 02:36:43 punctuation_capitalization_model:343] Capitalization report: \n",
      "    label                                                precision    recall       f1           support   \n",
      "    O (label_id: 0)                                         98.38      99.76      99.06      45887\n",
      "    U (label_id: 1)                                         98.94      93.18      95.97      11088\n",
      "    -------------------\n",
      "    micro avg                                               98.48      98.48      98.48      56975\n",
      "    macro avg                                               98.66      96.47      97.52      56975\n",
      "    weighted avg                                            98.48      98.48      98.46      56975\n",
      "    \n"
     ]
    },
    {
     "name": "stderr",
     "output_type": "stream",
     "text": [
      "INFO: Epoch 9, global step 3900: 'val_loss' was not in top 3\n",
      "I1208 02:36:43.137438 128621095987008 rank_zero.py:63] Epoch 9, global step 3900: 'val_loss' was not in top 3\n"
     ]
    },
    {
     "name": "stdout",
     "output_type": "stream",
     "text": [
      "[NeMo I 2024-12-08 02:36:46 punctuation_capitalization_dataset:1821] Shuffling training dataset\n"
     ]
    },
    {
     "name": "stderr",
     "output_type": "stream",
     "text": [
      "[NeMo W 2024-12-08 02:36:46 punctuation_capitalization_dataset:1572] Could not create batch with multiple of 8 size. Probably, there is a too long sequence in the dataset or parameter `tokens_in_batch` is too small. Current length of sequences in batch is 144. Batch size will be reduced to 7. tokens_in_batch=1024. The batch includes sequences from 9984 to 9990.\n",
      "[NeMo W 2024-12-08 02:36:46 punctuation_capitalization_dataset:1572] Could not create batch with multiple of 8 size. Probably, there is a too long sequence in the dataset or parameter `tokens_in_batch` is too small. Current length of sequences in batch is 184. Batch size will be reduced to 5. tokens_in_batch=1024. The batch includes sequences from 9991 to 9995.\n",
      "[NeMo W 2024-12-08 02:36:46 punctuation_capitalization_dataset:1572] Could not create batch with multiple of 8 size. Probably, there is a too long sequence in the dataset or parameter `tokens_in_batch` is too small. Current length of sequences in batch is 280. Batch size will be reduced to 3. tokens_in_batch=1024. The batch includes sequences from 9996 to 9998.\n",
      "Batch mark up: 100%|██████████| 10000/10000 [00:00<00:00, 690136.40query/s]\n",
      "Batch building: 100%|██████████| 390/390 [00:00<00:00, 1541.77batch/s]\n"
     ]
    },
    {
     "data": {
      "application/json": {
       "ascii": false,
       "bar_format": "{l_bar}{bar}| {n_fmt}/{total_fmt} [{elapsed}<{remaining}, {rate_noinv_fmt}{postfix}]",
       "colour": null,
       "elapsed": 0.007817745208740234,
       "initial": 0,
       "n": 0,
       "ncols": null,
       "nrows": null,
       "postfix": null,
       "prefix": "Validation",
       "rate": null,
       "total": null,
       "unit": "it",
       "unit_divisor": 1000,
       "unit_scale": false
      },
      "application/vnd.jupyter.widget-view+json": {
       "model_id": "804d2b8217054cbb9b03d4f0f405089f",
       "version_major": 2,
       "version_minor": 0
      },
      "text/plain": [
       "Validation: |          | 0/? [00:00<?, ?it/s]"
      ]
     },
     "metadata": {},
     "output_type": "display_data"
    },
    {
     "name": "stdout",
     "output_type": "stream",
     "text": [
      "[NeMo I 2024-12-08 02:37:32 punctuation_capitalization_model:342] Punctuation report: \n",
      "    label                                                precision    recall       f1           support   \n",
      "    O (label_id: 0)                                         97.25      98.56      97.90      43398\n",
      "    , (label_id: 1)                                         75.65      68.18      71.72       3281\n",
      "    . (label_id: 2)                                         92.62      92.72      92.67       8461\n",
      "    ? (label_id: 3)                                         75.32      64.36      69.41       1835\n",
      "    -------------------\n",
      "    micro avg                                               94.84      94.84      94.84      56975\n",
      "    macro avg                                               85.21      80.95      82.93      56975\n",
      "    weighted avg                                            94.61      94.84      94.70      56975\n",
      "    \n",
      "[NeMo I 2024-12-08 02:37:32 punctuation_capitalization_model:343] Capitalization report: \n",
      "    label                                                precision    recall       f1           support   \n",
      "    O (label_id: 0)                                         98.35      99.78      99.06      45887\n",
      "    U (label_id: 1)                                         99.03      93.08      95.96      11088\n",
      "    -------------------\n",
      "    micro avg                                               98.48      98.48      98.48      56975\n",
      "    macro avg                                               98.69      96.43      97.51      56975\n",
      "    weighted avg                                            98.48      98.48      98.46      56975\n",
      "    \n"
     ]
    },
    {
     "name": "stderr",
     "output_type": "stream",
     "text": [
      "INFO: Epoch 10, global step 4290: 'val_loss' was not in top 3\n",
      "I1208 02:37:32.486771 128621095987008 rank_zero.py:63] Epoch 10, global step 4290: 'val_loss' was not in top 3\n"
     ]
    },
    {
     "name": "stdout",
     "output_type": "stream",
     "text": [
      "[NeMo I 2024-12-08 02:37:35 punctuation_capitalization_dataset:1821] Shuffling training dataset\n"
     ]
    },
    {
     "name": "stderr",
     "output_type": "stream",
     "text": [
      "[NeMo W 2024-12-08 02:37:35 punctuation_capitalization_dataset:1572] Could not create batch with multiple of 8 size. Probably, there is a too long sequence in the dataset or parameter `tokens_in_batch` is too small. Current length of sequences in batch is 144. Batch size will be reduced to 7. tokens_in_batch=1024. The batch includes sequences from 9984 to 9990.\n",
      "[NeMo W 2024-12-08 02:37:35 punctuation_capitalization_dataset:1572] Could not create batch with multiple of 8 size. Probably, there is a too long sequence in the dataset or parameter `tokens_in_batch` is too small. Current length of sequences in batch is 184. Batch size will be reduced to 5. tokens_in_batch=1024. The batch includes sequences from 9991 to 9995.\n",
      "[NeMo W 2024-12-08 02:37:35 punctuation_capitalization_dataset:1572] Could not create batch with multiple of 8 size. Probably, there is a too long sequence in the dataset or parameter `tokens_in_batch` is too small. Current length of sequences in batch is 280. Batch size will be reduced to 3. tokens_in_batch=1024. The batch includes sequences from 9996 to 9998.\n",
      "Batch mark up: 100%|██████████| 10000/10000 [00:00<00:00, 722284.14query/s]\n",
      "Batch building: 100%|██████████| 390/390 [00:00<00:00, 1652.16batch/s]\n"
     ]
    },
    {
     "data": {
      "application/json": {
       "ascii": false,
       "bar_format": "{l_bar}{bar}| {n_fmt}/{total_fmt} [{elapsed}<{remaining}, {rate_noinv_fmt}{postfix}]",
       "colour": null,
       "elapsed": 0.005799531936645508,
       "initial": 0,
       "n": 0,
       "ncols": null,
       "nrows": null,
       "postfix": null,
       "prefix": "Validation",
       "rate": null,
       "total": null,
       "unit": "it",
       "unit_divisor": 1000,
       "unit_scale": false
      },
      "application/vnd.jupyter.widget-view+json": {
       "model_id": "3edc65ed083a4a99ba93d43f88910df9",
       "version_major": 2,
       "version_minor": 0
      },
      "text/plain": [
       "Validation: |          | 0/? [00:00<?, ?it/s]"
      ]
     },
     "metadata": {},
     "output_type": "display_data"
    },
    {
     "name": "stdout",
     "output_type": "stream",
     "text": [
      "[NeMo I 2024-12-08 02:38:21 punctuation_capitalization_model:342] Punctuation report: \n",
      "    label                                                precision    recall       f1           support   \n",
      "    O (label_id: 0)                                         97.26      98.71      97.98      43398\n",
      "    , (label_id: 1)                                         77.50      68.24      72.58       3281\n",
      "    . (label_id: 2)                                         92.28      93.48      92.87       8461\n",
      "    ? (label_id: 3)                                         77.91      62.29      69.23       1835\n",
      "    -------------------\n",
      "    micro avg                                               95.01      95.01      95.01      56975\n",
      "    macro avg                                               86.24      80.68      83.17      56975\n",
      "    weighted avg                                            94.76      95.01      94.83      56975\n",
      "    \n",
      "[NeMo I 2024-12-08 02:38:21 punctuation_capitalization_model:343] Capitalization report: \n",
      "    label                                                precision    recall       f1           support   \n",
      "    O (label_id: 0)                                         98.35      99.75      99.04      45887\n",
      "    U (label_id: 1)                                         98.89      93.06      95.88      11088\n",
      "    -------------------\n",
      "    micro avg                                               98.44      98.44      98.44      56975\n",
      "    macro avg                                               98.62      96.40      97.46      56975\n",
      "    weighted avg                                            98.45      98.44      98.43      56975\n",
      "    \n"
     ]
    },
    {
     "name": "stderr",
     "output_type": "stream",
     "text": [
      "INFO: Epoch 11, global step 4680: 'val_loss' was not in top 3\n",
      "I1208 02:38:21.833009 128621095987008 rank_zero.py:63] Epoch 11, global step 4680: 'val_loss' was not in top 3\n"
     ]
    },
    {
     "name": "stdout",
     "output_type": "stream",
     "text": [
      "[NeMo I 2024-12-08 02:38:24 punctuation_capitalization_dataset:1821] Shuffling training dataset\n"
     ]
    },
    {
     "name": "stderr",
     "output_type": "stream",
     "text": [
      "[NeMo W 2024-12-08 02:38:24 punctuation_capitalization_dataset:1572] Could not create batch with multiple of 8 size. Probably, there is a too long sequence in the dataset or parameter `tokens_in_batch` is too small. Current length of sequences in batch is 144. Batch size will be reduced to 7. tokens_in_batch=1024. The batch includes sequences from 9984 to 9990.\n",
      "[NeMo W 2024-12-08 02:38:24 punctuation_capitalization_dataset:1572] Could not create batch with multiple of 8 size. Probably, there is a too long sequence in the dataset or parameter `tokens_in_batch` is too small. Current length of sequences in batch is 184. Batch size will be reduced to 5. tokens_in_batch=1024. The batch includes sequences from 9991 to 9995.\n",
      "[NeMo W 2024-12-08 02:38:24 punctuation_capitalization_dataset:1572] Could not create batch with multiple of 8 size. Probably, there is a too long sequence in the dataset or parameter `tokens_in_batch` is too small. Current length of sequences in batch is 280. Batch size will be reduced to 3. tokens_in_batch=1024. The batch includes sequences from 9996 to 9998.\n",
      "Batch mark up: 100%|██████████| 10000/10000 [00:00<00:00, 715653.84query/s]\n",
      "Batch building: 100%|██████████| 390/390 [00:00<00:00, 1478.42batch/s]\n"
     ]
    },
    {
     "data": {
      "application/json": {
       "ascii": false,
       "bar_format": "{l_bar}{bar}| {n_fmt}/{total_fmt} [{elapsed}<{remaining}, {rate_noinv_fmt}{postfix}]",
       "colour": null,
       "elapsed": 0.0054738521575927734,
       "initial": 0,
       "n": 0,
       "ncols": null,
       "nrows": null,
       "postfix": null,
       "prefix": "Validation",
       "rate": null,
       "total": null,
       "unit": "it",
       "unit_divisor": 1000,
       "unit_scale": false
      },
      "application/vnd.jupyter.widget-view+json": {
       "model_id": "ccca1ff1a76041c182e3da635fd5b160",
       "version_major": 2,
       "version_minor": 0
      },
      "text/plain": [
       "Validation: |          | 0/? [00:00<?, ?it/s]"
      ]
     },
     "metadata": {},
     "output_type": "display_data"
    },
    {
     "name": "stdout",
     "output_type": "stream",
     "text": [
      "[NeMo I 2024-12-08 02:39:11 punctuation_capitalization_model:342] Punctuation report: \n",
      "    label                                                precision    recall       f1           support   \n",
      "    O (label_id: 0)                                         97.14      98.91      98.02      43398\n",
      "    , (label_id: 1)                                         79.70      66.66      72.60       3281\n",
      "    . (label_id: 2)                                         91.97      93.69      92.82       8461\n",
      "    ? (label_id: 3)                                         78.29      60.71      68.39       1835\n",
      "    -------------------\n",
      "    micro avg                                               95.05      95.05      95.05      56975\n",
      "    macro avg                                               86.77      79.99      82.96      56975\n",
      "    weighted avg                                            94.76      95.05      94.83      56975\n",
      "    \n",
      "[NeMo I 2024-12-08 02:39:11 punctuation_capitalization_model:343] Capitalization report: \n",
      "    label                                                precision    recall       f1           support   \n",
      "    O (label_id: 0)                                         98.37      99.72      99.04      45887\n",
      "    U (label_id: 1)                                         98.76      93.15      95.87      11088\n",
      "    -------------------\n",
      "    micro avg                                               98.44      98.44      98.44      56975\n",
      "    macro avg                                               98.56      96.44      97.46      56975\n",
      "    weighted avg                                            98.44      98.44      98.42      56975\n",
      "    \n"
     ]
    },
    {
     "name": "stderr",
     "output_type": "stream",
     "text": [
      "INFO: Epoch 12, global step 5070: 'val_loss' was not in top 3\n",
      "I1208 02:39:11.344454 128621095987008 rank_zero.py:63] Epoch 12, global step 5070: 'val_loss' was not in top 3\n"
     ]
    },
    {
     "name": "stdout",
     "output_type": "stream",
     "text": [
      "[NeMo I 2024-12-08 02:39:14 punctuation_capitalization_dataset:1821] Shuffling training dataset\n"
     ]
    },
    {
     "name": "stderr",
     "output_type": "stream",
     "text": [
      "[NeMo W 2024-12-08 02:39:14 punctuation_capitalization_dataset:1572] Could not create batch with multiple of 8 size. Probably, there is a too long sequence in the dataset or parameter `tokens_in_batch` is too small. Current length of sequences in batch is 144. Batch size will be reduced to 7. tokens_in_batch=1024. The batch includes sequences from 9984 to 9990.\n",
      "[NeMo W 2024-12-08 02:39:14 punctuation_capitalization_dataset:1572] Could not create batch with multiple of 8 size. Probably, there is a too long sequence in the dataset or parameter `tokens_in_batch` is too small. Current length of sequences in batch is 184. Batch size will be reduced to 5. tokens_in_batch=1024. The batch includes sequences from 9991 to 9995.\n",
      "[NeMo W 2024-12-08 02:39:14 punctuation_capitalization_dataset:1572] Could not create batch with multiple of 8 size. Probably, there is a too long sequence in the dataset or parameter `tokens_in_batch` is too small. Current length of sequences in batch is 280. Batch size will be reduced to 3. tokens_in_batch=1024. The batch includes sequences from 9996 to 9998.\n",
      "Batch mark up: 100%|██████████| 10000/10000 [00:00<00:00, 606691.93query/s]\n",
      "Batch building: 100%|██████████| 390/390 [00:00<00:00, 1551.21batch/s]\n"
     ]
    },
    {
     "data": {
      "application/json": {
       "ascii": false,
       "bar_format": "{l_bar}{bar}| {n_fmt}/{total_fmt} [{elapsed}<{remaining}, {rate_noinv_fmt}{postfix}]",
       "colour": null,
       "elapsed": 0.010543107986450195,
       "initial": 0,
       "n": 0,
       "ncols": null,
       "nrows": null,
       "postfix": null,
       "prefix": "Validation",
       "rate": null,
       "total": null,
       "unit": "it",
       "unit_divisor": 1000,
       "unit_scale": false
      },
      "application/vnd.jupyter.widget-view+json": {
       "model_id": "2e38090b285c4c64a48511c42b2f247c",
       "version_major": 2,
       "version_minor": 0
      },
      "text/plain": [
       "Validation: |          | 0/? [00:00<?, ?it/s]"
      ]
     },
     "metadata": {},
     "output_type": "display_data"
    },
    {
     "name": "stdout",
     "output_type": "stream",
     "text": [
      "[NeMo I 2024-12-08 02:40:00 punctuation_capitalization_model:342] Punctuation report: \n",
      "    label                                                precision    recall       f1           support   \n",
      "    O (label_id: 0)                                         97.21      98.80      98.00      43398\n",
      "    , (label_id: 1)                                         78.35      67.72      72.65       3281\n",
      "    . (label_id: 2)                                         92.59      93.06      92.83       8461\n",
      "    ? (label_id: 3)                                         76.49      63.65      69.48       1835\n",
      "    -------------------\n",
      "    micro avg                                               95.02      95.02      95.02      56975\n",
      "    macro avg                                               86.16      80.81      83.24      56975\n",
      "    weighted avg                                            94.77      95.02      94.85      56975\n",
      "    \n",
      "[NeMo I 2024-12-08 02:40:00 punctuation_capitalization_model:343] Capitalization report: \n",
      "    label                                                precision    recall       f1           support   \n",
      "    O (label_id: 0)                                         98.30      99.77      99.03      45887\n",
      "    U (label_id: 1)                                         98.99      92.88      95.84      11088\n",
      "    -------------------\n",
      "    micro avg                                               98.43      98.43      98.43      56975\n",
      "    macro avg                                               98.65      96.32      97.43      56975\n",
      "    weighted avg                                            98.44      98.43      98.41      56975\n",
      "    \n"
     ]
    },
    {
     "name": "stderr",
     "output_type": "stream",
     "text": [
      "INFO: Epoch 13, global step 5460: 'val_loss' was not in top 3\n",
      "I1208 02:40:00.729147 128621095987008 rank_zero.py:63] Epoch 13, global step 5460: 'val_loss' was not in top 3\n"
     ]
    },
    {
     "name": "stdout",
     "output_type": "stream",
     "text": [
      "[NeMo I 2024-12-08 02:40:03 punctuation_capitalization_dataset:1821] Shuffling training dataset\n"
     ]
    },
    {
     "name": "stderr",
     "output_type": "stream",
     "text": [
      "[NeMo W 2024-12-08 02:40:03 punctuation_capitalization_dataset:1572] Could not create batch with multiple of 8 size. Probably, there is a too long sequence in the dataset or parameter `tokens_in_batch` is too small. Current length of sequences in batch is 144. Batch size will be reduced to 7. tokens_in_batch=1024. The batch includes sequences from 9984 to 9990.\n",
      "[NeMo W 2024-12-08 02:40:03 punctuation_capitalization_dataset:1572] Could not create batch with multiple of 8 size. Probably, there is a too long sequence in the dataset or parameter `tokens_in_batch` is too small. Current length of sequences in batch is 184. Batch size will be reduced to 5. tokens_in_batch=1024. The batch includes sequences from 9991 to 9995.\n",
      "[NeMo W 2024-12-08 02:40:03 punctuation_capitalization_dataset:1572] Could not create batch with multiple of 8 size. Probably, there is a too long sequence in the dataset or parameter `tokens_in_batch` is too small. Current length of sequences in batch is 280. Batch size will be reduced to 3. tokens_in_batch=1024. The batch includes sequences from 9996 to 9998.\n",
      "Batch mark up: 100%|██████████| 10000/10000 [00:00<00:00, 726223.53query/s]\n",
      "Batch building: 100%|██████████| 390/390 [00:00<00:00, 1501.16batch/s]\n"
     ]
    },
    {
     "data": {
      "application/json": {
       "ascii": false,
       "bar_format": "{l_bar}{bar}| {n_fmt}/{total_fmt} [{elapsed}<{remaining}, {rate_noinv_fmt}{postfix}]",
       "colour": null,
       "elapsed": 0.00824427604675293,
       "initial": 0,
       "n": 0,
       "ncols": null,
       "nrows": null,
       "postfix": null,
       "prefix": "Validation",
       "rate": null,
       "total": null,
       "unit": "it",
       "unit_divisor": 1000,
       "unit_scale": false
      },
      "application/vnd.jupyter.widget-view+json": {
       "model_id": "f58a2c9e413f41b39f80bf68b9529a75",
       "version_major": 2,
       "version_minor": 0
      },
      "text/plain": [
       "Validation: |          | 0/? [00:00<?, ?it/s]"
      ]
     },
     "metadata": {},
     "output_type": "display_data"
    },
    {
     "name": "stdout",
     "output_type": "stream",
     "text": [
      "[NeMo I 2024-12-08 02:40:50 punctuation_capitalization_model:342] Punctuation report: \n",
      "    label                                                precision    recall       f1           support   \n",
      "    O (label_id: 0)                                         97.20      98.83      98.01      43398\n",
      "    , (label_id: 1)                                         78.80      67.63      72.79       3281\n",
      "    . (label_id: 2)                                         92.23      93.35      92.79       8461\n",
      "    ? (label_id: 3)                                         77.20      61.80      68.64       1835\n",
      "    -------------------\n",
      "    micro avg                                               95.03      95.03      95.03      56975\n",
      "    macro avg                                               86.36      80.40      83.06      56975\n",
      "    weighted avg                                            94.76      95.03      94.84      56975\n",
      "    \n",
      "[NeMo I 2024-12-08 02:40:50 punctuation_capitalization_model:343] Capitalization report: \n",
      "    label                                                precision    recall       f1           support   \n",
      "    O (label_id: 0)                                         98.32      99.75      99.03      45887\n",
      "    U (label_id: 1)                                         98.90      92.94      95.82      11088\n",
      "    -------------------\n",
      "    micro avg                                               98.42      98.42      98.42      56975\n",
      "    macro avg                                               98.61      96.34      97.43      56975\n",
      "    weighted avg                                            98.43      98.42      98.41      56975\n",
      "    \n"
     ]
    },
    {
     "name": "stderr",
     "output_type": "stream",
     "text": [
      "INFO: Epoch 14, global step 5850: 'val_loss' was not in top 3\n",
      "I1208 02:40:50.360040 128621095987008 rank_zero.py:63] Epoch 14, global step 5850: 'val_loss' was not in top 3\n"
     ]
    },
    {
     "name": "stdout",
     "output_type": "stream",
     "text": [
      "[NeMo I 2024-12-08 02:40:53 punctuation_capitalization_dataset:1821] Shuffling training dataset\n"
     ]
    },
    {
     "name": "stderr",
     "output_type": "stream",
     "text": [
      "[NeMo W 2024-12-08 02:40:53 punctuation_capitalization_dataset:1572] Could not create batch with multiple of 8 size. Probably, there is a too long sequence in the dataset or parameter `tokens_in_batch` is too small. Current length of sequences in batch is 144. Batch size will be reduced to 7. tokens_in_batch=1024. The batch includes sequences from 9984 to 9990.\n",
      "[NeMo W 2024-12-08 02:40:53 punctuation_capitalization_dataset:1572] Could not create batch with multiple of 8 size. Probably, there is a too long sequence in the dataset or parameter `tokens_in_batch` is too small. Current length of sequences in batch is 184. Batch size will be reduced to 5. tokens_in_batch=1024. The batch includes sequences from 9991 to 9995.\n",
      "[NeMo W 2024-12-08 02:40:53 punctuation_capitalization_dataset:1572] Could not create batch with multiple of 8 size. Probably, there is a too long sequence in the dataset or parameter `tokens_in_batch` is too small. Current length of sequences in batch is 280. Batch size will be reduced to 3. tokens_in_batch=1024. The batch includes sequences from 9996 to 9998.\n",
      "Batch mark up: 100%|██████████| 10000/10000 [00:00<00:00, 695965.22query/s]\n",
      "Batch building: 100%|██████████| 390/390 [00:00<00:00, 1543.81batch/s]\n",
      "INFO: `Trainer.fit` stopped: `max_epochs=15` reached.\n",
      "I1208 02:40:53.791778 128621095987008 rank_zero.py:63] `Trainer.fit` stopped: `max_epochs=15` reached.\n"
     ]
    }
   ],
   "source": [
    "# start the training\n",
    "trainer.fit(model)"
   ]
  },
  {
   "cell_type": "markdown",
   "metadata": {},
   "source": [
    "# Training using tarred dataset"
   ]
  },
  {
   "cell_type": "code",
   "execution_count": null,
   "metadata": {},
   "outputs": [],
   "source": [
    "config = OmegaConf.load(config_path)\n",
    "config.model.train_ds.ds_item = f'{DATA_DIR}/train_tarred'\n",
    "config.model.train_ds.use_tarred_dataset = True\n",
    "# Only metadata file name is required if `use_tarred_dataset=true`.\n",
    "config.model.train_ds.tar_metadata_file = 'metadata.punctuation_capitalization.tokens1024.max_seq_length512.bert-base-uncased.json'\n",
    "config.model.validation_ds.ds_item = DATA_DIR\n",
    "del config.model.test_ds  # We do not have test data, only train and dev\n",
    "\n",
    "# Trainer\n",
    "accelerator = 'gpu' if torch.cuda.is_available() else 'cpu'\n",
    "config.trainer.devices = 1\n",
    "config.trainer.accelerator = accelerator\n",
    "config.trainer.precision = 16 if torch.cuda.is_available() else 32\n",
    "config.trainer.max_epochs = 1\n",
    "config.trainer.strategy = 'auto'\n",
    "\n",
    "# Exp manager\n",
    "config.exp_manager.explicit_log_dir = 'tarred_experiment'\n",
    "\n",
    "config.model.language_model.pretrained_model_name = PRETRAINED_BERT_MODEL\n",
    "config.model.validation_ds.tokens_in_batch = TOKENS_IN_BATCH\n",
    "config.model.optim.lr = LEARNING_RATE\n",
    "config.model.validation_ds.num_samples = NUM_SAMPLES"
   ]
  },
  {
   "cell_type": "code",
   "execution_count": null,
   "metadata": {},
   "outputs": [],
   "source": [
    "trainer = pl.Trainer(**config.trainer)\n",
    "exp_dir = exp_manager(trainer, config.get(\"exp_manager\", None))\n",
    "model = nemo_nlp.models.PunctuationCapitalizationModel(cfg=config.model, trainer=trainer)\n",
    "trainer.fit(model)"
   ]
  },
  {
   "cell_type": "markdown",
   "metadata": {
    "colab_type": "text",
    "id": "VPdzJVAgSFaJ"
   },
   "source": [
    "# Inference using a pretrained model\n",
    "\n",
    "To see how the model performs, let’s run inference on a few examples."
   ]
  },
  {
   "cell_type": "code",
   "execution_count": null,
   "metadata": {
    "colab": {},
    "colab_type": "code",
    "id": "DQhsamclRtxJ"
   },
   "outputs": [
    {
     "name": "stdout",
     "output_type": "stream",
     "text": [
      "Available_models: ['punctuation_en_bert', 'punctuation_en_distilbert']\n",
      "\n",
      "[NeMo I 2024-12-08 02:41:27 cloud:68] Downloading from: https://api.ngc.nvidia.com/v2/models/nvidia/nemo/punctuation_en_distilbert/versions/1.0.0rc1/files/punctuation_en_distilbert.nemo to /root/.cache/torch/NeMo/NeMo_2.0.0rc0/punctuation_en_distilbert/6bdea9786c4395fbbe02e4143d2e1cee/punctuation_en_distilbert.nemo\n",
      "[NeMo I 2024-12-08 02:41:34 common:815] Instantiating model from pre-trained checkpoint\n",
      "[NeMo I 2024-12-08 02:41:39 tokenizer_utils:128] Getting HuggingFace AutoTokenizer with pretrained_model_name: distilbert-base-uncased, vocab_file: /tmp/tmp83j9_ug8/tokenizer.vocab_file, merges_files: None, special_tokens_dict: {}, and use_fast: False\n"
     ]
    },
    {
     "data": {
      "application/json": {
       "ascii": false,
       "bar_format": null,
       "colour": null,
       "elapsed": 0.004834651947021484,
       "initial": 0,
       "n": 0,
       "ncols": null,
       "nrows": null,
       "postfix": null,
       "prefix": "tokenizer_config.json",
       "rate": null,
       "total": 48,
       "unit": "B",
       "unit_divisor": 1000,
       "unit_scale": true
      },
      "application/vnd.jupyter.widget-view+json": {
       "model_id": "e11e679d2f70421eb2d130227fbc811d",
       "version_major": 2,
       "version_minor": 0
      },
      "text/plain": [
       "tokenizer_config.json:   0%|          | 0.00/48.0 [00:00<?, ?B/s]"
      ]
     },
     "metadata": {},
     "output_type": "display_data"
    },
    {
     "data": {
      "application/json": {
       "ascii": false,
       "bar_format": null,
       "colour": null,
       "elapsed": 0.004815101623535156,
       "initial": 0,
       "n": 0,
       "ncols": null,
       "nrows": null,
       "postfix": null,
       "prefix": "config.json",
       "rate": null,
       "total": 483,
       "unit": "B",
       "unit_divisor": 1000,
       "unit_scale": true
      },
      "application/vnd.jupyter.widget-view+json": {
       "model_id": "bdb5a98156bf453d9757557638574113",
       "version_major": 2,
       "version_minor": 0
      },
      "text/plain": [
       "config.json:   0%|          | 0.00/483 [00:00<?, ?B/s]"
      ]
     },
     "metadata": {},
     "output_type": "display_data"
    },
    {
     "data": {
      "application/json": {
       "ascii": false,
       "bar_format": null,
       "colour": null,
       "elapsed": 0.004973173141479492,
       "initial": 0,
       "n": 0,
       "ncols": null,
       "nrows": null,
       "postfix": null,
       "prefix": "vocab.txt",
       "rate": null,
       "total": 231508,
       "unit": "B",
       "unit_divisor": 1000,
       "unit_scale": true
      },
      "application/vnd.jupyter.widget-view+json": {
       "model_id": "efa44a6d604a42daa6265ffed4a396a8",
       "version_major": 2,
       "version_minor": 0
      },
      "text/plain": [
       "vocab.txt:   0%|          | 0.00/232k [00:00<?, ?B/s]"
      ]
     },
     "metadata": {},
     "output_type": "display_data"
    },
    {
     "data": {
      "application/json": {
       "ascii": false,
       "bar_format": null,
       "colour": null,
       "elapsed": 0.004975318908691406,
       "initial": 0,
       "n": 0,
       "ncols": null,
       "nrows": null,
       "postfix": null,
       "prefix": "tokenizer.json",
       "rate": null,
       "total": 466062,
       "unit": "B",
       "unit_divisor": 1000,
       "unit_scale": true
      },
      "application/vnd.jupyter.widget-view+json": {
       "model_id": "b59b1fa79066404b83b9c731dd6d56fc",
       "version_major": 2,
       "version_minor": 0
      },
      "text/plain": [
       "tokenizer.json:   0%|          | 0.00/466k [00:00<?, ?B/s]"
      ]
     },
     "metadata": {},
     "output_type": "display_data"
    },
    {
     "name": "stderr",
     "output_type": "stream",
     "text": [
      "[NeMo W 2024-12-08 02:41:39 modelPT:272] You tried to register an artifact under config key=tokenizer.vocab_file but an artifact for it has already been registered.\n",
      "[NeMo W 2024-12-08 02:41:39 modelPT:176] If you intend to do training or fine-tuning, please call the ModelPT.setup_training_data() method and provide a valid configuration file to setup the train data loader.\n",
      "    Train config : \n",
      "    use_audio: false\n",
      "    audio_file: null\n",
      "    sample_rate: 16000\n",
      "    use_bucketing: true\n",
      "    batch_size: 32\n",
      "    preload_audios: true\n",
      "    use_tarred_dataset: false\n",
      "    label_info_save_dir: null\n",
      "    text_file: text_train.txt\n",
      "    labels_file: labels_train.txt\n",
      "    tokens_in_batch: null\n",
      "    max_seq_length: 128\n",
      "    num_samples: -1\n",
      "    use_cache: true\n",
      "    cache_dir: null\n",
      "    get_label_frequences: false\n",
      "    verbose: true\n",
      "    n_jobs: 0\n",
      "    tar_metadata_file: null\n",
      "    tar_shuffle_n: 1\n",
      "    shard_strategy: scatter\n",
      "    shuffle: true\n",
      "    drop_last: false\n",
      "    pin_memory: true\n",
      "    num_workers: 8\n",
      "    persistent_workers: true\n",
      "    ds_item: punct_dataset_complete\n",
      "    \n",
      "[NeMo W 2024-12-08 02:41:39 modelPT:183] If you intend to do validation, please call the ModelPT.setup_validation_data() or ModelPT.setup_multiple_validation_data() method and provide a valid configuration file to setup the validation data loader(s). \n",
      "    Validation config : \n",
      "    use_audio: false\n",
      "    audio_file: null\n",
      "    sample_rate: 16000\n",
      "    use_bucketing: true\n",
      "    batch_size: 32\n",
      "    preload_audios: true\n",
      "    use_tarred_dataset: false\n",
      "    label_info_save_dir: null\n",
      "    text_file: text_dev.txt\n",
      "    labels_file: labels_dev.txt\n",
      "    tokens_in_batch: null\n",
      "    max_seq_length: 128\n",
      "    num_samples: -1\n",
      "    use_cache: true\n",
      "    cache_dir: null\n",
      "    get_label_frequences: false\n",
      "    verbose: true\n",
      "    n_jobs: 0\n",
      "    tar_metadata_file: null\n",
      "    tar_shuffle_n: 1\n",
      "    shard_strategy: scatter\n",
      "    shuffle: true\n",
      "    drop_last: false\n",
      "    pin_memory: true\n",
      "    num_workers: 8\n",
      "    persistent_workers: true\n",
      "    ds_item: punct_dataset_complete\n",
      "    \n",
      "[NeMo W 2024-12-08 02:41:39 modelPT:189] Please call the ModelPT.setup_test_data() or ModelPT.setup_multiple_test_data() method and provide a valid configuration file to setup the test data loader(s).\n",
      "    Test config : \n",
      "    use_audio: false\n",
      "    audio_file: null\n",
      "    sample_rate: 16000\n",
      "    use_bucketing: true\n",
      "    batch_size: 32\n",
      "    preload_audios: true\n",
      "    use_tarred_dataset: false\n",
      "    label_info_save_dir: null\n",
      "    text_file: text_dev.txt\n",
      "    labels_file: labels_dev.txt\n",
      "    tokens_in_batch: null\n",
      "    max_seq_length: 128\n",
      "    num_samples: -1\n",
      "    use_cache: true\n",
      "    cache_dir: null\n",
      "    get_label_frequences: false\n",
      "    verbose: true\n",
      "    n_jobs: 0\n",
      "    tar_metadata_file: null\n",
      "    tar_shuffle_n: 1\n",
      "    shard_strategy: scatter\n",
      "    shuffle: true\n",
      "    drop_last: false\n",
      "    pin_memory: true\n",
      "    num_workers: 8\n",
      "    persistent_workers: true\n",
      "    ds_item: punct_dataset_complete\n",
      "    \n",
      "[NeMo W 2024-12-08 02:41:39 save_restore_connector:408] src path does not exist or it is not a path in nemo file. src value I got was: distilbert-base-uncased_encoder_config.json. Absolute: /workspace/NeMo-W/tutorials/nlp/distilbert-base-uncased_encoder_config.json\n"
     ]
    },
    {
     "data": {
      "application/json": {
       "ascii": false,
       "bar_format": null,
       "colour": null,
       "elapsed": 0.0049037933349609375,
       "initial": 0,
       "n": 0,
       "ncols": null,
       "nrows": null,
       "postfix": null,
       "prefix": "model.safetensors",
       "rate": null,
       "total": 267954768,
       "unit": "B",
       "unit_divisor": 1000,
       "unit_scale": true
      },
      "application/vnd.jupyter.widget-view+json": {
       "model_id": "06ad4341e4ec4b858f3e6c3c735a389c",
       "version_major": 2,
       "version_minor": 0
      },
      "text/plain": [
       "model.safetensors:   0%|          | 0.00/268M [00:00<?, ?B/s]"
      ]
     },
     "metadata": {},
     "output_type": "display_data"
    },
    {
     "name": "stderr",
     "output_type": "stream",
     "text": [
      "[NeMo W 2024-12-08 02:41:45 save_restore_connector:408] src path does not exist or it is not a path in nemo file. src value I got was: punct_label_ids.csv. Absolute: /workspace/NeMo-W/tutorials/nlp/punct_label_ids.csv\n",
      "[NeMo W 2024-12-08 02:41:45 punctuation_capitalization_model:719] The artifact `class_labels.punct_labels_file` was not found in checkpoint. Will rely on `punct_label_ids` parameter\n",
      "[NeMo W 2024-12-08 02:41:45 save_restore_connector:408] src path does not exist or it is not a path in nemo file. src value I got was: capit_label_ids.csv. Absolute: /workspace/NeMo-W/tutorials/nlp/capit_label_ids.csv\n",
      "[NeMo W 2024-12-08 02:41:45 punctuation_capitalization_model:741] The artifact `class_labels.capit_labels_file` was not found in checkpoint. Will rely on `capit_label_ids` parameter\n"
     ]
    },
    {
     "name": "stdout",
     "output_type": "stream",
     "text": [
      "[NeMo I 2024-12-08 02:41:45 save_restore_connector:263] Model PunctuationCapitalizationModel was successfully restored from /root/.cache/torch/NeMo/NeMo_2.0.0rc0/punctuation_en_distilbert/6bdea9786c4395fbbe02e4143d2e1cee/punctuation_en_distilbert.nemo.\n",
      "[NeMo I 2024-12-08 02:41:45 punctuation_capitalization_model:1167] Using batch size 4 for inference\n",
      "[NeMo I 2024-12-08 02:41:45 punctuation_capitalization_infer_dataset:127] Max length: 19\n",
      "[NeMo I 2024-12-08 02:41:45 data_preprocessing:404] Some stats of the lengths of the sequences:\n",
      "[NeMo I 2024-12-08 02:41:45 data_preprocessing:406] Min: 3 |                  Max: 17 |                  Mean: 8.0 |                  Median: 6.0\n",
      "[NeMo I 2024-12-08 02:41:45 data_preprocessing:412] 75 percentile: 9.50\n",
      "[NeMo I 2024-12-08 02:41:45 data_preprocessing:413] 99 percentile: 16.70\n"
     ]
    },
    {
     "name": "stderr",
     "output_type": "stream",
     "text": [
      "100%|██████████| 1/1 [00:00<00:00, 13.16batch/s]"
     ]
    },
    {
     "name": "stdout",
     "output_type": "stream",
     "text": [
      "\n",
      "Query   : we bought four shirts and one mug from the nvidia gear store in santa clara\n",
      "Combined: We bought four shirts and one mug from the Nvidia gear store in Santa Clara.\n",
      "\n",
      "Query   : what can i do for you today\n",
      "Combined: What can I do for you today?\n",
      "\n",
      "Query   : how are you\n",
      "Combined: How are you?\n",
      "\n",
      "Query   : how is the weather in\n",
      "Combined: How is the weather in?\n",
      "\n"
     ]
    },
    {
     "name": "stderr",
     "output_type": "stream",
     "text": [
      "\n"
     ]
    }
   ],
   "source": [
    "print(f\"Available_models: {nemo_nlp.models.PunctuationCapitalizationModel.get_available_model_names()}\\n\")\n",
    "\n",
    "pretrained_model = nemo_nlp.models.PunctuationCapitalizationModel.from_pretrained(\"punctuation_en_distilbert\")\n",
    "# define the list of queiries for inference\n",
    "queries = [\n",
    "        'we bought four shirts and one mug from the nvidia gear store in santa clara',\n",
    "        'what can i do for you today',\n",
    "        'how are you',\n",
    "        'how is the weather in',\n",
    "        'один раз в жизни я делаю хорошее дело и оно бесполезно',\n",
    "    ]\n",
    "inference_results = pretrained_model.add_punctuation_capitalization(queries)\n",
    "print()\n",
    "\n",
    "for query, result in zip(queries, inference_results):\n",
    "    print(f'Query   : {query}')\n",
    "    print(f'Combined: {result.strip()}\\n')"
   ]
  },
  {
   "cell_type": "markdown",
   "metadata": {},
   "source": [
    "Inference for large amounts of text can be performed by a script [examples/nlp/token_classification/punctuate_capitalize_infer.py](https://github.com/NVIDIA/NeMo/blob/stable/examples/nlp/token_classification/punctuate_capitalize_infer.py)\n",
    "\n",
    "```\n",
    "python punctuate_capitalize_infer.py \\\n",
    "    --input_manifest <PATH/TO/INPUT/MANIFEST> \\\n",
    "    --output_manifest <PATH/TO/OUTPUT/MANIFEST> \\\n",
    "    --pretrained_name punctuation_en_bert \\\n",
    "    --max_seq_length 64 \\\n",
    "    --margin 16 \\\n",
    "    --step 8\n",
    "```\n",
    "\n",
    "`<PATH/TO/INPUT/MANIFEST>` is a path to NeMo [ASR manifest](https://docs.nvidia.com/deeplearning/nemo/user-guide/docs/en/stable/asr/datasets.html) which contains text in which you need to restore punctuation and capitalization. If manifest contains `'pred_text'` key, then `'pred_text'` elements will be processed. Otherwise, punctuation and capitalization will be restored in `'text'` elements.\n",
    "\n",
    "`<PATH/TO/OUTPUT/MANIFEST>` is a path to NeMo ASR manifest into which result will be saved. The text with restored\n",
    "punctuation and capitalization is saved into `'pred_text'` elements if `'pred_text'` key is present in\n",
    "input manifest. Otherwise result will be saved into `'text'` elements.\n",
    "\n",
    "Alternatively you can pass text for restoring punctuation and capitalization as plain text. See help for parameters `--input_text` and `--output_text` of the script\n",
    "[punctuate_capitalize_infer.py](https://github.com/NVIDIA/NeMo/blob/stable/examples/nlp/token_classification/punctuate_capitalize_infer.py).\n",
    "\n",
    "The script `examples/nlp/token_classification/punctuate_capitalize_infer.py` can restore punctuation and capitalization in a text of arbitrary length. Long sequences are split into segments\n",
    "`--max_seq_length - 2` tokens each. Each segment starts and ends with `[CLS]` and `[SEP]`\n",
    "tokens correspondingly. Every segment is offset to the previous one by `--step` tokens. For example, if\n",
    "every character is a token, `--max_seq_length=5`, `--step=2`, then text `\"hello\"` will be split into\n",
    "segments `[['[CLS]', 'h', 'e', 'l', '[SEP]'], ['[CLS]', 'l', 'l', 'o', '[SEP]']]`.\n",
    "\n",
    "If segments overlap, then predicted probabilities for a token present in several segments are multiplied before selecting the best candidate.\n",
    "\n",
    "Splitting leads to pour performance of a model near edges of segments. Use parameter `--margin` to discard `--margin`\n",
    "probabilities predicted for `--margin` tokens near segment edges. For example, if every character is a token, `--max_seq_length=5`, `--step=1`, `--margin=1`, then text `\"hello\"` will be split into segments `[['[CLS]', 'h', 'e', 'l', '[SEP]'], ['[CLS]', 'e', 'l', 'l', '[SEP]'], ['[CLS]', 'l', 'l', 'o', '[SEP]']]`. Before calculating actual predictions, probabilities for tokens marked by asterisk are removed: `[['[CLS]', 'h', 'e', 'l'*, '[SEP]'*], ['[CLS]'*, 'e'*, 'l', 'l'*, '[SEP]'*], ['[CLS]'*, 'l'*, 'l', 'o', '[SEP]']]`.\n",
    "\n",
    "You may use parameters `max_seq_length`, `step`, and `margin` in `add_punctuation_capitalization` method.\n",
    "\n",
    "The text in the following example is from IWSLT 2019 test dataset."
   ]
  },
  {
   "cell_type": "code",
   "execution_count": null,
   "metadata": {},
   "outputs": [],
   "source": [
    "inference_results = pretrained_model.add_punctuation_capitalization(\n",
    "    [\n",
    "        \"each of these songs represents a scene a movement in some cases a sonic revolution that completely altered the \"\n",
    "        \"course of popular music they're all also calling cards almost for those cities songs totally linked with their \"\n",
    "        \"city's identity and might be why you probably consider them to be music cities now the magical mythical thing \"\n",
    "        \"the thing we kind of all love about stories like these is that those cities weren't doing anything in particular \"\n",
    "        \"to make those moments happen there's no formula for capturing lightning in a bottle a formula didn't give us \"\n",
    "        \"grunge music or introduce tupock to dr dray and there's definitely no blueprint for how to open your record \"\n",
    "        \"business in a south memphis neighborhood that turns out is home to booker t jones william bell and albert king \"\n",
    "        \"so this is just something that happens and right when the stars perfectly align great music just happens and \"\n",
    "        \"in the meantime new york and nashville can churn out the hits that come through our radios define our \"\n",
    "        \"generations and soundtrack our weddings and our funerals and everything in between i don't know about you but \"\n",
    "        \"the very idea of that is just deadly boring to me there are musicians all around you making powerful important \"\n",
    "        \"music and thanks to the internet and it's limitless possibilities for creators to create music and fans to \"\n",
    "        \"discover that music those zyite guy songs don't have to be handed down to us from some conference room full of \"\n",
    "        \"songwriters in a corporate high rise but also and more importantly we can't decide that it's just something that \"\n",
    "        \"happens because music is about so much more than hits those big iconic moments that change everything it's more \"\n",
    "        \"than just entertainment for so many of us music is truly a way to navigate life a means of self expression sure \"\n",
    "        \"but it also helps us find ourrselfel worse and figure out who we are it connects us with other people as almost \"\n",
    "        \"nothing else can across language barriers across social and cultural and economic divides music makes us smarter \"\n",
    "        \"and healthier and happier music is necessary what if you lived in a city that believed that that said we're not \"\n",
    "        \"waiting for that hit song to define us we're a music city because music is necessary by seeing music as \"\n",
    "        \"necessary a city can build two things 1st an ecosystem to support the development of professional musicians \"\n",
    "        \"and music business and 2nd a receptive and engaged audience to sustain them and those are the two critical \"\n",
    "        \"elements of a music city a city whose leaders recognize the importance of music for our development as \"\n",
    "        \"individuals our connection as a community and our viability as a vibrant place to live see smart cities music \"\n",
    "        \"cities know that thriving night lifef a creative class culture is what attracts young talented people to cities \"\n",
    "        \"it's what brings that lightning and no we can't predict the next egg that will hatch but we can create a city \"\n",
    "        \"that acts like an incubator to do that 1st we got to know what we've got that means identifying and quantifying \"\n",
    "        \"our assets we need to know them backward and forward from who and what and where they are to what their impact \"\n",
    "        \"is on the economy let's count our recording studios and our record labels our historic landmarks and our \"\n",
    "        \"hardcore punk clubs we should count monthly free jazz nights and weekly folk jams music schools artist \"\n",
    "        \"development instrument shops every lay than every luther music museums open once a open year round and music \"\n",
    "        \"festivals open just one weekend year now ideally through this process we'll create an actual asset map \"\n",
    "        \"dropping a pin for each one allowing us to see exactly what we've got and where organic momentum is already \"\n",
    "        \"happening because it's not enough to paint in broad strokes here when it comes to specific support for music \"\n",
    "        \"locally and a broad understanding of a music brand nationally you've got to have the receipts next we'll need \"\n",
    "        \"to identify our challenges now it's important to knowe that for the most part this won't be just the opposite \"\n",
    "        \"of step one we won't gain a whole lot by simply thinking about what's missing from our map instead we need to \"\n",
    "        \"approach this more holistically there are lots of music venues on our map awesome but are they struggling do \"\n",
    "        \"we have a venue ladder which just means can an artist starting out at a coffee house open mike see a clear path \"\n",
    "        \"for how they'll grow from that 25 seat room to a hundred seat room and so on or are we expecting them to go from \"\n",
    "        \"a coffee house to a colossum maybe our challenges lie in city infrastructure public transportation affordable \"\n",
    "        \"housing maybe like in london where the number of music venues went from 400 in 2010 to 100 in 2015 we need to \"\n",
    "        \"think about protections against gentrification the mayor of london in december of last year actually added \"\n",
    "        \"something called the agent of change principle to the city's comprehensive plan the name says it all if a real \"\n",
    "        \"estate developer wants to build condos next to an existing music venue the developer is the agent of change they \"\n",
    "        \"have to take the necessary steps for noise mitigation next and this is a very big one we need leadership and we \"\n",
    "        \"need a strategy now we know there's a lot of magic in this mix a lot of right people right place right time and \"\n",
    "        \"that will never stop being an important element of the way music is made the way some of the best most enduring \"\n",
    "        \"music is made but there cannot be a leadership vacuum in 2018 surriving music cities don't often happen and \"\n",
    "        \"don't have to happen accidentally we need elected officials who recognize the power of music and elevate the \"\n",
    "        \"voices of creatives and they're ready to put a strategy in place in music cities from berlin to paris to bogata \"\n",
    "        \"music advisory councils ensure that musicians have a seat at the table they're volunteer councils and they work \"\n",
    "        \"directly with a designated advocate inside of city hall or even the chamber of commerce the strongest strategies \"\n",
    "        \"will build music community supports like this one inward while also exporting music outward they go hand in hand \"\n",
    "        \"when we look inward we create that place that musicians want to live and when we look outward we build \"\n",
    "        \"opportunities for them to advance their career while also driving attention back to our city and leveraging music \"\n",
    "        \"as a talent attraction tool and here's something else that will help with that we've got to figure out who we are \"\n",
    "        \"now when i say austin you probably think live music capital and why because in 1991 leadership in austin saw \"\n",
    "        \"something percolating with an existing asset and they chose to own it by recognizing that momentum naming it and \"\n",
    "        \"claiming it they inevitably caused more live music venues to open existing spaces to add live music to their \"\n",
    "        \"repertoire and they created a swell of civic buy in around the idea which meant that it wasn't just a slogan in \"\n",
    "        \"some tourism pamphlet was something that locals really started to believe and take pride in now generally \"\n",
    "        \"speaking what austin created is just an assets based narrative and when we think back to step one we know that \"\n",
    "        \"every city will not tick every box many cities won't have recording studios like memphis or a songwriter and \"\n",
    "        \"publishing scene like nashville and that's not a deal breaker we simply have to find the momentum happening in \"\n",
    "        \"our city what are our unique assets in comparison to no other place so if all of that sounds like something \"\n",
    "        \"you'd like to happen where you live here are three things you can do to move the needle 1st you can use your \"\n",
    "        \"feet your ears and your dollars show up be that receptive and engaged audience that is so necessary for a music \"\n",
    "        \"city to thrive pay a cover charge buy a record discover new music and please take your friends two you can use \"\n",
    "        \"your voice buy in to the assets based narrative talk about and celebrate what your city has and three you can \"\n",
    "        \"use your vote seek out leadership that doesn't just pay lip service to your city's music but recognizes its \"\n",
    "        \"power and is prepared to put a strategy in place to elevate it grow it and build collaboration no there really \"\n",
    "        \"is no telling what city could be defined by a certain scene or a certain song in the next decade but as much \"\n",
    "        \"as we absolutely cannot predict that what we absolutely can predict is what happens when we treat music as \"\n",
    "        \"necessary and we work to build a music city and that is a place where i want to live thank you\"\n",
    "    ],\n",
    "    max_seq_length=128,\n",
    "    step=8,\n",
    "    margin=16,\n",
    "    batch_size=32,\n",
    ")\n",
    "print(inference_results[0])"
   ]
  },
  {
   "cell_type": "markdown",
   "metadata": {
    "colab_type": "text",
    "id": "ref1qSonGNhP"
   },
   "source": [
    "## Training Script\n",
    "\n",
    "If you have NeMo installed locally, you can also train the model with [nlp/token_classification/punctuation_capitalization_train_evaluate.py](https://github.com/NVIDIA/NeMo/blob/main/examples/nlp/token_classification/punctuation_capitalization_train_evaluate.py).\n",
    "\n",
    "To run training script, use:\n",
    "\n",
    "`python punctuation_capitalization_train_evaluate.py model.train_ds.ds_item=PATH_TO_TRAIN_DATA_DIR`\n",
    "\n",
    "Set NUM_SAMPLES=-1 and consider including other datasets to improve the performance of the model.\n",
    "\n",
    "# Finetuning model with your data\n",
    "\n",
    "When we were training the model from scratch, the datasets were prepared for training during the model initialization. When we are using a pretrained Punctuation and Capitalization model, before training, we need to setup training and evaluation data."
   ]
  },
  {
   "cell_type": "code",
   "execution_count": null,
   "metadata": {
    "colab": {},
    "colab_type": "code",
    "id": "4X1BahRlkaNf"
   },
   "outputs": [],
   "source": [
    "# let's reload our pretrained model\n",
    "pretrained_model = nemo_nlp.models.PunctuationCapitalizationModel.from_pretrained('punctuation_en_distilbert')\n",
    "\n",
    "# setup train and validation Pytorch DataLoaders\n",
    "pretrained_model.update_config_after_restoring_from_checkpoint(\n",
    "    train_ds={\n",
    "        'ds_item': DATA_DIR,\n",
    "        'text_file': 'text_train.txt',\n",
    "        'labels_file': 'labels_train.txt',\n",
    "        'tokens_in_batch': 1024,\n",
    "    },\n",
    "    validation_ds={\n",
    "        'ds_item': DATA_DIR,\n",
    "        'text_file': 'text_dev.txt',\n",
    "        'labels_file': 'labels_dev.txt',\n",
    "        'tokens_in_batch': 1024,\n",
    "    },\n",
    ")\n",
    "\n",
    "# and now we can create a PyTorch Lightning trainer and call `fit` again\n",
    "# for this tutorial we are setting fast_dev_run to True, and the trainer will run 1 training batch and 1 validation batch\n",
    "# for actual model training, disable the flag\n",
    "fast_dev_run = True\n",
    "trainer = pl.Trainer(devices=1, accelerator='gpu', fast_dev_run=fast_dev_run)\n",
    "pretrained_model.set_trainer(trainer)\n",
    "pretrained_model.setup_training_data()\n",
    "pretrained_model.setup_validation_data()\n",
    "trainer.fit(pretrained_model)"
   ]
  }
 ],
 "metadata": {
  "accelerator": "GPU",
  "colab": {
   "collapsed_sections": [
    "daYw_Xll2ZR9"
   ],
   "name": "Punctuation_and_Capitalization.ipynb",
   "private_outputs": true,
   "provenance": []
  },
  "kernelspec": {
   "display_name": "Python 3",
   "language": "python",
   "name": "python3"
  },
  "language_info": {
   "codemirror_mode": {
    "name": "ipython",
    "version": 3
   },
   "file_extension": ".py",
   "mimetype": "text/x-python",
   "name": "python",
   "nbconvert_exporter": "python",
   "pygments_lexer": "ipython3",
   "version": "3.10.12"
  },
  "pycharm": {
   "stem_cell": {
    "cell_type": "raw",
    "metadata": {
     "collapsed": false
    },
    "source": []
   }
  }
 },
 "nbformat": 4,
 "nbformat_minor": 1
}
