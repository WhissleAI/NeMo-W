{
  "cells": [
    {
      "cell_type": "code",
      "execution_count": 1,
      "metadata": {
        "id": "pEYsuj0J9pId"
      },
      "outputs": [],
      "source": [
        "\"\"\"\n",
        "You can run either this notebook locally (if you have all the dependencies and a GPU) or on Google Colab.\n",
        "\n",
        "Instructions for setting up Colab are as follows:\n",
        "1. Open a new Python 3 notebook.\n",
        "2. Import this notebook from GitHub (File -> Upload Notebook -> \"GitHub\" tab -> copy/paste GitHub URL)\n",
        "3. Connect to an instance with a GPU (Runtime -> Change runtime type -> select \"GPU\" for hardware accelerator)\n",
        "4. Run this cell to set up dependencies.\n",
        "5. Restart the runtime (Runtime -> Restart Runtime) for any upgraded packages to take effect\n",
        "\n",
        "\n",
        "NOTE: User is responsible for checking the content of datasets and the applicable licenses and determining if suitable for the intended use.\n",
        "\"\"\"\n",
        "# If you're using Google Colab and not running locally, run this cell.\n",
        "\n",
        "# Install dependencies\n",
        "# !pip install wget\n",
        "# !apt-get install sox libsndfile1 ffmpeg\n",
        "# !pip install text-unidecode\n",
        "# !pip install matplotlib>=3.3.2\n",
        "\n",
        "\n",
        "## Install NeMo\n",
        "BRANCH = 'main'\n",
        "# !python -m pip install git+https://github.com/NVIDIA/NeMo.git@$BRANCH#egg=nemo_toolkit[all]\n",
        "\n",
        "## Grab the config we'll use in this example\n",
        "# !mkdir configs\n",
        "# !wget -P configs/ https://raw.githubusercontent.com/NVIDIA/NeMo/$BRANCH/examples/asr/conf/contextnet_rnnt/contextnet_rnnt.yaml"
      ]
    },
    {
      "cell_type": "code",
      "execution_count": 2,
      "metadata": {},
      "outputs": [
        {
          "name": "stdout",
          "output_type": "stream",
          "text": [
            "/workspace/nemo/NeMo-opensource/nemo/collections/asr/__init__.py\n",
            "/workspace/nemo/NeMo-opensource/nemo/core/__init__.py\n",
            "/workspace/nemo/NeMo-opensource/nemo/__init__.py\n"
          ]
        }
      ],
      "source": [
        "import os\n",
        "import sys\n",
        "\n",
        "\n",
        "# Insert local paths at the beginning of sys.path\n",
        "sys.path.insert(0, os.path.abspath('/workspace/nemo/NeMo-opensource/'))\n",
        "\n",
        "import nemo.collections.asr as nemo_asr\n",
        "print(nemo_asr.__file__)\n",
        "import nemo.core as nemo_core\n",
        "print(nemo_core.__file__)\n",
        "from nemo.core import adapter_mixins\n",
        "import nemo\n",
        "print(nemo.__file__)\n",
        "# Restore the site-packages paths\n",
        "# sys.path.extend(site_packages_paths)"
      ]
    },
    {
      "cell_type": "code",
      "execution_count": 3,
      "metadata": {},
      "outputs": [
        {
          "name": "stdout",
          "output_type": "stream",
          "text": [
            "/usr/local/lib/python3.10/dist-packages/lightning/__init__.py\n"
          ]
        }
      ],
      "source": [
        "import lightning\n",
        "print(lightning.__file__)"
      ]
    },
    {
      "cell_type": "markdown",
      "metadata": {
        "id": "cTV4WLrArmxS"
      },
      "source": [
        "# ASR Domain Adaptation with Adapters\n",
        "\n",
        "Throughout various Automatic Speech Recognition tutorials, you may have noticed that ASR datasets are generally enormous - on the order of hundreds or even thousands of hours of speech. Such a large amount of data imposes significant restrictions on the development of ASR models due to the cost of collection of labeled data (or even unlabeled datasets) and the severe compute cost to train a model on that much data. \n",
        "\n",
        "We further see that when fine-tuning a pre-trained model, we need large datasets and compute to achieve superior results and avoid overfitting to the new dataset. Worse, by training the entire model (or even just the decoder modules), we severely degrade the model's performance on the original dataset.\n",
        "\n",
        "-----\n",
        "\n",
        "In this tutorial, we will showcase **Adapters** : A powerful method to efficiently adapt a pre-trained model to a new dataset (with minimal amounts of data, even just 30 minutes !) with minimal compute resources (on a single GPU, in around 10 minutes of training time).\n"
      ]
    },
    {
      "cell_type": "markdown",
      "metadata": {
        "id": "f-LSGyL4xw9c"
      },
      "source": [
        "## What are Adapters?\n",
        "\n",
        "Adapters are a straightforward concept proposed in multiple papers across various domains. For the sake of brevity, we will choose a recent paper [Using Adapters to Overcome Catastrophic Forgetting in End-to-End Automatic Speech Recognition](https://arxiv.org/abs/2203.16082) as a reference for this discussion.\n",
        "\n",
        "Essentially, an **Adapter** is any **trainable module that is added * after * a model has been trained to convergence**. \n",
        "\n",
        "- These additional modules form a residual bridge over the output of each layer they adapt, such that the model's original performance is not lost. \n",
        "- The original parameters of the model are frozen in their entirety - so that we don't lose performance on the original domain.\n",
        "- We train only the new adapter parameters (an insignificant fraction of the total number of parameters). This allows fast experimentation.\n",
        "\n",
        "-----\n",
        "\n",
        "Adapters are a straightforward concept - as shown by the diagram below. At their simplest, they are residual Feedforward layers that compress the input dimension ($D$) to a small bottleneck dimension ($H$), such that $R^D \\text{->} R^H$, compute an activation (such as ReLU), finally mapping $R^H \\text{->} R^D$ with another Feedforward layer. This output is then added to the input via a simple residual connection.\n",
        "\n",
        "<div align=\"center\">\n",
        "  <img src=\"https://mermaid.ink/img/pako:eNptkLFqwzAQhl9F3ORAPDSjA4EUx6RgXEjbycpwWOdG1JaMfEoakrx7ZcfpUKrlxH_fz4d0gcoqggTqxp6qAzoW76k0Ipx1-WI6z3sRxyuRF1GOZ3KisK6d3YG8GFdZ9hRJeLbMDRmqvkRGpDLrTuiUiEWUigBtlyIVqzBnEqZ66I39dcX6iKytKXeUf-wn-286QoFeBMvmu0PTD-EfyXaQpP9JFmP_1XN4S3kfD8W4ue6o18pjc52gYQlzaMm1qFX4msuQSOADtSQhCdfaOupZgjS3QPpOIdNGabYOkhqbnuaAnu3b2VSQsPP0gFKNnw7bibr9AJkZdXU\" height=100% />\n",
        "</div>\n",
        "\n",
        "-----\n",
        "\n",
        "Adapter modules such as this are usually initialized. The initial output of the adapter will always be zeros to prevent degradation of the original model's performance due to the addition of such modules."
      ]
    },
    {
      "cell_type": "markdown",
      "metadata": {
        "id": "YGn1__-Jv2Bq"
      },
      "source": [
        "## Advantages of Adapters\n",
        "\n",
        "Since adapters are additional parameters added to an already trained network, and due to their construction, they possess multiple beneficial properties.\n",
        "\n",
        "- **Added parameter cost**: They cost an insignificant number of parameters compared to the original model (generally 0.5% - 1% of the initial parameter count).\n",
        "- **Residual bridge**: Adapters are initialized with special care, such that their contribution to the output of each layer they adapt is initially 0. Therefore, after the addition of the adapters, the original model does not lose any accuracy at all (even without training the adapters).\n",
        "- **Fast convergence**: Since the adapters only need to learn to modify the module's output slightly, and each adapter has a trivial parameter cost, they converge rapidly.\n",
        "- **Adapt only the encoder**: Adapters can be used anywhere, but they are most commonly used in just the encoder, keeping the decoder modules frozen. This allows the decoder to be unaffected by costly CTC/RNN-T training, which takes time to converge, and just the adapter modules in the encoder need to be updated.\n",
        "- **Dynamic and flexible adaptation**: Since adapter modules can be added any number of times, a single shared \"core\" model can have multiple adapters that are enabled/disabled dynamically to adapt to numerous scenarios. This potentially offers the case where a single \"core\" model is shared across multiple users, and each user has a small, personal adapter module used for personalization.  "
      ]
    },
    {
      "cell_type": "markdown",
      "metadata": {
        "id": "8d7y1cygv4MP"
      },
      "source": [
        "## Limitations of Adapters\n",
        "\n",
        "With all those benefits, Adapters have significant drawbacks stemming from how they are currently used.\n",
        "\n",
        "Note that there is ongoing research to overcome such restrictions, which we hope to incorporate eventually.\n",
        "\n",
        "- **Frozen decoder modules**: Since the decoder is frozen to avoid forgetting the past training, it does not learn the semantics of the text from the new domain. This may hamper some models more than others.\n",
        "- **Frozen tokenization/decoding**: A consequence of the frozen decoder is that we cannot change the vocabulary (or tokenizer) of the decoder layer - as this would cause the model to forget its past training entirely. This also means that **adapters cannot be used to train in a different language than the original language**. The text of the new domain must be supported by the original model's tokenizer/decoder.\n",
        "  - **Note**: There is nothing fundamentally wrong with still changing the vocabulary of a model that supports adapters. The benefits of adapters will reduce significantly and require costly training (similar in time and memory to finetuning). The model can no longer recover its performance by disabling all of its adapters.\n",
        "- **Easy to overfit**: Since adapters enable domain adaptation on very small amounts of speech data, it is trivial to rapidly overfit these datasets and significantly degrade performance on the original domain. \n",
        "  - **Note**: This can be overcome with some experimentation, further boosted by the fast experimentation cycle that adapters enable."
      ]
    },
    {
      "cell_type": "markdown",
      "metadata": {
        "id": "mtYWTi0irkS6"
      },
      "source": [
        "# Dataset preparation\n",
        "\n",
        "Now that we understand what adapters are and their benefits/drawbacks, we can explore how to set up adapters in NeMo ASR models.\n",
        "\n",
        "-----\n",
        "\n",
        "First, we prepare some datasets that the original model was **not trained on**, making it a new domain to be adapted. \n",
        "\n",
        "In this tutorial, we will be utilizing the `AN4` dataset - also known as the Alphanumeric dataset, which was collected and published by Carnegie Mellon University. We chose this dataset primarily because it is **very small in size** (`<1 hours of training data`), **easy to overfit when training from scratch / fine-tuning by changing the decoder** (`previous tutorials can mostly get around 10-20% WER with fine-tuning without hyperparameter tuning`), and its **text is perfectly supported by the tokenization/decoding scheme of the model**."
      ]
    },
    {
      "cell_type": "code",
      "execution_count": 4,
      "metadata": {
        "id": "NpKgT6q5-gNk"
      },
      "outputs": [],
      "source": [
        "import os\n",
        "\n",
        "if not os.path.exists(\"scripts/\"):\n",
        "  os.makedirs(\"scripts\")\n",
        "\n",
        "if not os.path.exists(\"scripts/process_an4_data.py\"):\n",
        "  !wget -P scripts/ https://raw.githubusercontent.com/NVIDIA/NeMo/$BRANCH/scripts/dataset_processing/process_an4_data.py"
      ]
    },
    {
      "cell_type": "code",
      "execution_count": 5,
      "metadata": {
        "id": "0wZZuUDi_gEV"
      },
      "outputs": [
        {
          "name": "stdout",
          "output_type": "stream",
          "text": [
            "******\n",
            "Tarfile already exists.\n",
            "Finished conversion.\n",
            "******\n",
            "Preparing AN4 dataset ...\n"
          ]
        },
        {
          "name": "stdout",
          "output_type": "stream",
          "text": [
            "/workspace/nemo/NeMo-opensource/tutorials/asr/asr_adapters/scripts/process_an4_data.py:43: FutureWarning: get_duration() keyword argument 'filename' has been renamed to 'path' in version 0.10.0.\n",
            "\tThis alias will be removed in version 1.0.\n",
            "  duration = librosa.core.get_duration(filename=audio_path)\n",
            "\u001b[0mAN4 prepared !\n"
          ]
        }
      ],
      "source": [
        "import wget\n",
        "import tarfile \n",
        "import subprocess \n",
        "import glob\n",
        "\n",
        "data_dir = \"datasets\"\n",
        "\n",
        "if not os.path.exists(data_dir):\n",
        "  os.makedirs(data_dir)\n",
        "\n",
        "# Download the dataset. This will take a few moments...\n",
        "print(\"******\")\n",
        "if not os.path.exists(data_dir + '/an4_sphere.tar.gz'):\n",
        "    an4_url = 'https://dldata-public.s3.us-east-2.amazonaws.com/an4_sphere.tar.gz'\n",
        "    an4_path = wget.download(an4_url, data_dir)\n",
        "    print(f\"Dataset downloaded at: {an4_path}\")\n",
        "else:\n",
        "    print(\"Tarfile already exists.\")\n",
        "    an4_path = data_dir + '/an4_sphere.tar.gz'\n",
        "\n",
        "\n",
        "if not os.path.exists(data_dir + '/an4/'):\n",
        "    # Untar and convert .sph to .wav (using sox)\n",
        "    tar = tarfile.open(an4_path)\n",
        "    tar.extractall(path=data_dir)\n",
        "\n",
        "    print(\"Converting .sph to .wav...\")\n",
        "    sph_list = glob.glob(data_dir + '/an4/**/*.sph', recursive=True)\n",
        "    for sph_path in sph_list:\n",
        "        wav_path = sph_path[:-4] + '.wav'\n",
        "        cmd = [\"sox\", sph_path, wav_path]\n",
        "        subprocess.run(cmd)\n",
        "\n",
        "print(\"Finished conversion.\\n******\")\n",
        "\n",
        "if os.path.exists(f\"{data_dir}/an4\"):\n",
        "  print(\"Preparing AN4 dataset ...\")\n",
        "\n",
        "  an4_path = f\"{data_dir}/\"\n",
        "  !python scripts/process_an4_data.py \\\n",
        "    --data_root=$an4_path\n",
        "\n",
        "print(\"AN4 prepared !\")"
      ]
    },
    {
      "cell_type": "code",
      "execution_count": 6,
      "metadata": {
        "id": "9fiqQeWDAXsH"
      },
      "outputs": [],
      "source": [
        "# Manifest filepaths\n",
        "TRAIN_MANIFEST = os.path.join(data_dir, \"an4\", \"train_manifest.json\")\n",
        "TEST_MANIFEST = os.path.join(data_dir, \"an4\", \"test_manifest.json\")"
      ]
    },
    {
      "cell_type": "markdown",
      "metadata": {
        "id": "q2nxi5RzAfZ5"
      },
      "source": [
        "# Prepare the \"base\" model\n",
        "\n",
        "Next, we initialize a small pre-trained model with a relatively small amount of parameters to showcase the efficacy of adapters no matter the original model size.\n",
        "\n",
        "-----\n",
        "\n",
        "Most importantly, we discuss a simple way to enable Adapter specific support to a pre-trained model checkpoint - by modifying the `encoder` config before loading the model."
      ]
    },
    {
      "cell_type": "code",
      "execution_count": 7,
      "metadata": {
        "id": "F-wt9y5iAali"
      },
      "outputs": [],
      "source": [
        "import torch\n",
        "from omegaconf import OmegaConf, open_dict\n",
        "from pytorch_lightning import Trainer\n",
        "from lightning.pytorch.loggers import WandbLogger\n",
        "wandb_logger = WandbLogger(project=\"NEMO_TEST\")\n",
        "# import nemo.collections.asr as nemo_asr"
      ]
    },
    {
      "cell_type": "code",
      "execution_count": 8,
      "metadata": {
        "id": "uVOfU7gsCI5u"
      },
      "outputs": [],
      "source": [
        "model_name = \"stt_en_conformer_ctc_large\""
      ]
    },
    {
      "cell_type": "markdown",
      "metadata": {
        "id": "TitUAeq67Hkl"
      },
      "source": [
        "## Prepare an Adapter-compatible Encoder\n",
        "\n",
        "The original model was trained without any adapters, and therefore its encoder does not support adapters.\n",
        "\n",
        " To add adapter modules to these models, we perform a few simple steps - \n",
        "\n",
        "- Extract the model config from the \"base\" model.\n",
        "- Update the `encoder` section of the config to a subclass of that model (which does have Adapter support)\n",
        "- Initialize the model with this new config, therefore enabling adapter support."
      ]
    },
    {
      "cell_type": "markdown",
      "metadata": {
        "id": "5V5UY-5c8FDv"
      },
      "source": [
        "- Extract just the config of the model."
      ]
    },
    {
      "cell_type": "code",
      "execution_count": 9,
      "metadata": {
        "id": "RzwLAHVqAqD9"
      },
      "outputs": [
        {
          "name": "stdout",
          "output_type": "stream",
          "text": [
            "[NeMo I 2024-07-22 20:42:32 cloud:58] Found existing object /root/.cache/torch/NeMo/NeMo_2.0.0rc0/stt_en_conformer_ctc_large/afb212c5bcf904e326b5e5751e7c7465/stt_en_conformer_ctc_large.nemo.\n",
            "[NeMo I 2024-07-22 20:42:32 cloud:64] Re-using file from: /root/.cache/torch/NeMo/NeMo_2.0.0rc0/stt_en_conformer_ctc_large/afb212c5bcf904e326b5e5751e7c7465/stt_en_conformer_ctc_large.nemo\n",
            "[NeMo I 2024-07-22 20:42:32 common:815] Instantiating model from pre-trained checkpoint\n"
          ]
        }
      ],
      "source": [
        "cfg = nemo_asr.models.ASRModel.from_pretrained(model_name, return_config=True)"
      ]
    },
    {
      "cell_type": "code",
      "execution_count": 10,
      "metadata": {
        "id": "O6xAz38-A_Bh"
      },
      "outputs": [],
      "source": [
        "\n",
        "# Utility method to check and update the model config\n",
        "def update_model_config_to_support_adapter(model_cfg):\n",
        "    with open_dict(model_cfg):\n",
        "        adapter_metadata = adapter_mixins.get_registered_adapter(model_cfg.encoder._target_)\n",
        "        if adapter_metadata is not None:\n",
        "            model_cfg.encoder._target_ = adapter_metadata.adapter_class_path\n",
        "    \n",
        "    print(\"Updated encoder _target_ model :\", model_cfg.encoder._target_)\n",
        "    return model_cfg"
      ]
    },
    {
      "cell_type": "markdown",
      "metadata": {
        "id": "TDk2VMXI8OkG"
      },
      "source": [
        "- Update the model config's `encoder` section to support Adapters."
      ]
    },
    {
      "cell_type": "code",
      "execution_count": 11,
      "metadata": {
        "id": "iyp4xUOLBi0v"
      },
      "outputs": [
        {
          "name": "stdout",
          "output_type": "stream",
          "text": [
            "Updated encoder _target_ model : nemo.collections.asr.modules.conformer_encoder.ConformerEncoderAdapter\n"
          ]
        }
      ],
      "source": [
        "cfg = update_model_config_to_support_adapter(cfg)"
      ]
    },
    {
      "cell_type": "markdown",
      "metadata": {
        "id": "26NTK00w8VIt"
      },
      "source": [
        "- Finally load the model with the updated config."
      ]
    },
    {
      "cell_type": "code",
      "execution_count": 12,
      "metadata": {
        "id": "7r36mkUGBvsy"
      },
      "outputs": [
        {
          "name": "stdout",
          "output_type": "stream",
          "text": [
            "[NeMo I 2024-07-22 20:42:32 cloud:58] Found existing object /root/.cache/torch/NeMo/NeMo_2.0.0rc0/stt_en_conformer_ctc_large/afb212c5bcf904e326b5e5751e7c7465/stt_en_conformer_ctc_large.nemo.\n",
            "[NeMo I 2024-07-22 20:42:32 cloud:64] Re-using file from: /root/.cache/torch/NeMo/NeMo_2.0.0rc0/stt_en_conformer_ctc_large/afb212c5bcf904e326b5e5751e7c7465/stt_en_conformer_ctc_large.nemo\n",
            "[NeMo I 2024-07-22 20:42:32 common:815] Instantiating model from pre-trained checkpoint\n",
            "[NeMo I 2024-07-22 20:42:33 mixins:172] Tokenizer SentencePieceTokenizer initialized with 128 tokens\n"
          ]
        },
        {
          "name": "stderr",
          "output_type": "stream",
          "text": [
            "[NeMo W 2024-07-22 20:42:33 modelPT:176] If you intend to do training or fine-tuning, please call the ModelPT.setup_training_data() method and provide a valid configuration file to setup the train data loader.\n",
            "    Train config : \n",
            "    manifest_filepath:\n",
            "    - - /data2/nemo_asr/nemo_asr_set_3.0/bucket1/tarred_audio_manifest.json\n",
            "    - - /data2/nemo_asr/nemo_asr_set_3.0/bucket2/tarred_audio_manifest.json\n",
            "    - - /data2/nemo_asr/nemo_asr_set_3.0/bucket3/tarred_audio_manifest.json\n",
            "    - - /data2/nemo_asr/nemo_asr_set_3.0/bucket4/tarred_audio_manifest.json\n",
            "    - - /data2/nemo_asr/nemo_asr_set_3.0/bucket5/tarred_audio_manifest.json\n",
            "    - - /data2/nemo_asr/nemo_asr_set_3.0/bucket6/tarred_audio_manifest.json\n",
            "    - - /data2/nemo_asr/nemo_asr_set_3.0/bucket7/tarred_audio_manifest.json\n",
            "    - - /data2/nemo_asr/nemo_asr_set_3.0/bucket8/tarred_audio_manifest.json\n",
            "    sample_rate: 16000\n",
            "    batch_size: 1\n",
            "    shuffle: true\n",
            "    num_workers: 4\n",
            "    pin_memory: true\n",
            "    use_start_end_token: false\n",
            "    trim_silence: false\n",
            "    max_duration: 20.0\n",
            "    min_duration: 0.1\n",
            "    is_tarred: true\n",
            "    tarred_audio_filepaths:\n",
            "    - - /data2/nemo_asr/nemo_asr_set_3.0/bucket1/audio__OP_0..8191_CL_.tar\n",
            "    - - /data2/nemo_asr/nemo_asr_set_3.0/bucket2/audio__OP_0..8191_CL_.tar\n",
            "    - - /data2/nemo_asr/nemo_asr_set_3.0/bucket3/audio__OP_0..8191_CL_.tar\n",
            "    - - /data2/nemo_asr/nemo_asr_set_3.0/bucket4/audio__OP_0..8191_CL_.tar\n",
            "    - - /data2/nemo_asr/nemo_asr_set_3.0/bucket5/audio__OP_0..8191_CL_.tar\n",
            "    - - /data2/nemo_asr/nemo_asr_set_3.0/bucket6/audio__OP_0..8191_CL_.tar\n",
            "    - - /data2/nemo_asr/nemo_asr_set_3.0/bucket7/audio__OP_0..8191_CL_.tar\n",
            "    - - /data2/nemo_asr/nemo_asr_set_3.0/bucket8/audio__OP_0..8191_CL_.tar\n",
            "    shuffle_n: 2048\n",
            "    bucketing_strategy: synced_randomized\n",
            "    bucketing_batch_size:\n",
            "    - 34\n",
            "    - 30\n",
            "    - 26\n",
            "    - 22\n",
            "    - 18\n",
            "    - 16\n",
            "    - 12\n",
            "    - 8\n",
            "    \n",
            "[NeMo W 2024-07-22 20:42:33 modelPT:183] If you intend to do validation, please call the ModelPT.setup_validation_data() or ModelPT.setup_multiple_validation_data() method and provide a valid configuration file to setup the validation data loader(s). \n",
            "    Validation config : \n",
            "    manifest_filepath:\n",
            "    - /manifests/librispeech/librivox-dev-other.json\n",
            "    - /manifests/librispeech/librivox-dev-clean.json\n",
            "    - /manifests/librispeech/librivox-test-other.json\n",
            "    - /manifests/librispeech/librivox-test-clean.json\n",
            "    sample_rate: 16000\n",
            "    batch_size: 32\n",
            "    shuffle: false\n",
            "    num_workers: 8\n",
            "    pin_memory: true\n",
            "    use_start_end_token: false\n",
            "    \n",
            "[NeMo W 2024-07-22 20:42:33 modelPT:189] Please call the ModelPT.setup_test_data() or ModelPT.setup_multiple_test_data() method and provide a valid configuration file to setup the test data loader(s).\n",
            "    Test config : \n",
            "    manifest_filepath:\n",
            "    - /manifests/librispeech/librivox-dev-other.json\n",
            "    - /manifests/librispeech/librivox-dev-clean.json\n",
            "    - /manifests/librispeech/librivox-test-other.json\n",
            "    - /manifests/librispeech/librivox-test-clean.json\n",
            "    sample_rate: 16000\n",
            "    batch_size: 32\n",
            "    shuffle: false\n",
            "    num_workers: 8\n",
            "    pin_memory: true\n",
            "    use_start_end_token: false\n",
            "    \n"
          ]
        },
        {
          "name": "stdout",
          "output_type": "stream",
          "text": [
            "[NeMo I 2024-07-22 20:42:33 features:305] PADDING: 0\n",
            "[NeMo I 2024-07-22 20:42:34 save_restore_connector:263] Model EncDecCTCModelBPE was successfully restored from /root/.cache/torch/NeMo/NeMo_2.0.0rc0/stt_en_conformer_ctc_large/afb212c5bcf904e326b5e5751e7c7465/stt_en_conformer_ctc_large.nemo.\n"
          ]
        }
      ],
      "source": [
        "model = nemo_asr.models.ASRModel.from_pretrained(model_name, override_config_path=cfg)"
      ]
    },
    {
      "cell_type": "markdown",
      "metadata": {
        "id": "x0C2r7388cRd"
      },
      "source": [
        "-----\n",
        "\n",
        "Next, we attach a `Trainer` to the model to be appropriately initialized.\n",
        "\n",
        "Note that we select just **300 update steps**, which is approximately just ten epochs over this dataset at batch sizes of 32. You can experiment with different steps to see the effect of overfitting or underfitting.\n",
        "\n",
        "**Recommendation**:\n",
        "\n",
        "You should normally start with 1-5 epochs of adaptation over your entire new domain, and then increase or decrease your number of training steps to trade off a balance in accuracy on general speech."
      ]
    },
    {
      "cell_type": "code",
      "execution_count": 13,
      "metadata": {
        "id": "sWRUXzjQMWN5"
      },
      "outputs": [
        {
          "name": "stderr",
          "output_type": "stream",
          "text": [
            "INFO: GPU available: True (cuda), used: True\n",
            "WARNING: Logging before flag parsing goes to stderr.\n",
            "I0722 20:42:51.693691 129733185169216 rank_zero.py:64] GPU available: True (cuda), used: True\n",
            "INFO: TPU available: False, using: 0 TPU cores\n",
            "I0722 20:42:51.715736 129733185169216 rank_zero.py:64] TPU available: False, using: 0 TPU cores\n",
            "INFO: HPU available: False, using: 0 HPUs\n",
            "I0722 20:42:51.716401 129733185169216 rank_zero.py:64] HPU available: False, using: 0 HPUs\n"
          ]
        }
      ],
      "source": [
        "accelerator = 'gpu' if torch.cuda.is_available() else 'cpu'\n",
        "max_steps = 300\n",
        "\n",
        "trainer = Trainer(devices=1, accelerator=accelerator, max_steps=max_steps,\n",
        "                  enable_checkpointing=False, logger=False,\n",
        "                  log_every_n_steps=5, check_val_every_n_epoch=3)\n",
        "\n",
        "model.set_trainer(trainer)"
      ]
    },
    {
      "cell_type": "code",
      "execution_count": 14,
      "metadata": {
        "id": "tJBriqr3tQV7"
      },
      "outputs": [],
      "source": [
        "# utility method\n",
        "import json\n",
        "from nemo.collections.asr.parts.utils.manifest_utils import read_manifest\n"
      ]
    },
    {
      "cell_type": "markdown",
      "metadata": {
        "id": "dm-qqTdZDUlZ"
      },
      "source": [
        "## [Optional] Check if the new domain is compatible with the original decoder\n",
        "\n",
        "The following section, while optional, designs a test to ensure that the text of the new domain can be adequately handled by the original decoder/tokenizer of the model. Please open each cell and execute to perform this sanity check.\n",
        "\n",
        "-----\n",
        "\n",
        "If this check fails, the training run might crash, or silently allow the model to learn to produce `⁇` tokens (when using SentencePiece tokenizers)."
      ]
    },
    {
      "cell_type": "markdown",
      "metadata": {
        "id": "UKTiAPV_sdFI"
      },
      "source": [
        "### Parse the base character set"
      ]
    },
    {
      "cell_type": "code",
      "execution_count": 15,
      "metadata": {
        "id": "WgogR3taD7NA"
      },
      "outputs": [],
      "source": [
        "# train_data = read_manifest(TRAIN_MANIFEST)\n",
        "# base_sets = [set(list(sample['text'])) for sample in train_data]\n",
        "# base_charset = set([])\n",
        "# for charset in base_sets:\n",
        "#   base_charset.update(charset)\n",
        "# base_charset = list(sorted(list(base_charset)))\n",
        "\n",
        "# print(\"Base charset :\", base_charset)"
      ]
    },
    {
      "cell_type": "markdown",
      "metadata": {
        "id": "x-0fzrfPshJj"
      },
      "source": [
        "### Check if there are invalid characters"
      ]
    },
    {
      "cell_type": "code",
      "execution_count": 34,
      "metadata": {
        "id": "5laUkRf5Eb6l"
      },
      "outputs": [],
      "source": [
        "# def check_valid_charset_in_vocab(model, charset):\n",
        "#   model_vocab = model.decoder.vocabulary\n",
        "#   num_invalid = 0\n",
        "\n",
        "#   for char in charset:\n",
        "#     if char != ' ' and char not in model_vocab:\n",
        "#       print(f\"Character `{char}` does not exist in the base character set of the original model !\")\n",
        "#       num_invalid += 1\n",
        "\n",
        "#   print(\"Number of invalid tokens :\", num_invalid)"
      ]
    },
    {
      "cell_type": "code",
      "execution_count": 16,
      "metadata": {
        "id": "5rEUqs7AFh5j"
      },
      "outputs": [
        {
          "name": "stdout",
          "output_type": "stream",
          "text": [
            "Number of invalid tokens : 0\n"
          ]
        }
      ],
      "source": [
        "# check_valid_charset_in_vocab(model, base_charset)"
      ]
    },
    {
      "cell_type": "markdown",
      "metadata": {
        "id": "Sf-2EHznGkI1"
      },
      "source": [
        "# Evaluate original performance on AN4 dev set\n",
        "\n",
        "Now that we possess a model capable of supporting adapters, let us quickly test the performance of the pre-trained model on the AN4 test set without any training or fine-tuning."
      ]
    },
    {
      "cell_type": "code",
      "execution_count": 15,
      "metadata": {
        "id": "Ak4v4aWjGoQH"
      },
      "outputs": [],
      "source": [
        "if not os.path.exists('scripts/transcribe_speech.py'):\n",
        "  !wget -P scripts/ https://raw.githubusercontent.com/NVIDIA/NeMo/$BRANCH/examples/asr/transcribe_speech.py\n",
        "\n",
        "if not os.path.exists('scripts/speech_to_text_eval.py'):\n",
        "  !wget -P scripts/ https://raw.githubusercontent.com/NVIDIA/NeMo/$BRANCH/examples/asr/speech_to_text_eval.py"
      ]
    },
    {
      "cell_type": "code",
      "execution_count": 18,
      "metadata": {
        "id": "OVlBKWCiIHw7"
      },
      "outputs": [],
      "source": [
        "# # temporarily save current model\n",
        "# model.save_to(\"/content/unadapted_model.nemo\")"
      ]
    },
    {
      "cell_type": "markdown",
      "metadata": {
        "id": "r03iDw9k-dAm"
      },
      "source": [
        "-----\n",
        "\n",
        "The following evaluation script will properly transcribe the AN4 test set, and score it against its ground truth."
      ]
    },
    {
      "cell_type": "code",
      "execution_count": 19,
      "metadata": {
        "id": "C6YbPt70H0-N"
      },
      "outputs": [
        {
          "name": "stdout",
          "output_type": "stream",
          "text": [
            "Traceback (most recent call last):\n",
            "  File \"/workspace/nemo/NeMo-opensource/tutorials/asr/asr_adapters/scripts/speech_to_text_eval.py\", line 71, in <module>\n",
            "    import transcribe_speech\n",
            "  File \"/workspace/nemo/NeMo-opensource/tutorials/asr/asr_adapters/scripts/transcribe_speech.py\", line 29, in <module>\n",
            "    from nemo.collections.asr.models.aed_multitask_models import parse_multitask_prompt\n",
            "ImportError: cannot import name 'parse_multitask_prompt' from 'nemo.collections.asr.models.aed_multitask_models' (/usr/local/lib/python3.10/dist-packages/nemo/collections/asr/models/aed_multitask_models.py)\n"
          ]
        }
      ],
      "source": [
        "# !python scripts/speech_to_text_eval.py \\\n",
        "#   model_path=\"/content/unadapted_model.nemo\" \\\n",
        "#   dataset_manifest=$TEST_MANIFEST \\\n",
        "#   output_filename=\"/content/unadapted_predictions.json\" \\\n",
        "#   batch_size=32 \\\n",
        "#   use_cer=False"
      ]
    },
    {
      "cell_type": "markdown",
      "metadata": {
        "id": "2VBQO3w3swu8"
      },
      "source": [
        "------\n",
        "\n",
        "Check the predictions of the current model"
      ]
    },
    {
      "cell_type": "code",
      "execution_count": 20,
      "metadata": {
        "id": "SE8uoRLsJA9F"
      },
      "outputs": [
        {
          "name": "stdout",
          "output_type": "stream",
          "text": [
            "head: cannot open '/content/unadapted_predictions.json' for reading: No such file or directory\n"
          ]
        }
      ],
      "source": [
        "# !head -n 5 /content/unadapted_predictions.json"
      ]
    },
    {
      "cell_type": "markdown",
      "metadata": {
        "id": "muRBgHHe-n7E"
      },
      "source": [
        "-----\n",
        "\n",
        "Overall, the model does quite well, obtaining roughly 6% Word Error Rate without prior training on this dataset. \n",
        "\n",
        "**Note**: Pre-trained models in NeMo are trained on several thousands of hours of speech, so it is unsurprising why this model is this accurate without any training on this toy dataset. For more realistic cases, we usually observe the range of 10-30% WER for out-of-domain speech."
      ]
    },
    {
      "cell_type": "markdown",
      "metadata": {
        "id": "b-L3prIzs3CW"
      },
      "source": [
        "# Setup training and evaluation of the model\n",
        "\n",
        "Now that we have a baseline result, let us set up the data loaders of this model to prepare for training on this dataset.\n",
        "\n",
        "You may note: this step is nearly identical to from scratch training / fine-tuning and skips the tokenizer construction/change vocabulary steps.\n",
        "\n",
        "**Note**: Each model may have special parameters in their data loader. Please refer to the configs of the pre-trained models to determine what additional changes are necessary). Below recommendations are primarily for Conformer CTC and may differ from model to model.\n",
        "\n",
        "You can parse the model config via - `print(OmegaConf.to_yaml(model.cfg))`"
      ]
    },
    {
      "cell_type": "markdown",
      "metadata": {
        "id": "V2WirN5KJpsD"
      },
      "source": [
        "## Setup dataloaders"
      ]
    },
    {
      "cell_type": "code",
      "execution_count": 47,
      "metadata": {
        "id": "F0GIxhyCJmFv"
      },
      "outputs": [
        {
          "name": "stdout",
          "output_type": "stream",
          "text": [
            "[NeMo I 2024-07-19 09:32:48 collections:199] Dataset loaded with 948 files totalling 0.71 hours\n",
            "[NeMo I 2024-07-19 09:32:48 collections:201] 0 files were filtered totalling 0.00 hours\n",
            "[NeMo I 2024-07-19 09:32:48 collections:199] Dataset loaded with 130 files totalling 0.10 hours\n",
            "[NeMo I 2024-07-19 09:32:48 collections:201] 0 files were filtered totalling 0.00 hours\n",
            "[NeMo I 2024-07-19 09:32:48 collections:199] Dataset loaded with 130 files totalling 0.10 hours\n",
            "[NeMo I 2024-07-19 09:32:48 collections:201] 0 files were filtered totalling 0.00 hours\n"
          ]
        }
      ],
      "source": [
        "with open_dict(model.cfg):\n",
        "  # Train Dataloader\n",
        "  model.cfg.train_ds.manifest_filepath = TRAIN_MANIFEST\n",
        "  model.cfg.train_ds.batch_size = 32\n",
        "  model.cfg.train_ds.is_tarred = False\n",
        "  model.cfg.train_ds.tarred_audio_filepaths = None\n",
        "\n",
        "  model.cfg.validation_ds.manifest_filepath = TEST_MANIFEST\n",
        "  model.cfg.validation_ds.batch_size = 32\n",
        "\n",
        "model.setup_training_data(model.cfg.train_ds)\n",
        "model.setup_multiple_validation_data(model.cfg.validation_ds)\n",
        "model.setup_multiple_test_data(model.cfg.validation_ds)"
      ]
    },
    {
      "cell_type": "markdown",
      "metadata": {
        "id": "T3VuqcGTNuIJ"
      },
      "source": [
        "## Setup Spectrogram Augmentation\n",
        "\n",
        "For this experiment we will continue to use the original spec augmentation config in the base model, however you may find better results by modifying the strength of this augmentation.\n",
        "\n",
        "**Note**: The script inside ASR examples **disables spec augment entirely**. This is done in order to provide a stable default to measure the best possible adaptation case, but may severely degrade the performance on general speech. Please be careful when copying the hyper parameters from the tutorial to the script for large scale experimentation."
      ]
    },
    {
      "cell_type": "code",
      "execution_count": 48,
      "metadata": {},
      "outputs": [
        {
          "name": "stdout",
          "output_type": "stream",
          "text": [
            "sample_rate : 16000\n",
            "log_prediction : True\n",
            "ctc_reduction : mean_batch\n",
            "skip_nan_grad : False\n",
            "train_ds : {'manifest_filepath': 'datasets/an4/train_manifest.json', 'sample_rate': 16000, 'batch_size': 32, 'shuffle': True, 'num_workers': 4, 'pin_memory': True, 'use_start_end_token': False, 'trim_silence': False, 'max_duration': 20.0, 'min_duration': 0.1, 'is_tarred': False, 'tarred_audio_filepaths': None, 'shuffle_n': 2048, 'bucketing_strategy': 'synced_randomized', 'bucketing_batch_size': [34, 30, 26, 22, 18, 16, 12, 8]}\n",
            "validation_ds : {'manifest_filepath': 'datasets/an4/test_manifest.json', 'sample_rate': 16000, 'batch_size': 32, 'shuffle': False, 'num_workers': 8, 'pin_memory': True, 'use_start_end_token': False}\n",
            "test_ds : {'manifest_filepath': 'datasets/an4/test_manifest.json', 'sample_rate': 16000, 'batch_size': 32, 'shuffle': False, 'num_workers': 8, 'pin_memory': True, 'use_start_end_token': False}\n",
            "tokenizer : {'dir': '/tokenizers/NeMo_ASR_SET/English/asr_set_3.0/tokenizer_spe_unigram_v128', 'type': 'bpe', 'model_path': 'nemo:e06949b0b85a485e9f280ea6d19e5492_tokenizer.model', 'vocab_path': 'nemo:53bbc634b62446de83525753e95a50ac_vocab.txt', 'spe_tokenizer_vocab': 'nemo:ff63e3c43c5f4b95bff702425366a4a6_tokenizer.vocab'}\n",
            "preprocessor : {'_target_': 'nemo.collections.asr.modules.AudioToMelSpectrogramPreprocessor', 'sample_rate': 16000, 'normalize': 'per_feature', 'window_size': 0.025, 'window_stride': 0.01, 'window': 'hann', 'features': 80, 'n_fft': 512, 'log': True, 'frame_splicing': 1, 'dither': 1e-05, 'pad_to': 0, 'pad_value': 0.0}\n",
            "spec_augment : {'_target_': 'nemo.collections.asr.modules.SpectrogramAugmentation', 'freq_masks': 2, 'time_masks': 10, 'freq_width': 27, 'time_width': 0.05}\n",
            "encoder : {'_target_': 'nemo.collections.asr.modules.conformer_encoder.ConformerEncoderAdapter', 'feat_in': 80, 'feat_out': -1, 'n_layers': 18, 'd_model': 512, 'subsampling': 'striding', 'subsampling_factor': 4, 'subsampling_conv_channels': 512, 'ff_expansion_factor': 4, 'self_attention_model': 'rel_pos', 'n_heads': 8, 'att_context_size': [-1, -1], 'xscaling': True, 'untie_biases': True, 'pos_emb_max_len': 5000, 'conv_kernel_size': 31, 'conv_norm_type': 'batch_norm', 'dropout': 0.1, 'dropout_emb': 0.0, 'dropout_att': 0.1}\n",
            "decoder : {'_target_': 'nemo.collections.asr.modules.ConvASRDecoder', 'feat_in': 512, 'num_classes': 128, 'vocabulary': ['<unk>', '▁', 's', 't', 'e', 'd', 'o', '▁the', 'a', 'i', '▁a', 'u', 'y', 'm', 'l', 'n', 'p', 're', 'c', 'h', 'r', '▁s', 'g', '▁to', 'er', 'ing', 'f', '▁and', 'an', '▁i', 'k', '▁that', \"'\", '▁of', '▁in', 'w', '▁p', 'ed', 'or', 'al', 'ar', '▁f', 'en', 'in', 'b', '▁you', '▁w', '▁b', 'le', 'll', 'es', '▁it', 've', 'ur', '▁we', '▁re', '▁be', 'ly', '▁is', '▁he', '▁o', '▁c', 'it', '▁n', '▁on', 'un', '▁t', 'on', 'se', 'th', 'ce', '▁do', 'ic', '▁for', '▁th', 'ion', 'ch', '▁was', 'ri', 'ent', '▁g', 'ver', '▁co', 'li', '▁ha', '▁ma', 'la', 'ro', 'v', 'us', '▁ca', '▁di', '▁this', 'ra', '▁st', '▁e', '▁not', '▁so', '▁de', '▁have', 'ter', 'ir', '▁go', 'ation', '▁with', 'ate', '▁me', '▁mo', 'ment', '▁con', '▁but', 'vi', '▁pro', '▁ho', 'j', '▁com', 'ight', '▁know', '▁what', 'ect', '▁ex', '▁some', '▁would', '▁like', 'x', '▁his', 'q', 'z']}\n",
            "optim : {'name': 'adamw', 'lr': 2.0, 'betas': [0.9, 0.98], 'weight_decay': 0.001, 'sched': {'name': 'NoamAnnealing', 'd_model': 512, 'warmup_steps': 10000, 'warmup_ratio': None, 'min_lr': 1e-06}}\n",
            "compute_eval_loss : False\n",
            "variational_noise : {'start_step': 0, 'std': 0.0}\n",
            "target : nemo.collections.asr.models.ctc_bpe_models.EncDecCTCModelBPE\n",
            "nemo_version : 1.9.0rc0\n",
            "decoding : {'strategy': 'greedy', 'preserve_alignments': None, 'compute_timestamps': None, 'word_seperator': ' ', 'ctc_timestamp_type': 'all', 'batch_dim_index': 0, 'greedy': {'preserve_alignments': False, 'compute_timestamps': False, 'preserve_frame_confidence': False, 'confidence_method_cfg': {'name': 'entropy', 'entropy_type': 'tsallis', 'alpha': 0.33, 'entropy_norm': 'exp', 'temperature': 'DEPRECATED'}}, 'beam': {'beam_size': 4, 'search_type': 'default', 'preserve_alignments': False, 'compute_timestamps': False, 'return_best_hypothesis': True, 'beam_alpha': 1.0, 'beam_beta': 0.0, 'kenlm_path': None, 'flashlight_cfg': {'lexicon_path': None, 'boost_path': None, 'beam_size_token': 16, 'beam_threshold': 20.0, 'unk_weight': -inf, 'sil_weight': 0.0}, 'pyctcdecode_cfg': {'beam_prune_logp': -10.0, 'token_min_logp': -5.0, 'prune_history': False, 'hotwords': None, 'hotword_weight': 10.0}}, 'confidence_cfg': {'preserve_frame_confidence': False, 'preserve_token_confidence': False, 'preserve_word_confidence': False, 'exclude_blank': True, 'aggregation': 'min', 'tdt_include_duration': False, 'method_cfg': {'name': 'entropy', 'entropy_type': 'tsallis', 'alpha': 0.33, 'entropy_norm': 'exp', 'temperature': 'DEPRECATED'}}, 'temperature': 1.0}\n"
          ]
        }
      ],
      "source": [
        "for key in model.cfg.keys():\n",
        "  print(f\"{key} : {model.cfg[key]}\")"
      ]
    },
    {
      "cell_type": "code",
      "execution_count": 49,
      "metadata": {
        "id": "T-XFuaA3OlOB"
      },
      "outputs": [],
      "source": [
        "with open_dict(model.cfg):\n",
        "  # Spec Augment\n",
        "  model.cfg.spec_augment.freq_masks = model.cfg.spec_augment.freq_masks  # Can be changed\n",
        "  model.cfg.spec_augment.freq_width = model.cfg.spec_augment.freq_width  # Can be changed\n",
        "  model.cfg.spec_augment.time_masks = model.cfg.spec_augment.time_masks  # Can be changed\n",
        "  model.cfg.spec_augment.time_width = model.cfg.spec_augment.time_width  # Can be changed\n",
        "\n",
        "model.spec_augmentation = model.from_config_dict(model.cfg.spec_augment)"
      ]
    },
    {
      "cell_type": "markdown",
      "metadata": {
        "id": "xGpdUWl_tGuA"
      },
      "source": [
        "## Setup optimizer and scheduler\n",
        "\n",
        "An interesting thing to note for adapters is their rapid convergence speed - they do not require hundreds of thousands of update steps (though that is also possible).\n",
        "\n",
        "For this reason, we have chosen hyperparameter settings that are significantly different from other tutorials - a small learning rate multiplier of 0.1 (for NoamScheduler) and a small warmup phase of just 100 steps (remember, trainer.max_steps is just 300!).\n",
        "\n",
        "Feel free to modify these values to see the effect on adapters' convergence.\n",
        "\n",
        "**Note**: The hyper parameters below correspond to the base model and may not match those applied in the ASR examples! Please note that the script the examples defaults to an **AdamW** optimizer with a **CosineAnnealing** scheduler, where as the config of Conformers is geneally a **AdamW** optimizer with a **NoamAnnealing** scheduler. The *learning rate*, *weight decay* and other hyper parameters may not be exactly the same between the tutorial and the example scripts, so please be careful when transferring the hyper parameters for large scale experiments."
      ]
    },
    {
      "cell_type": "code",
      "execution_count": 50,
      "metadata": {
        "id": "UDEIfMTcP6j6"
      },
      "outputs": [
        {
          "name": "stdout",
          "output_type": "stream",
          "text": [
            "name: adamw\n",
            "lr: 2.0\n",
            "betas:\n",
            "- 0.9\n",
            "- 0.98\n",
            "weight_decay: 0.001\n",
            "sched:\n",
            "  name: NoamAnnealing\n",
            "  d_model: 512\n",
            "  warmup_steps: 10000\n",
            "  warmup_ratio: null\n",
            "  min_lr: 1.0e-06\n",
            "\n"
          ]
        }
      ],
      "source": [
        "if 'optim' in model.cfg:\n",
        "  print(OmegaConf.to_yaml(model.cfg.optim))"
      ]
    },
    {
      "cell_type": "code",
      "execution_count": 51,
      "metadata": {
        "id": "tp_8FGPcKjMd"
      },
      "outputs": [
        {
          "name": "stdout",
          "output_type": "stream",
          "text": [
            "[NeMo I 2024-07-19 09:32:52 modelPT:767] Optimizer config = AdamW (\n",
            "    Parameter Group 0\n",
            "        amsgrad: False\n",
            "        betas: [0.9, 0.98]\n",
            "        capturable: False\n",
            "        differentiable: False\n",
            "        eps: 1e-08\n",
            "        foreach: None\n",
            "        fused: None\n",
            "        lr: 0.1\n",
            "        maximize: False\n",
            "        weight_decay: 0.0\n",
            "    )\n",
            "[NeMo I 2024-07-19 09:32:52 lr_scheduler:923] Scheduler \"<nemo.core.optim.lr_scheduler.NoamAnnealing object at 0x7eb68c4f1210>\" \n",
            "    will be used during training (effective maximum steps = 300) - \n",
            "    Parameters : \n",
            "    (d_model: 512\n",
            "    warmup_steps: 100\n",
            "    warmup_ratio: null\n",
            "    min_lr: 1.0e-06\n",
            "    max_steps: 300\n",
            "    )\n"
          ]
        }
      ],
      "source": [
        "with open_dict(model.cfg):\n",
        "  model.cfg.optim.lr = 0.1\n",
        "  model.cfg.optim.weight_decay = 0.0\n",
        "  model.cfg.optim.sched.warmup_steps = 100\n",
        "\n",
        "model.setup_optimization(model.cfg.optim);"
      ]
    },
    {
      "cell_type": "markdown",
      "metadata": {
        "id": "AGrThAt9Qh0D"
      },
      "source": [
        "# Adapters: Supported Components\n",
        "\n",
        "A NeMo model may have multiple types of adapters that are supported in each of their components. Let us see at a glance what are some of the adapter types supported by the Conformer ASR model.\n",
        "\n",
        "**Note**: Every domain may support their own types of adapters, and use them in different ways. Please refer to the documentation of each domain for information on the adapter support."
      ]
    },
    {
      "cell_type": "markdown",
      "metadata": {
        "id": "Wq1JLbNvROcL"
      },
      "source": [
        "-----\n",
        "Let's start with the modules in which the model will support adapters. We can select these adapters with a special syntax to construct \"Module adapters\".\n",
        "\n",
        "**Note**: `''` refers to the \"default\" adapter - usually the `encoder` but it is model dependent. It may also be that no specific modules are provided, in which case only `default` adapters will be available."
      ]
    },
    {
      "cell_type": "code",
      "execution_count": 53,
      "metadata": {
        "id": "fRIDhU8RVBwi"
      },
      "outputs": [
        {
          "name": "stdout",
          "output_type": "stream",
          "text": [
            "['', 'encoder', 'decoder', 'joint']\n"
          ]
        }
      ],
      "source": [
        "if hasattr(model, 'adapter_module_names'):\n",
        "  print(model.adapter_module_names)"
      ]
    },
    {
      "cell_type": "markdown",
      "metadata": {
        "id": "u5BOWWBjfQwN"
      },
      "source": [
        "-----\n",
        "Next, we can try to obtain the accepted types of each of the child modules in the Model."
      ]
    },
    {
      "cell_type": "code",
      "execution_count": 54,
      "metadata": {
        "id": "iNnSp_azQ2u8"
      },
      "outputs": [
        {
          "name": "stdout",
          "output_type": "stream",
          "text": [
            "<generator object Module.children at 0x7eb68d26be60>\n",
            "Module :  ConformerEncoderAdapter\n",
            "<class 'nemo.collections.asr.parts.submodules.adapters.multi_head_attention_adapter_module.MultiHeadAttentionAdapter'>\n",
            "<class 'nemo.collections.asr.parts.submodules.adapters.multi_head_attention_adapter_module.RelPositionMultiHeadAttentionAdapter'>\n",
            "<class 'nemo.collections.common.parts.adapter_modules.LinearAdapter'>\n",
            "\n",
            "Module :  ConvASRDecoder\n",
            "<class 'nemo.collections.common.parts.adapter_modules.LinearAdapter'>\n",
            "\n"
          ]
        }
      ],
      "source": [
        "print(model.children())\n",
        "for module in model.children():\n",
        "  if hasattr(module, 'get_accepted_adapter_types'):\n",
        "    types = module.get_accepted_adapter_types()\n",
        "    print(\"Module : \", module.__class__.__name__)\n",
        "\n",
        "    for tp in types:\n",
        "      print(tp)\n",
        "    print()"
      ]
    },
    {
      "cell_type": "markdown",
      "metadata": {
        "id": "YXTC4LiSnB2O"
      },
      "source": [
        "-----\n",
        "\n",
        "As you can see, a single component of the model may support one or more adapter types (or none at all)! Below, we will experiment with the simple Linear Adapters, but as an exercise, you might try to use other adapter types present here."
      ]
    },
    {
      "cell_type": "markdown",
      "metadata": {
        "id": "WFCUrYxnGPt3"
      },
      "source": [
        "# Adapters: Creation and Preparation\n",
        "\n",
        "Now that the data loaders have been prepared, the next step is to add the adapter modules to the model!\n",
        "\n",
        "----\n",
        "\n",
        "We first import a config for a basic `LinearAdapter` most often used in literature. \n",
        "\n",
        "`LinearAdapter` is a simple network comprising LayerNorm, a bottleneck Linear layer, an activation, and an upcast Linear layer (so that input and output channel dim match). We provide some configuration parameters (such as the input dim and the bottleneck dim)."
      ]
    },
    {
      "cell_type": "code",
      "execution_count": 55,
      "metadata": {
        "id": "oZZr6vSntuyX"
      },
      "outputs": [],
      "source": [
        "from nemo.collections.common.parts.adapter_modules import LinearAdapterConfig\n",
        "from nemo.collections.asr.parts.submodules.adapters.multi_head_attention_adapter_module import MultiHeadAttentionAdapterConfig\n",
        "from nemo.collections.asr.parts.submodules.adapters.multi_head_attention_adapter_module import RelPositionMultiHeadAttentionAdapterConfig"
      ]
    },
    {
      "cell_type": "code",
      "execution_count": 58,
      "metadata": {
        "id": "dlj0Yud4MxOi"
      },
      "outputs": [],
      "source": [
        "#%% [code]\n",
        "#@title Adapter Setup { display-mode: \"form\" }\n",
        "adapter_name = \"AN4\" #@param {type:\"string\"}\n",
        "adapter_dim = 64 #@param {type:\"integer\"}\n",
        "adapter_activation = \"swish\" #@param {type:\"string\"}\n",
        "adapter_norm_position = \"pre\" #@param [\"pre\", \"post\"]"
      ]
    },
    {
      "cell_type": "code",
      "execution_count": 59,
      "metadata": {
        "id": "Uv8WRQkXU3mu"
      },
      "outputs": [
        {
          "name": "stdout",
          "output_type": "stream",
          "text": [
            "LinearAdapterConfig(in_features=512, dim=64, activation='swish', norm_position='pre', dropout=0.0, adapter_strategy=ResidualAddAdapterStrategyConfig(stochastic_depth=0.0, l2_lambda=0.0, _target_='nemo.core.classes.mixins.adapter_mixin_strategies.ResidualAddAdapterStrategy'), _target_='nemo.collections.common.parts.adapter_modules.LinearAdapter')\n"
          ]
        }
      ],
      "source": [
        "adapter_cfg = LinearAdapterConfig(\n",
        "    in_features=model.cfg.encoder.d_model,  # conformer specific model dim. Every layer emits this dim at its output.\n",
        "    dim=adapter_dim,  # the bottleneck dimension of the adapter\n",
        "    activation=adapter_activation,  # activation used in bottleneck block\n",
        "    norm_position=adapter_norm_position,  # whether to use LayerNorm at the beginning or the end of the adapter\n",
        ")\n",
        "print(adapter_cfg)"
      ]
    },
    {
      "cell_type": "markdown",
      "metadata": {
        "id": "pIECyKxit58r"
      },
      "source": [
        "## Add a new adapter module\n",
        "\n",
        "Now that our adapter config is ready. Next, we perform a check to see what is the size of the original model and what its size will be after adding the adapter module."
      ]
    },
    {
      "cell_type": "code",
      "execution_count": 60,
      "metadata": {
        "id": "-MbSTbYiYtnB"
      },
      "outputs": [
        {
          "data": {
            "text/plain": [
              "  | Name              | Type                              | Params | Mode \n",
              "--------------------------------------------------------------------------------\n",
              "0 | preprocessor      | AudioToMelSpectrogramPreprocessor | 0      | train\n",
              "1 | encoder           | ConformerEncoderAdapter           | 121 M  | train\n",
              "2 | decoder           | ConvASRDecoder                    | 66.2 K | train\n",
              "3 | loss              | CTCLoss                           | 0      | train\n",
              "4 | spec_augmentation | SpectrogramAugmentation           | 0      | train\n",
              "5 | wer               | WER                               | 0      | train\n",
              "--------------------------------------------------------------------------------\n",
              "121 M     Trainable params\n",
              "0         Non-trainable params\n",
              "121 M     Total params\n",
              "486.005   Total estimated model params size (MB)"
            ]
          },
          "execution_count": 60,
          "metadata": {},
          "output_type": "execute_result"
        }
      ],
      "source": [
        "model.summarize()"
      ]
    },
    {
      "cell_type": "markdown",
      "metadata": {
        "id": "vjYmPbwCC0LZ"
      },
      "source": [
        "-----\n",
        "\n",
        "Next, we use `add_adapter` to add adapter blocks to the `encoder`.\n",
        "\n",
        "A single line can be used to add adapter modules to every layer of the `encoder` module. We pass it a unique name to identify this adapter and the adapter config (which can be helpful to enable or disable adapters later)."
      ]
    },
    {
      "cell_type": "code",
      "execution_count": 61,
      "metadata": {
        "id": "El6ewd1GX9V7"
      },
      "outputs": [],
      "source": [
        "model.add_adapter(name=adapter_name, cfg=adapter_cfg)"
      ]
    },
    {
      "cell_type": "markdown",
      "metadata": {
        "id": "jMsmj1W-DTSd"
      },
      "source": [
        "-----\n",
        "\n",
        "As expected, the number of parameters increased by a marginal amount (roughly 200,000 parameters)."
      ]
    },
    {
      "cell_type": "code",
      "execution_count": 62,
      "metadata": {
        "id": "rIvw0_8iYpHW"
      },
      "outputs": [
        {
          "data": {
            "text/plain": [
              "  | Name              | Type                              | Params | Mode \n",
              "--------------------------------------------------------------------------------\n",
              "0 | preprocessor      | AudioToMelSpectrogramPreprocessor | 0      | train\n",
              "1 | encoder           | ConformerEncoderAdapter           | 122 M  | train\n",
              "2 | decoder           | ConvASRDecoder                    | 66.2 K | train\n",
              "3 | loss              | CTCLoss                           | 0      | train\n",
              "4 | spec_augmentation | SpectrogramAugmentation           | 0      | train\n",
              "5 | wer               | WER                               | 0      | train\n",
              "--------------------------------------------------------------------------------\n",
              "122 M     Trainable params\n",
              "0         Non-trainable params\n",
              "122 M     Total params\n",
              "490.798   Total estimated model params size (MB)"
            ]
          },
          "execution_count": 62,
          "metadata": {},
          "output_type": "execute_result"
        }
      ],
      "source": [
        "model.summarize()"
      ]
    },
    {
      "cell_type": "markdown",
      "metadata": {
        "id": "RH6cXPW2ZHdZ"
      },
      "source": [
        "## Enable / Disable Adapters\n",
        "\n",
        "Now that we have adapter modules, we can enable or disable them as we require. \n",
        "\n",
        "For this purpose, we utilize the `model.set_enabled_adapters` method - it takes an optional `name` and a boolean value for `enabled`. If a name is not passed, it will set enable/disable all available adapters.\n",
        "\n",
        "**Note**: We recommend training one adapter at a time, disjoint from all other adapters. As such, it simplifies the selection of adapters for each particular domain. To do so - **disable all adapters first, then enable only the newly added adapter**."
      ]
    },
    {
      "cell_type": "code",
      "execution_count": 63,
      "metadata": {
        "id": "ogUfDkjdZKHu"
      },
      "outputs": [
        {
          "name": "stdout",
          "output_type": "stream",
          "text": [
            "[NeMo I 2024-07-19 09:39:28 adapter_mixins:719] Setting adapter 'AN4' status : Enabled = False\n",
            "[NeMo I 2024-07-19 09:39:28 adapter_mixins:734] Setting adapter 'AN4' status : Enabled = True\n"
          ]
        }
      ],
      "source": [
        "model.set_enabled_adapters(enabled=False)  # disable all adapters\n",
        "model.set_enabled_adapters(name=adapter_name, enabled=True)  # enable only the current adapter we want to train"
      ]
    },
    {
      "cell_type": "markdown",
      "metadata": {
        "id": "V87SBzdDY1x1"
      },
      "source": [
        "## Training only the adapter(s)\n",
        "\n",
        "Now that we have enabled just the adapter we wish to adapt onto AN4 dataset, we must freeze all the other parameters of the network and train just the adapters.\n",
        "\n",
        "We provide the general utility methods for this purpose - `model.freeze()` and `model.unfreeze_enabled_adapters()`. \n",
        "\n",
        "The second method will look up all the enabled adapters selected in the previous step and enable their gradient calculation so that they can be trained."
      ]
    },
    {
      "cell_type": "code",
      "execution_count": 64,
      "metadata": {
        "id": "RN2YayAoYzaI"
      },
      "outputs": [
        {
          "name": "stdout",
          "output_type": "stream",
          "text": [
            "[NeMo I 2024-07-19 09:39:34 adapter_mixins:405] Froze module encoder.layers.0.conv.batch_norm: BatchNorm1d(512, eps=1e-05, momentum=0.1, affine=True, track_running_stats=False)\n",
            "[NeMo I 2024-07-19 09:39:34 adapter_mixins:405] Froze module encoder.layers.1.conv.batch_norm: BatchNorm1d(512, eps=1e-05, momentum=0.1, affine=True, track_running_stats=False)\n",
            "[NeMo I 2024-07-19 09:39:34 adapter_mixins:405] Froze module encoder.layers.2.conv.batch_norm: BatchNorm1d(512, eps=1e-05, momentum=0.1, affine=True, track_running_stats=False)\n",
            "[NeMo I 2024-07-19 09:39:34 adapter_mixins:405] Froze module encoder.layers.3.conv.batch_norm: BatchNorm1d(512, eps=1e-05, momentum=0.1, affine=True, track_running_stats=False)\n",
            "[NeMo I 2024-07-19 09:39:34 adapter_mixins:405] Froze module encoder.layers.4.conv.batch_norm: BatchNorm1d(512, eps=1e-05, momentum=0.1, affine=True, track_running_stats=False)\n",
            "[NeMo I 2024-07-19 09:39:34 adapter_mixins:405] Froze module encoder.layers.5.conv.batch_norm: BatchNorm1d(512, eps=1e-05, momentum=0.1, affine=True, track_running_stats=False)\n",
            "[NeMo I 2024-07-19 09:39:34 adapter_mixins:405] Froze module encoder.layers.6.conv.batch_norm: BatchNorm1d(512, eps=1e-05, momentum=0.1, affine=True, track_running_stats=False)\n",
            "[NeMo I 2024-07-19 09:39:34 adapter_mixins:405] Froze module encoder.layers.7.conv.batch_norm: BatchNorm1d(512, eps=1e-05, momentum=0.1, affine=True, track_running_stats=False)\n",
            "[NeMo I 2024-07-19 09:39:34 adapter_mixins:405] Froze module encoder.layers.8.conv.batch_norm: BatchNorm1d(512, eps=1e-05, momentum=0.1, affine=True, track_running_stats=False)\n",
            "[NeMo I 2024-07-19 09:39:34 adapter_mixins:405] Froze module encoder.layers.9.conv.batch_norm: BatchNorm1d(512, eps=1e-05, momentum=0.1, affine=True, track_running_stats=False)\n",
            "[NeMo I 2024-07-19 09:39:34 adapter_mixins:405] Froze module encoder.layers.10.conv.batch_norm: BatchNorm1d(512, eps=1e-05, momentum=0.1, affine=True, track_running_stats=False)\n",
            "[NeMo I 2024-07-19 09:39:34 adapter_mixins:405] Froze module encoder.layers.11.conv.batch_norm: BatchNorm1d(512, eps=1e-05, momentum=0.1, affine=True, track_running_stats=False)\n",
            "[NeMo I 2024-07-19 09:39:34 adapter_mixins:405] Froze module encoder.layers.12.conv.batch_norm: BatchNorm1d(512, eps=1e-05, momentum=0.1, affine=True, track_running_stats=False)\n",
            "[NeMo I 2024-07-19 09:39:34 adapter_mixins:405] Froze module encoder.layers.13.conv.batch_norm: BatchNorm1d(512, eps=1e-05, momentum=0.1, affine=True, track_running_stats=False)\n",
            "[NeMo I 2024-07-19 09:39:34 adapter_mixins:405] Froze module encoder.layers.14.conv.batch_norm: BatchNorm1d(512, eps=1e-05, momentum=0.1, affine=True, track_running_stats=False)\n",
            "[NeMo I 2024-07-19 09:39:34 adapter_mixins:405] Froze module encoder.layers.15.conv.batch_norm: BatchNorm1d(512, eps=1e-05, momentum=0.1, affine=True, track_running_stats=False)\n",
            "[NeMo I 2024-07-19 09:39:34 adapter_mixins:405] Froze module encoder.layers.16.conv.batch_norm: BatchNorm1d(512, eps=1e-05, momentum=0.1, affine=True, track_running_stats=False)\n",
            "[NeMo I 2024-07-19 09:39:34 adapter_mixins:405] Froze module encoder.layers.17.conv.batch_norm: BatchNorm1d(512, eps=1e-05, momentum=0.1, affine=True, track_running_stats=False)\n",
            "[NeMo I 2024-07-19 09:39:34 adapter_mixins:435] Unfrozen adapter : AN4\n"
          ]
        }
      ],
      "source": [
        "model.freeze()\n",
        "model.unfreeze_enabled_adapters()"
      ]
    },
    {
      "cell_type": "markdown",
      "metadata": {
        "id": "5PriDOuwEbmp"
      },
      "source": [
        "### Why are BatchNormalization layers being frozen?\n",
        "\n",
        "A side-note here regarding BatchNormalization - even when the model is frozen, while no gradient updates will occur to the beta and gamma parameters, **the moving averages of each batch norm layer continue to update**!\n",
        "\n",
        "Such updates cause a severe issue when we disable all the adapters - while technically, no parameters of the original model were updated since the moving averages of BatchNormalization were updated. You will have degraded performance on the original domain (even with all adapters disabled !).\n",
        "\n",
        "-----\n",
        "\n",
        "For this reason, `unfreeze_enabled_adapters()` has an argument `freeze_batchnorm=True` as the default. It will find all the batch normalization layers and disable this flag so that it will the encoder layers remain exactly frozen even during adapter finetuning. This allows the original model performance to be recovered.\n",
        "\n"
      ]
    },
    {
      "cell_type": "code",
      "execution_count": 65,
      "metadata": {
        "id": "Lf3pdwQ2Zch5"
      },
      "outputs": [
        {
          "data": {
            "text/plain": [
              "  | Name              | Type                              | Params | Mode\n",
              "-------------------------------------------------------------------------------\n",
              "0 | preprocessor      | AudioToMelSpectrogramPreprocessor | 0      | eval\n",
              "1 | encoder           | ConformerEncoderAdapter           | 122 M  | eval\n",
              "2 | decoder           | ConvASRDecoder                    | 66.2 K | eval\n",
              "3 | loss              | CTCLoss                           | 0      | eval\n",
              "4 | spec_augmentation | SpectrogramAugmentation           | 0      | eval\n",
              "5 | wer               | WER                               | 0      | eval\n",
              "-------------------------------------------------------------------------------\n",
              "1.2 M     Trainable params\n",
              "121 M     Non-trainable params\n",
              "122 M     Total params\n",
              "490.798   Total estimated model params size (MB)"
            ]
          },
          "execution_count": 65,
          "metadata": {},
          "output_type": "execute_result"
        }
      ],
      "source": [
        "model.summarize()"
      ]
    },
    {
      "cell_type": "markdown",
      "metadata": {
        "id": "JI6C_TYGGgyZ"
      },
      "source": [
        "-----\n",
        "\n",
        "Here we see that after the above steps, we will be training just ~ 200,000 parameters out of a 10+ M parameter model."
      ]
    },
    {
      "cell_type": "code",
      "execution_count": 31,
      "metadata": {
        "id": "w9ciIw-2bSHq"
      },
      "outputs": [
        {
          "name": "stdout",
          "output_type": "stream",
          "text": [
            "[NeMo I 2024-07-08 10:06:22 exp_manager:396] Experiments will be logged at experiments/ASR-Adapters/2024-07-08_10-06-22\n",
            "[NeMo I 2024-07-08 10:06:22 exp_manager:856] TensorboardLogger has been set up\n",
            "[NeMo I 2024-07-08 10:06:22 exp_manager:871] WandBLogger has been set up\n"
          ]
        },
        {
          "name": "stderr",
          "output_type": "stream",
          "text": [
            "[NeMo W 2024-07-08 10:06:22 exp_manager:966] The checkpoint callback was told to monitor a validation value and trainer's max_steps was set to 300. Please ensure that max_steps will run for at least 3 epochs to ensure that checkpointing will not error out.\n"
          ]
        }
      ],
      "source": [
        "# Prepare NeMo's Experiment manager to handle checkpoint saving and logging for us\n",
        "from nemo.utils import exp_manager\n",
        "\n",
        "\n",
        "# Environment variable generally used for multi-node multi-gpu training.\n",
        "# In notebook environments, this flag is unnecessary and can cause logs of multiple training runs to overwrite each other.\n",
        "os.environ.pop('NEMO_EXPM_VERSION', None)\n",
        "\n",
        "exp_config = exp_manager.ExpManagerConfig(\n",
        "    exp_dir=f'experiments/',\n",
        "    name=f\"ASR-Adapters\",\n",
        "    checkpoint_callback_params=exp_manager.CallbackParams(\n",
        "        monitor=\"val_wer\",\n",
        "        mode=\"min\",\n",
        "        always_save_nemo=True,\n",
        "        save_best_model=True,\n",
        "    ),\n",
        "    create_wandb_logger=True,\n",
        "    wandb_logger_kwargs=OmegaConf.create({\"project\": \"NEMO_TEST\", \"name\": \"ASR-Adapters\", \"log_model\":\"all\"}),\n",
        ")\n",
        "\n",
        "exp_config = OmegaConf.structured(exp_config)\n",
        "\n",
        "logdir = exp_manager.exp_manager(trainer, exp_config)"
      ]
    },
    {
      "cell_type": "code",
      "execution_count": 33,
      "metadata": {
        "id": "cY2TJod3ZfyE"
      },
      "outputs": [
        {
          "name": "stderr",
          "output_type": "stream",
          "text": [
            "LOCAL_RANK: 0 - CUDA_VISIBLE_DEVICES: [0]\n"
          ]
        },
        {
          "name": "stdout",
          "output_type": "stream",
          "text": [
            "[NeMo I 2024-07-07 13:27:08 modelPT:767] Optimizer config = AdamW (\n",
            "    Parameter Group 0\n",
            "        amsgrad: False\n",
            "        betas: [0.9, 0.98]\n",
            "        capturable: False\n",
            "        differentiable: False\n",
            "        eps: 1e-08\n",
            "        foreach: None\n",
            "        fused: None\n",
            "        lr: 0.1\n",
            "        maximize: False\n",
            "        weight_decay: 0.0\n",
            "    )\n",
            "[NeMo I 2024-07-07 13:27:08 lr_scheduler:923] Scheduler \"<nemo.core.optim.lr_scheduler.NoamAnnealing object at 0x77979d4efc70>\" \n",
            "    will be used during training (effective maximum steps = 300) - \n",
            "    Parameters : \n",
            "    (d_model: 176\n",
            "    warmup_steps: 100\n",
            "    warmup_ratio: null\n",
            "    min_lr: 1.0e-06\n",
            "    max_steps: 300\n",
            "    )\n"
          ]
        },
        {
          "name": "stderr",
          "output_type": "stream",
          "text": [
            "\n",
            "  | Name              | Type                              | Params | Mode\n",
            "-------------------------------------------------------------------------------\n",
            "0 | preprocessor      | AudioToMelSpectrogramPreprocessor | 0      | eval\n",
            "1 | encoder           | ConformerEncoderAdapter           | 13.2 M | eval\n",
            "2 | decoder           | ConvASRDecoder                    | 181 K  | eval\n",
            "3 | loss              | CTCLoss                           | 0      | eval\n",
            "4 | spec_augmentation | SpectrogramAugmentation           | 0      | eval\n",
            "5 | wer               | WER                               | 0      | eval\n",
            "-------------------------------------------------------------------------------\n",
            "185 K     Trainable params\n",
            "13.2 M    Non-trainable params\n",
            "13.3 M    Total params\n",
            "53.360    Total estimated model params size (MB)\n"
          ]
        },
        {
          "data": {
            "application/vnd.jupyter.widget-view+json": {
              "model_id": "b9415ef40e0b4ef581d18cb559be9768",
              "version_major": 2,
              "version_minor": 0
            },
            "text/plain": [
              "Sanity Checking: |          | 0/? [00:00<?, ?it/s]"
            ]
          },
          "metadata": {},
          "output_type": "display_data"
        },
        {
          "name": "stdout",
          "output_type": "stream",
          "text": [
            "[NeMo I 2024-07-07 13:27:08 wer:334] \n",
            "    \n",
            "[NeMo I 2024-07-07 13:27:08 wer:335] reference:rubout g m e f three nine\n",
            "[NeMo I 2024-07-07 13:27:08 wer:336] predicted:rabutt g m e f three nine\n",
            "[NeMo I 2024-07-07 13:27:08 wer:334] \n",
            "    \n",
            "[NeMo I 2024-07-07 13:27:08 wer:335] reference:v a n e s s a\n",
            "[NeMo I 2024-07-07 13:27:08 wer:336] predicted:v a n e s s a\n"
          ]
        },
        {
          "name": "stderr",
          "output_type": "stream",
          "text": [
            "[NeMo W 2024-07-07 13:27:08 nemo_logging:349] /usr/local/lib/python3.10/dist-packages/pytorch_lightning/trainer/connectors/data_connector.py:424: The 'train_dataloader' does not have many workers which may be a bottleneck. Consider increasing the value of the `num_workers` argument` to `num_workers=15` in the `DataLoader` to improve performance.\n",
            "    \n"
          ]
        },
        {
          "data": {
            "application/vnd.jupyter.widget-view+json": {
              "model_id": "535776581b0e4d46aa73cc80ce5a8ddd",
              "version_major": 2,
              "version_minor": 0
            },
            "text/plain": [
              "Training: |          | 0/? [00:00<?, ?it/s]"
            ]
          },
          "metadata": {},
          "output_type": "display_data"
        },
        {
          "name": "stdout",
          "output_type": "stream",
          "text": [
            "[NeMo I 2024-07-07 13:27:08 preemption:56] Preemption requires torch distributed to be initialized, disabling preemption\n",
            "[NeMo I 2024-07-07 13:27:09 wer:334] \n",
            "    \n",
            "[NeMo I 2024-07-07 13:27:09 wer:335] reference:w h i t n e y\n",
            "[NeMo I 2024-07-07 13:27:09 wer:336] predicted:w h i t n e y\n",
            "[NeMo I 2024-07-07 13:27:10 wer:334] \n",
            "    \n",
            "[NeMo I 2024-07-07 13:27:10 wer:335] reference:one five oh one five\n",
            "[NeMo I 2024-07-07 13:27:10 wer:336] predicted:one five oh one five\n",
            "[NeMo I 2024-07-07 13:27:10 wer:334] \n",
            "    \n",
            "[NeMo I 2024-07-07 13:27:10 wer:335] reference:one five two one three\n",
            "[NeMo I 2024-07-07 13:27:10 wer:336] predicted:one five two one three\n",
            "[NeMo I 2024-07-07 13:27:11 wer:334] \n",
            "    \n",
            "[NeMo I 2024-07-07 13:27:11 wer:335] reference:l i n d a\n",
            "[NeMo I 2024-07-07 13:27:11 wer:336] predicted:l i n d a\n",
            "[NeMo I 2024-07-07 13:27:12 wer:334] \n",
            "    \n",
            "[NeMo I 2024-07-07 13:27:12 wer:335] reference:i t h a c a\n",
            "[NeMo I 2024-07-07 13:27:12 wer:336] predicted:i t h a c a\n",
            "[NeMo I 2024-07-07 13:27:12 wer:334] \n",
            "    \n",
            "[NeMo I 2024-07-07 13:27:12 wer:335] reference:one five two two one\n",
            "[NeMo I 2024-07-07 13:27:12 wer:336] predicted:one five two two one\n",
            "[NeMo I 2024-07-07 13:27:13 wer:334] \n",
            "    \n",
            "[NeMo I 2024-07-07 13:27:13 wer:335] reference:p t q d q one\n",
            "[NeMo I 2024-07-07 13:27:13 wer:336] predicted:p t q d q one\n",
            "[NeMo I 2024-07-07 13:27:13 wer:334] \n",
            "    \n",
            "[NeMo I 2024-07-07 13:27:13 wer:335] reference:b a i q w eight\n",
            "[NeMo I 2024-07-07 13:27:13 wer:336] predicted:b a i q w eight\n",
            "[NeMo I 2024-07-07 13:27:14 wer:334] \n",
            "    \n",
            "[NeMo I 2024-07-07 13:27:14 wer:335] reference:nine three five oh six nine two\n",
            "[NeMo I 2024-07-07 13:27:14 wer:336] predicted:nine three five oh six nine two\n",
            "[NeMo I 2024-07-07 13:27:15 wer:334] \n",
            "    \n",
            "[NeMo I 2024-07-07 13:27:15 wer:335] reference:u s i q n seventy one\n",
            "[NeMo I 2024-07-07 13:27:15 wer:336] predicted:u s i q n seventy one\n",
            "[NeMo I 2024-07-07 13:27:15 wer:334] \n",
            "    \n",
            "[NeMo I 2024-07-07 13:27:15 wer:335] reference:six zero one five\n",
            "[NeMo I 2024-07-07 13:27:15 wer:336] predicted:six zero one five\n",
            "[NeMo I 2024-07-07 13:27:16 wer:334] \n",
            "    \n",
            "[NeMo I 2024-07-07 13:27:16 wer:335] reference:o a k d a l e d r i v e\n",
            "[NeMo I 2024-07-07 13:27:16 wer:336] predicted:o a k d a l e d r i v e\n",
            "[NeMo I 2024-07-07 13:27:16 wer:334] \n",
            "    \n",
            "[NeMo I 2024-07-07 13:27:16 wer:335] reference:two two nine three\n",
            "[NeMo I 2024-07-07 13:27:16 wer:336] predicted:two two nine three\n",
            "[NeMo I 2024-07-07 13:27:17 wer:334] \n",
            "    \n",
            "[NeMo I 2024-07-07 13:27:17 wer:335] reference:b a r r y\n",
            "[NeMo I 2024-07-07 13:27:17 wer:336] predicted:b a r r y\n",
            "[NeMo I 2024-07-07 13:27:17 wer:334] \n",
            "    \n",
            "[NeMo I 2024-07-07 13:27:17 wer:335] reference:repeat\n",
            "[NeMo I 2024-07-07 13:27:17 wer:336] predicted:repeat\n",
            "[NeMo I 2024-07-07 13:27:18 wer:334] \n",
            "    \n",
            "[NeMo I 2024-07-07 13:27:18 wer:335] reference:p i t t s b u r g h\n",
            "[NeMo I 2024-07-07 13:27:18 wer:336] predicted:p i t t s b u r g h\n",
            "[NeMo I 2024-07-07 13:27:19 wer:334] \n",
            "    \n",
            "[NeMo I 2024-07-07 13:27:19 wer:335] reference:one five two four one\n",
            "[NeMo I 2024-07-07 13:27:19 wer:336] predicted:one five two four one\n",
            "[NeMo I 2024-07-07 13:27:19 wer:334] \n",
            "    \n",
            "[NeMo I 2024-07-07 13:27:19 wer:335] reference:rubout f y n p ninety seven\n",
            "[NeMo I 2024-07-07 13:27:19 wer:336] predicted:rubout f y n p ninety seven\n"
          ]
        },
        {
          "data": {
            "application/vnd.jupyter.widget-view+json": {
              "model_id": "5738aa22127a4221bf4c431cdd5479f7",
              "version_major": 2,
              "version_minor": 0
            },
            "text/plain": [
              "Validation: |          | 0/? [00:00<?, ?it/s]"
            ]
          },
          "metadata": {},
          "output_type": "display_data"
        },
        {
          "name": "stdout",
          "output_type": "stream",
          "text": [
            "[NeMo I 2024-07-07 13:27:20 wer:334] \n",
            "    \n",
            "[NeMo I 2024-07-07 13:27:20 wer:335] reference:rubout g m e f three nine\n",
            "[NeMo I 2024-07-07 13:27:20 wer:336] predicted:ruboutut g m e f three nine\n",
            "[NeMo I 2024-07-07 13:27:20 wer:334] \n",
            "    \n",
            "[NeMo I 2024-07-07 13:27:20 wer:335] reference:v a n e s s a\n",
            "[NeMo I 2024-07-07 13:27:20 wer:336] predicted:v a n e s s a\n",
            "[NeMo I 2024-07-07 13:27:20 wer:334] \n",
            "    \n",
            "[NeMo I 2024-07-07 13:27:20 wer:335] reference:march seven nineteen sixty seven\n",
            "[NeMo I 2024-07-07 13:27:20 wer:336] predicted:march seven nineteen sixty seven\n",
            "[NeMo I 2024-07-07 13:27:20 wer:334] \n",
            "    \n",
            "[NeMo I 2024-07-07 13:27:20 wer:335] reference:m y e r s\n",
            "[NeMo I 2024-07-07 13:27:20 wer:336] predicted:m y e r s\n",
            "[NeMo I 2024-07-07 13:27:20 wer:334] \n",
            "    \n",
            "[NeMo I 2024-07-07 13:27:20 wer:335] reference:four one two two six eight four one four two\n",
            "[NeMo I 2024-07-07 13:27:20 wer:336] predicted:four one two two six eight four one four two\n"
          ]
        },
        {
          "name": "stderr",
          "output_type": "stream",
          "text": [
            "INFO: Epoch 2, global step 90: 'val_wer' reached 0.01423 (best 0.01423), saving model to '/workspace/nemo/NeMo-opensource/tutorials/asr/asr_adapters/experiments/ASR-Adapters/2024-07-07_13-24-36/checkpoints/ASR-Adapters--val_wer=0.0142-epoch=2.ckpt' as top 3\n",
            "I0707 13:27:20.423012 131498730960704 rank_zero.py:64] Epoch 2, global step 90: 'val_wer' reached 0.01423 (best 0.01423), saving model to '/workspace/nemo/NeMo-opensource/tutorials/asr/asr_adapters/experiments/ASR-Adapters/2024-07-07_13-24-36/checkpoints/ASR-Adapters--val_wer=0.0142-epoch=2.ckpt' as top 3\n"
          ]
        },
        {
          "name": "stdout",
          "output_type": "stream",
          "text": [
            "[NeMo I 2024-07-07 13:27:27 nemo_model_checkpoint:217] New best .nemo model saved to: /workspace/nemo/NeMo-opensource/tutorials/asr/asr_adapters/experiments/ASR-Adapters/2024-07-07_13-24-36/checkpoints/ASR-Adapters.nemo\n",
            "[NeMo I 2024-07-07 13:27:28 wer:334] \n",
            "    \n",
            "[NeMo I 2024-07-07 13:27:28 wer:335] reference:no\n",
            "[NeMo I 2024-07-07 13:27:28 wer:336] predicted:no\n",
            "[NeMo I 2024-07-07 13:27:28 wer:334] \n",
            "    \n",
            "[NeMo I 2024-07-07 13:27:28 wer:335] reference:rubout c y r b seven eight\n",
            "[NeMo I 2024-07-07 13:27:28 wer:336] predicted:rubout c y r b seven eight\n",
            "[NeMo I 2024-07-07 13:27:29 wer:334] \n",
            "    \n",
            "[NeMo I 2024-07-07 13:27:29 wer:335] reference:a m s j seven thousand one hundred and eighty six\n",
            "[NeMo I 2024-07-07 13:27:29 wer:336] predicted:a m s j seven thousand one hundred eighty six\n",
            "[NeMo I 2024-07-07 13:27:29 wer:334] \n",
            "    \n",
            "[NeMo I 2024-07-07 13:27:29 wer:335] reference:one four eight five oh\n",
            "[NeMo I 2024-07-07 13:27:29 wer:336] predicted:one four eight five oh\n",
            "[NeMo I 2024-07-07 13:27:30 wer:334] \n",
            "    \n",
            "[NeMo I 2024-07-07 13:27:30 wer:335] reference:l i n d a\n",
            "[NeMo I 2024-07-07 13:27:30 wer:336] predicted:l i n d a\n",
            "[NeMo I 2024-07-07 13:27:30 wer:334] \n",
            "    \n",
            "[NeMo I 2024-07-07 13:27:30 wer:335] reference:eight fourteen sixty four\n",
            "[NeMo I 2024-07-07 13:27:30 wer:336] predicted:eight fourteen sixty four\n",
            "[NeMo I 2024-07-07 13:27:31 wer:334] \n",
            "    \n",
            "[NeMo I 2024-07-07 13:27:31 wer:335] reference:one five two one seven\n",
            "[NeMo I 2024-07-07 13:27:31 wer:336] predicted:one five two one seven\n",
            "[NeMo I 2024-07-07 13:27:32 wer:334] \n",
            "    \n",
            "[NeMo I 2024-07-07 13:27:32 wer:335] reference:s t e v e n\n",
            "[NeMo I 2024-07-07 13:27:32 wer:336] predicted:s t e v e n\n",
            "[NeMo I 2024-07-07 13:27:32 wer:334] \n",
            "    \n",
            "[NeMo I 2024-07-07 13:27:32 wer:335] reference:two four two two nine one two\n",
            "[NeMo I 2024-07-07 13:27:32 wer:336] predicted:two four two two nine one two\n",
            "[NeMo I 2024-07-07 13:27:33 wer:334] \n",
            "    \n",
            "[NeMo I 2024-07-07 13:27:33 wer:335] reference:m e m o r y l a n e\n",
            "[NeMo I 2024-07-07 13:27:33 wer:336] predicted:m e m o r y l a n e\n",
            "[NeMo I 2024-07-07 13:27:33 wer:334] \n",
            "    \n",
            "[NeMo I 2024-07-07 13:27:33 wer:335] reference:stop\n",
            "[NeMo I 2024-07-07 13:27:33 wer:336] predicted:stop\n",
            "[NeMo I 2024-07-07 13:27:34 wer:334] \n",
            "    \n",
            "[NeMo I 2024-07-07 13:27:34 wer:335] reference:t h a y e r\n",
            "[NeMo I 2024-07-07 13:27:34 wer:336] predicted:t h a y e r\n",
            "[NeMo I 2024-07-07 13:27:34 wer:334] \n",
            "    \n",
            "[NeMo I 2024-07-07 13:27:34 wer:335] reference:p i t t s b u r g h\n",
            "[NeMo I 2024-07-07 13:27:34 wer:336] predicted:p i t t s b u r g h\n",
            "[NeMo I 2024-07-07 13:27:35 wer:334] \n",
            "    \n",
            "[NeMo I 2024-07-07 13:27:35 wer:335] reference:oh six oh seven six six\n",
            "[NeMo I 2024-07-07 13:27:35 wer:336] predicted:oh six oh seven six six\n",
            "[NeMo I 2024-07-07 13:27:35 wer:334] \n",
            "    \n",
            "[NeMo I 2024-07-07 13:27:35 wer:335] reference:enter four thousand eight hundred eighty three\n",
            "[NeMo I 2024-07-07 13:27:35 wer:336] predicted:enter four thousand eight hundred eighty three\n",
            "[NeMo I 2024-07-07 13:27:36 wer:334] \n",
            "    \n",
            "[NeMo I 2024-07-07 13:27:36 wer:335] reference:m o r e w o o d\n",
            "[NeMo I 2024-07-07 13:27:36 wer:336] predicted:m o r e w o o d\n",
            "[NeMo I 2024-07-07 13:27:37 wer:334] \n",
            "    \n",
            "[NeMo I 2024-07-07 13:27:37 wer:335] reference:p i t t s b u r g h\n",
            "[NeMo I 2024-07-07 13:27:37 wer:336] predicted:p i t t s b u r g h\n",
            "[NeMo I 2024-07-07 13:27:37 wer:334] \n",
            "    \n",
            "[NeMo I 2024-07-07 13:27:37 wer:335] reference:v f o f h nine four\n",
            "[NeMo I 2024-07-07 13:27:37 wer:336] predicted:v f o f h nine four\n"
          ]
        },
        {
          "data": {
            "application/vnd.jupyter.widget-view+json": {
              "model_id": "900e50b1b4e94425967d5fae15ac69b0",
              "version_major": 2,
              "version_minor": 0
            },
            "text/plain": [
              "Validation: |          | 0/? [00:00<?, ?it/s]"
            ]
          },
          "metadata": {},
          "output_type": "display_data"
        },
        {
          "name": "stdout",
          "output_type": "stream",
          "text": [
            "[NeMo I 2024-07-07 13:27:38 wer:334] \n",
            "    \n",
            "[NeMo I 2024-07-07 13:27:38 wer:335] reference:rubout g m e f three nine\n",
            "[NeMo I 2024-07-07 13:27:38 wer:336] predicted:rubout g m e f three nine\n",
            "[NeMo I 2024-07-07 13:27:38 wer:334] \n",
            "    \n",
            "[NeMo I 2024-07-07 13:27:38 wer:335] reference:v a n e s s a\n",
            "[NeMo I 2024-07-07 13:27:38 wer:336] predicted:v a n e s s a\n",
            "[NeMo I 2024-07-07 13:27:38 wer:334] \n",
            "    \n",
            "[NeMo I 2024-07-07 13:27:38 wer:335] reference:march seven nineteen sixty seven\n",
            "[NeMo I 2024-07-07 13:27:38 wer:336] predicted:march seven nineteen sixty seven\n",
            "[NeMo I 2024-07-07 13:27:38 wer:334] \n",
            "    \n",
            "[NeMo I 2024-07-07 13:27:38 wer:335] reference:m y e r s\n",
            "[NeMo I 2024-07-07 13:27:38 wer:336] predicted:m y e r s\n",
            "[NeMo I 2024-07-07 13:27:38 wer:334] \n",
            "    \n",
            "[NeMo I 2024-07-07 13:27:38 wer:335] reference:four one two two six eight four one four two\n",
            "[NeMo I 2024-07-07 13:27:38 wer:336] predicted:four one two two six eight four one four two\n"
          ]
        },
        {
          "name": "stderr",
          "output_type": "stream",
          "text": [
            "INFO: Epoch 5, global step 180: 'val_wer' reached 0.01164 (best 0.01164), saving model to '/workspace/nemo/NeMo-opensource/tutorials/asr/asr_adapters/experiments/ASR-Adapters/2024-07-07_13-24-36/checkpoints/ASR-Adapters--val_wer=0.0116-epoch=5.ckpt' as top 3\n",
            "I0707 13:27:38.268094 131498730960704 rank_zero.py:64] Epoch 5, global step 180: 'val_wer' reached 0.01164 (best 0.01164), saving model to '/workspace/nemo/NeMo-opensource/tutorials/asr/asr_adapters/experiments/ASR-Adapters/2024-07-07_13-24-36/checkpoints/ASR-Adapters--val_wer=0.0116-epoch=5.ckpt' as top 3\n"
          ]
        },
        {
          "name": "stdout",
          "output_type": "stream",
          "text": [
            "[NeMo I 2024-07-07 13:27:39 nemo_model_checkpoint:217] New best .nemo model saved to: /workspace/nemo/NeMo-opensource/tutorials/asr/asr_adapters/experiments/ASR-Adapters/2024-07-07_13-24-36/checkpoints/ASR-Adapters.nemo\n",
            "[NeMo I 2024-07-07 13:27:40 wer:334] \n",
            "    \n",
            "[NeMo I 2024-07-07 13:27:40 wer:335] reference:four four four seven\n",
            "[NeMo I 2024-07-07 13:27:40 wer:336] predicted:four four four seven\n",
            "[NeMo I 2024-07-07 13:27:41 wer:334] \n",
            "    \n",
            "[NeMo I 2024-07-07 13:27:41 wer:335] reference:rubout y y f x zero\n",
            "[NeMo I 2024-07-07 13:27:41 wer:336] predicted:rubout y y f x zero\n",
            "[NeMo I 2024-07-07 13:27:42 wer:334] \n",
            "    \n",
            "[NeMo I 2024-07-07 13:27:42 wer:335] reference:erase v x s x two four nine nine\n",
            "[NeMo I 2024-07-07 13:27:42 wer:336] predicted:erase v x s x two four nine nine\n",
            "[NeMo I 2024-07-07 13:27:42 wer:334] \n",
            "    \n",
            "[NeMo I 2024-07-07 13:27:42 wer:335] reference:enter eight one nine six\n",
            "[NeMo I 2024-07-07 13:27:42 wer:336] predicted:enter eight one nine six\n",
            "[NeMo I 2024-07-07 13:27:43 wer:334] \n",
            "    \n",
            "[NeMo I 2024-07-07 13:27:43 wer:335] reference:six eight three five zero four one\n",
            "[NeMo I 2024-07-07 13:27:43 wer:336] predicted:six eight three five zero four one\n",
            "[NeMo I 2024-07-07 13:27:43 wer:334] \n",
            "    \n",
            "[NeMo I 2024-07-07 13:27:43 wer:335] reference:yes\n",
            "[NeMo I 2024-07-07 13:27:43 wer:336] predicted:yes\n",
            "[NeMo I 2024-07-07 13:27:44 wer:334] \n",
            "    \n",
            "[NeMo I 2024-07-07 13:27:44 wer:335] reference:go\n",
            "[NeMo I 2024-07-07 13:27:44 wer:336] predicted:go\n",
            "[NeMo I 2024-07-07 13:27:44 wer:334] \n",
            "    \n",
            "[NeMo I 2024-07-07 13:27:44 wer:335] reference:rubout j u i p three two eight\n",
            "[NeMo I 2024-07-07 13:27:44 wer:336] predicted:rubout j u i p three two eight\n",
            "[NeMo I 2024-07-07 13:27:45 wer:334] \n",
            "    \n",
            "[NeMo I 2024-07-07 13:27:45 wer:335] reference:may twenty first nineteen sixty\n",
            "[NeMo I 2024-07-07 13:27:45 wer:336] predicted:may twenty first nineteen sixty\n",
            "[NeMo I 2024-07-07 13:27:46 wer:334] \n",
            "    \n",
            "[NeMo I 2024-07-07 13:27:46 wer:335] reference:c i n d y\n",
            "[NeMo I 2024-07-07 13:27:46 wer:336] predicted:c i n d y\n",
            "[NeMo I 2024-07-07 13:27:46 wer:334] \n",
            "    \n",
            "[NeMo I 2024-07-07 13:27:46 wer:335] reference:erase f h b k z sixty nine\n",
            "[NeMo I 2024-07-07 13:27:46 wer:336] predicted:erase f h b k z sixty nine\n",
            "[NeMo I 2024-07-07 13:27:47 wer:334] \n",
            "    \n",
            "[NeMo I 2024-07-07 13:27:47 wer:335] reference:erase j n r g forty eight\n",
            "[NeMo I 2024-07-07 13:27:47 wer:336] predicted:erase j n r g forty eight\n",
            "[NeMo I 2024-07-07 13:27:47 wer:334] \n",
            "    \n",
            "[NeMo I 2024-07-07 13:27:47 wer:335] reference:erase f h b k z sixty nine\n",
            "[NeMo I 2024-07-07 13:27:47 wer:336] predicted:erase f h b k z sixty nine\n",
            "[NeMo I 2024-07-07 13:27:48 wer:334] \n",
            "    \n",
            "[NeMo I 2024-07-07 13:27:48 wer:335] reference:v e r o n a\n",
            "[NeMo I 2024-07-07 13:27:48 wer:336] predicted:v e r o n a\n",
            "[NeMo I 2024-07-07 13:27:48 wer:334] \n",
            "    \n",
            "[NeMo I 2024-07-07 13:27:48 wer:335] reference:enter thirty five\n",
            "[NeMo I 2024-07-07 13:27:48 wer:336] predicted:enter thirty five\n",
            "[NeMo I 2024-07-07 13:27:49 wer:334] \n",
            "    \n",
            "[NeMo I 2024-07-07 13:27:49 wer:335] reference:enter three eighty six\n",
            "[NeMo I 2024-07-07 13:27:49 wer:336] predicted:enter three eighty six\n",
            "[NeMo I 2024-07-07 13:27:50 wer:334] \n",
            "    \n",
            "[NeMo I 2024-07-07 13:27:50 wer:335] reference:enter eight twenty seven\n",
            "[NeMo I 2024-07-07 13:27:50 wer:336] predicted:enter eight twenty seven\n",
            "[NeMo I 2024-07-07 13:27:50 wer:334] \n",
            "    \n",
            "[NeMo I 2024-07-07 13:27:50 wer:335] reference:j o s e p h\n",
            "[NeMo I 2024-07-07 13:27:50 wer:336] predicted:j o s e p h\n"
          ]
        },
        {
          "data": {
            "application/vnd.jupyter.widget-view+json": {
              "model_id": "9c263eddd5b94a4985e396d8846ad93c",
              "version_major": 2,
              "version_minor": 0
            },
            "text/plain": [
              "Validation: |          | 0/? [00:00<?, ?it/s]"
            ]
          },
          "metadata": {},
          "output_type": "display_data"
        },
        {
          "name": "stdout",
          "output_type": "stream",
          "text": [
            "[NeMo I 2024-07-07 13:27:50 wer:334] \n",
            "    \n",
            "[NeMo I 2024-07-07 13:27:50 wer:335] reference:rubout g m e f three nine\n",
            "[NeMo I 2024-07-07 13:27:50 wer:336] predicted:rubout g m e f three nine\n",
            "[NeMo I 2024-07-07 13:27:51 wer:334] \n",
            "    \n",
            "[NeMo I 2024-07-07 13:27:51 wer:335] reference:v a n e s s a\n",
            "[NeMo I 2024-07-07 13:27:51 wer:336] predicted:v a n e s s a\n",
            "[NeMo I 2024-07-07 13:27:51 wer:334] \n",
            "    \n",
            "[NeMo I 2024-07-07 13:27:51 wer:335] reference:march seven nineteen sixty seven\n",
            "[NeMo I 2024-07-07 13:27:51 wer:336] predicted:march seven nineteen sixty seven\n",
            "[NeMo I 2024-07-07 13:27:51 wer:334] \n",
            "    \n",
            "[NeMo I 2024-07-07 13:27:51 wer:335] reference:m y e r s\n",
            "[NeMo I 2024-07-07 13:27:51 wer:336] predicted:m y e r s\n",
            "[NeMo I 2024-07-07 13:27:51 wer:334] \n",
            "    \n",
            "[NeMo I 2024-07-07 13:27:51 wer:335] reference:four one two two six eight four one four two\n",
            "[NeMo I 2024-07-07 13:27:51 wer:336] predicted:four one two two six eight four one four two\n"
          ]
        },
        {
          "name": "stderr",
          "output_type": "stream",
          "text": [
            "INFO: Epoch 8, global step 270: 'val_wer' reached 0.00776 (best 0.00776), saving model to '/workspace/nemo/NeMo-opensource/tutorials/asr/asr_adapters/experiments/ASR-Adapters/2024-07-07_13-24-36/checkpoints/ASR-Adapters--val_wer=0.0078-epoch=8.ckpt' as top 3\n",
            "I0707 13:27:51.216756 131498730960704 rank_zero.py:64] Epoch 8, global step 270: 'val_wer' reached 0.00776 (best 0.00776), saving model to '/workspace/nemo/NeMo-opensource/tutorials/asr/asr_adapters/experiments/ASR-Adapters/2024-07-07_13-24-36/checkpoints/ASR-Adapters--val_wer=0.0078-epoch=8.ckpt' as top 3\n"
          ]
        },
        {
          "name": "stdout",
          "output_type": "stream",
          "text": [
            "[NeMo I 2024-07-07 13:27:52 nemo_model_checkpoint:217] New best .nemo model saved to: /workspace/nemo/NeMo-opensource/tutorials/asr/asr_adapters/experiments/ASR-Adapters/2024-07-07_13-24-36/checkpoints/ASR-Adapters.nemo\n",
            "[NeMo I 2024-07-07 13:27:53 wer:334] \n",
            "    \n",
            "[NeMo I 2024-07-07 13:27:53 wer:335] reference:enter eight one nine six\n",
            "[NeMo I 2024-07-07 13:27:53 wer:336] predicted:enter eight one nine six\n",
            "[NeMo I 2024-07-07 13:27:54 wer:334] \n",
            "    \n",
            "[NeMo I 2024-07-07 13:27:54 wer:335] reference:p i t t s b u r g h\n",
            "[NeMo I 2024-07-07 13:27:54 wer:336] predicted:p i t t s b u r g h\n",
            "[NeMo I 2024-07-07 13:27:54 wer:334] \n",
            "    \n",
            "[NeMo I 2024-07-07 13:27:54 wer:335] reference:a r a p a h o e\n",
            "[NeMo I 2024-07-07 13:27:54 wer:336] predicted:a r a p a h o e\n",
            "[NeMo I 2024-07-07 13:27:55 wer:334] \n",
            "    \n",
            "[NeMo I 2024-07-07 13:27:55 wer:335] reference:five two one four nine five four\n",
            "[NeMo I 2024-07-07 13:27:55 wer:336] predicted:five two one four nine five four\n",
            "[NeMo I 2024-07-07 13:27:56 wer:334] \n",
            "    \n",
            "[NeMo I 2024-07-07 13:27:56 wer:335] reference:six seventeen thirty six\n",
            "[NeMo I 2024-07-07 13:27:56 wer:336] predicted:six seventeen thirty six\n",
            "[NeMo I 2024-07-07 13:27:56 wer:334] \n",
            "    \n",
            "[NeMo I 2024-07-07 13:27:56 wer:335] reference:v e r o n a\n",
            "[NeMo I 2024-07-07 13:27:56 wer:336] predicted:v e r o n a\n"
          ]
        },
        {
          "name": "stderr",
          "output_type": "stream",
          "text": [
            "INFO: `Trainer.fit` stopped: `max_steps=300` reached.\n",
            "I0707 13:27:56.647670 131498730960704 rank_zero.py:64] `Trainer.fit` stopped: `max_steps=300` reached.\n",
            "INFO: Restoring states from the checkpoint path at /workspace/nemo/NeMo-opensource/tutorials/asr/asr_adapters/experiments/ASR-Adapters/2024-07-07_13-24-36/checkpoints/ASR-Adapters--val_wer=0.0078-epoch=8.ckpt\n",
            "I0707 13:27:57.032257 131498730960704 rank_zero.py:64] Restoring states from the checkpoint path at /workspace/nemo/NeMo-opensource/tutorials/asr/asr_adapters/experiments/ASR-Adapters/2024-07-07_13-24-36/checkpoints/ASR-Adapters--val_wer=0.0078-epoch=8.ckpt\n",
            "INFO: Restored all states from the checkpoint at /workspace/nemo/NeMo-opensource/tutorials/asr/asr_adapters/experiments/ASR-Adapters/2024-07-07_13-24-36/checkpoints/ASR-Adapters--val_wer=0.0078-epoch=8.ckpt\n",
            "I0707 13:27:57.202682 131498730960704 rank_zero.py:64] Restored all states from the checkpoint at /workspace/nemo/NeMo-opensource/tutorials/asr/asr_adapters/experiments/ASR-Adapters/2024-07-07_13-24-36/checkpoints/ASR-Adapters--val_wer=0.0078-epoch=8.ckpt\n"
          ]
        }
      ],
      "source": [
        "# Finally, train the adapters\n",
        "trainer.fit(model)"
      ]
    },
    {
      "cell_type": "markdown",
      "metadata": {
        "id": "A82ylXSZuL1T"
      },
      "source": [
        "-----\n",
        "\n",
        "After training, save the final checkpoint to a nemo file to evaluate. We also save just the adapter module itself, as that is much smaller than the size of the full model."
      ]
    },
    {
      "cell_type": "code",
      "execution_count": 32,
      "metadata": {},
      "outputs": [],
      "source": [
        "trainer.train_dataloader.num_workers = 0"
      ]
    },
    {
      "cell_type": "code",
      "execution_count": 34,
      "metadata": {
        "id": "7tDdE9lZbvhJ"
      },
      "outputs": [],
      "source": [
        "model.save_to(\"/content/adapted_model.nemo\")"
      ]
    },
    {
      "cell_type": "code",
      "execution_count": 35,
      "metadata": {
        "id": "L9yO-M-oL3Cy"
      },
      "outputs": [],
      "source": [
        "model.save_adapters('/content/adapter_modules.pt')"
      ]
    },
    {
      "cell_type": "markdown",
      "metadata": {
        "id": "Ak9v58RmdNJT"
      },
      "source": [
        "# Evaluate the adapted model\n",
        "\n",
        "Now that we have finished the adaptation step and saved a trained NeMo file, we can evaluate the accuracy of our adapted model on the test set of AN4."
      ]
    },
    {
      "cell_type": "markdown",
      "metadata": {
        "id": "r-rjNJAvuZxu"
      },
      "source": [
        "## Evaluate the adapter-enabled model"
      ]
    },
    {
      "cell_type": "code",
      "execution_count": 49,
      "metadata": {
        "id": "_Ps6_45mdJpM"
      },
      "outputs": [
        {
          "name": "stdout",
          "output_type": "stream",
          "text": [
            "[NeMo W 2024-07-07 13:40:21 nemo_logging:349] /usr/local/lib/python3.10/dist-packages/hydra/_internal/hydra.py:119: UserWarning: Future Hydra versions will no longer change working directory at job runtime by default.\n",
            "    See https://hydra.cc/docs/1.2/upgrades/1.1_to_1.2/changes_to_job_working_dir/ for more information.\n",
            "      ret = run_job(\n",
            "    \n",
            "[NeMo I 2024-07-07 13:40:21 transcribe_speech:222] Hydra config: model_path: /content/adapted_model.nemo\n",
            "    pretrained_name: null\n",
            "    audio_dir: null\n",
            "    dataset_manifest: datasets/an4/test_manifest.json\n",
            "    channel_selector: null\n",
            "    audio_key: audio_filepath\n",
            "    eval_config_yaml: null\n",
            "    presort_manifest: true\n",
            "    output_filename: /content/adapted_predictions.json\n",
            "    batch_size: 32\n",
            "    num_workers: 0\n",
            "    append_pred: false\n",
            "    pred_name_postfix: null\n",
            "    random_seed: null\n",
            "    compute_timestamps: false\n",
            "    preserve_alignment: false\n",
            "    compute_langs: false\n",
            "    cuda: null\n",
            "    allow_mps: false\n",
            "    amp: false\n",
            "    amp_dtype: float16\n",
            "    compute_dtype: float32\n",
            "    matmul_precision: highest\n",
            "    audio_type: wav\n",
            "    overwrite_transcripts: true\n",
            "    ctc_decoding:\n",
            "      strategy: greedy\n",
            "      preserve_alignments: null\n",
            "      compute_timestamps: null\n",
            "      word_seperator: ' '\n",
            "      ctc_timestamp_type: all\n",
            "      batch_dim_index: 0\n",
            "      greedy:\n",
            "        preserve_alignments: false\n",
            "        compute_timestamps: false\n",
            "        preserve_frame_confidence: false\n",
            "        confidence_method_cfg:\n",
            "          name: entropy\n",
            "          entropy_type: tsallis\n",
            "          alpha: 0.33\n",
            "          entropy_norm: exp\n",
            "          temperature: DEPRECATED\n",
            "      beam:\n",
            "        beam_size: 4\n",
            "        search_type: default\n",
            "        preserve_alignments: false\n",
            "        compute_timestamps: false\n",
            "        return_best_hypothesis: true\n",
            "        beam_alpha: 1.0\n",
            "        beam_beta: 0.0\n",
            "        kenlm_path: null\n",
            "        flashlight_cfg:\n",
            "          lexicon_path: null\n",
            "          boost_path: null\n",
            "          beam_size_token: 16\n",
            "          beam_threshold: 20.0\n",
            "          unk_weight: -.inf\n",
            "          sil_weight: 0.0\n",
            "        pyctcdecode_cfg:\n",
            "          beam_prune_logp: -10.0\n",
            "          token_min_logp: -5.0\n",
            "          prune_history: false\n",
            "          hotwords: null\n",
            "          hotword_weight: 10.0\n",
            "      confidence_cfg:\n",
            "        preserve_frame_confidence: false\n",
            "        preserve_token_confidence: false\n",
            "        preserve_word_confidence: false\n",
            "        exclude_blank: true\n",
            "        aggregation: min\n",
            "        tdt_include_duration: false\n",
            "        method_cfg:\n",
            "          name: entropy\n",
            "          entropy_type: tsallis\n",
            "          alpha: 0.33\n",
            "          entropy_norm: exp\n",
            "          temperature: DEPRECATED\n",
            "      temperature: 1.0\n",
            "    rnnt_decoding:\n",
            "      model_type: rnnt\n",
            "      strategy: greedy_batch\n",
            "      compute_hypothesis_token_set: false\n",
            "      preserve_alignments: null\n",
            "      confidence_cfg:\n",
            "        preserve_frame_confidence: false\n",
            "        preserve_token_confidence: false\n",
            "        preserve_word_confidence: false\n",
            "        exclude_blank: true\n",
            "        aggregation: min\n",
            "        tdt_include_duration: false\n",
            "        method_cfg:\n",
            "          name: entropy\n",
            "          entropy_type: tsallis\n",
            "          alpha: 0.33\n",
            "          entropy_norm: exp\n",
            "          temperature: DEPRECATED\n",
            "      fused_batch_size: -1\n",
            "      compute_timestamps: null\n",
            "      compute_langs: false\n",
            "      word_seperator: ' '\n",
            "      rnnt_timestamp_type: all\n",
            "      greedy:\n",
            "        max_symbols_per_step: 10\n",
            "        preserve_alignments: false\n",
            "        preserve_frame_confidence: false\n",
            "        tdt_include_duration_confidence: false\n",
            "        confidence_method_cfg:\n",
            "          name: entropy\n",
            "          entropy_type: tsallis\n",
            "          alpha: 0.33\n",
            "          entropy_norm: exp\n",
            "          temperature: DEPRECATED\n",
            "        loop_labels: true\n",
            "        use_cuda_graph_decoder: true\n",
            "      beam:\n",
            "        beam_size: 4\n",
            "        search_type: default\n",
            "        score_norm: true\n",
            "        return_best_hypothesis: true\n",
            "        tsd_max_sym_exp_per_step: 50\n",
            "        alsd_max_target_len: 1.0\n",
            "        nsc_max_timesteps_expansion: 1\n",
            "        nsc_prefix_alpha: 1\n",
            "        maes_num_steps: 2\n",
            "        maes_prefix_alpha: 1\n",
            "        maes_expansion_gamma: 2.3\n",
            "        maes_expansion_beta: 2\n",
            "        language_model: null\n",
            "        softmax_temperature: 1.0\n",
            "        preserve_alignments: false\n",
            "        ngram_lm_model: null\n",
            "        ngram_lm_alpha: 0.0\n",
            "        hat_subtract_ilm: false\n",
            "        hat_ilm_weight: 0.0\n",
            "      temperature: 1.0\n",
            "      durations: []\n",
            "      big_blank_durations: []\n",
            "    multitask_decoding:\n",
            "      strategy: beam\n",
            "      compute_hypothesis_token_set: false\n",
            "      preserve_alignments: null\n",
            "      compute_langs: false\n",
            "      beam:\n",
            "        beam_size: 1\n",
            "        search_type: default\n",
            "        len_pen: 1.0\n",
            "        max_generation_delta: -1\n",
            "        return_best_hypothesis: true\n",
            "        preserve_alignments: false\n",
            "      temperature: 1.0\n",
            "    prompt: {}\n",
            "    decoder_type: null\n",
            "    att_context_size: null\n",
            "    model_change:\n",
            "      conformer:\n",
            "        self_attention_model: null\n",
            "        att_context_size: null\n",
            "    calculate_wer: true\n",
            "    clean_groundtruth_text: false\n",
            "    langid: en\n",
            "    use_cer: false\n",
            "    return_transcriptions: false\n",
            "    return_hypotheses: true\n",
            "    gt_text_attr_name: text\n",
            "    gt_lang_attr_name: lang\n",
            "    allow_partial_transcribe: false\n",
            "    extract_nbest: false\n",
            "    calculate_rtfx: false\n",
            "    use_punct_er: false\n",
            "    tolerance: null\n",
            "    only_score_manifest: false\n",
            "    scores_per_sample: false\n",
            "    text_processing:\n",
            "      punctuation_marks: .,?\n",
            "      do_lowercase: false\n",
            "      rm_punctuation: false\n",
            "      separate_punctuation: false\n",
            "    \n",
            "[NeMo I 2024-07-07 13:40:21 transcribe_speech:269] Inference will be done on device: cuda:0\n",
            "[NeMo I 2024-07-07 13:40:21 transcribe_utils:250] Restoring model : EncDecCTCModelBPE\n",
            "[NeMo I 2024-07-07 13:40:21 mixins:172] Tokenizer SentencePieceTokenizer initialized with 1024 tokens\n",
            "[NeMo W 2024-07-07 13:40:21 modelPT:176] If you intend to do training or fine-tuning, please call the ModelPT.setup_training_data() method and provide a valid configuration file to setup the train data loader.\n",
            "    Train config : \n",
            "    manifest_filepath: datasets/an4/train_manifest.json\n",
            "    sample_rate: 16000\n",
            "    batch_size: 32\n",
            "    shuffle: true\n",
            "    num_workers: 8\n",
            "    pin_memory: true\n",
            "    use_start_end_token: false\n",
            "    trim_silence: false\n",
            "    max_duration: 20.0\n",
            "    min_duration: 0.1\n",
            "    shuffle_n: 2048\n",
            "    is_tarred: false\n",
            "    tarred_audio_filepaths: null\n",
            "    \n",
            "[NeMo W 2024-07-07 13:40:21 modelPT:183] If you intend to do validation, please call the ModelPT.setup_validation_data() or ModelPT.setup_multiple_validation_data() method and provide a valid configuration file to setup the validation data loader(s). \n",
            "    Validation config : \n",
            "    manifest_filepath: datasets/an4/test_manifest.json\n",
            "    sample_rate: 16000\n",
            "    batch_size: 32\n",
            "    shuffle: false\n",
            "    num_workers: 8\n",
            "    pin_memory: true\n",
            "    use_start_end_token: false\n",
            "    is_tarred: false\n",
            "    tarred_audio_filepaths: na\n",
            "    \n",
            "[NeMo W 2024-07-07 13:40:21 modelPT:189] Please call the ModelPT.setup_test_data() or ModelPT.setup_multiple_test_data() method and provide a valid configuration file to setup the test data loader(s).\n",
            "    Test config : \n",
            "    manifest_filepath: datasets/an4/test_manifest.json\n",
            "    sample_rate: 16000\n",
            "    batch_size: 32\n",
            "    shuffle: false\n",
            "    num_workers: 8\n",
            "    pin_memory: true\n",
            "    use_start_end_token: false\n",
            "    is_tarred: false\n",
            "    tarred_audio_filepaths: na\n",
            "    \n",
            "[NeMo I 2024-07-07 13:40:21 features:305] PADDING: 0\n",
            "[NeMo I 2024-07-07 13:40:22 adapter_mixins:612] Finished setup of adapter : 'AN4'. Enabled: True.\n",
            "[NeMo I 2024-07-07 13:40:22 save_restore_connector:263] Model EncDecCTCModelBPE was successfully restored from /content/adapted_model.nemo.\n",
            "GPU available: True (cuda), used: True\n",
            "TPU available: False, using: 0 TPU cores\n",
            "HPU available: False, using: 0 HPUs\n",
            "[NeMo I 2024-07-07 13:40:22 ctc_bpe_models:342] Changed decoding strategy to \n",
            "    strategy: greedy\n",
            "    preserve_alignments: null\n",
            "    compute_timestamps: false\n",
            "    word_seperator: ' '\n",
            "    ctc_timestamp_type: all\n",
            "    batch_dim_index: 0\n",
            "    greedy:\n",
            "      preserve_alignments: false\n",
            "      compute_timestamps: false\n",
            "      preserve_frame_confidence: false\n",
            "      confidence_method_cfg:\n",
            "        name: entropy\n",
            "        entropy_type: tsallis\n",
            "        alpha: 0.33\n",
            "        entropy_norm: exp\n",
            "        temperature: DEPRECATED\n",
            "    beam:\n",
            "      beam_size: 4\n",
            "      search_type: default\n",
            "      preserve_alignments: false\n",
            "      compute_timestamps: false\n",
            "      return_best_hypothesis: true\n",
            "      beam_alpha: 1.0\n",
            "      beam_beta: 0.0\n",
            "      kenlm_path: null\n",
            "      flashlight_cfg:\n",
            "        lexicon_path: null\n",
            "        boost_path: null\n",
            "        beam_size_token: 16\n",
            "        beam_threshold: 20.0\n",
            "        unk_weight: -.inf\n",
            "        sil_weight: 0.0\n",
            "      pyctcdecode_cfg:\n",
            "        beam_prune_logp: -10.0\n",
            "        token_min_logp: -5.0\n",
            "        prune_history: false\n",
            "        hotwords: null\n",
            "        hotword_weight: 10.0\n",
            "    confidence_cfg:\n",
            "      preserve_frame_confidence: false\n",
            "      preserve_token_confidence: false\n",
            "      preserve_word_confidence: false\n",
            "      exclude_blank: true\n",
            "      aggregation: min\n",
            "      tdt_include_duration: false\n",
            "      method_cfg:\n",
            "        name: entropy\n",
            "        entropy_type: tsallis\n",
            "        alpha: 0.33\n",
            "        entropy_norm: exp\n",
            "        temperature: DEPRECATED\n",
            "    temperature: 1.0\n",
            "    \n",
            "[NeMo I 2024-07-07 13:40:22 transcribe_utils:293] \n",
            "    Transcribing 130 files...\n",
            "    \n",
            "Transcribing: 100%|███████████████████████████████| 5/5 [00:01<00:00,  4.37it/s]\n",
            "[NeMo I 2024-07-07 13:40:23 transcribe_speech:460] Finished transcribing from manifest file: datasets/an4/test_manifest.json\n",
            "[NeMo I 2024-07-07 13:40:23 transcribe_speech:465] Writing transcriptions into file: /content/adapted_predictions.json\n",
            "[NeMo I 2024-07-07 13:40:23 transcribe_speech:488] Finished writing predictions to /content/adapted_predictions.json!\n",
            "[NeMo I 2024-07-07 13:40:23 transcribe_speech:506] Writing prediction and error rate of each sample to /content/adapted_predictions.json!\n",
            "[NeMo I 2024-07-07 13:40:23 transcribe_speech:507] {'samples': 130, 'tokens': 773, 'wer': 0.007761966364812419, 'ins_rate': 0.0, 'del_rate': 0.00129366106080207, 'sub_rate': 0.00646830530401035}\n",
            "[NeMo I 2024-07-07 13:40:23 speech_to_text_eval:133] Finished transcribing speech dataset. Computing ASR metrics..\n",
            "[NeMo I 2024-07-07 13:40:23 speech_to_text_eval:212] Dataset WER/CER 0.78%/0.31%\n"
          ]
        }
      ],
      "source": [
        "!python scripts/speech_to_text_eval.py \\\n",
        "  model_path=\"/content/adapted_model.nemo\" \\\n",
        "  dataset_manifest=$TEST_MANIFEST \\\n",
        "  output_filename=\"/content/adapted_predictions.json\" \\\n",
        "  batch_size=32 \\\n",
        "  use_cer=False"
      ]
    },
    {
      "cell_type": "markdown",
      "metadata": {
        "id": "MegsAIcQG5MJ"
      },
      "source": [
        "-----\n",
        "\n",
        "We could significantly improve the accuracy of this model on the AN4 dataset with a very short training schedule with a small number of parameters. \n",
        "\n",
        "**Note**: Since AN4 is a relatively simple dataset, the gains are very large in this example. We generally observe more modest improvements with such short training schedules on realistic datasets (but gains of this range are easily attainable with more data or precise training schedules to avoid overfitting)."
      ]
    },
    {
      "cell_type": "markdown",
      "metadata": {
        "id": "T6c_p530wMwG"
      },
      "source": [
        "Let us compare the adapted model's predictions below - "
      ]
    },
    {
      "cell_type": "code",
      "execution_count": 50,
      "metadata": {
        "id": "vlK3PdMhtlv1"
      },
      "outputs": [
        {
          "name": "stdout",
          "output_type": "stream",
          "text": [
            "Original\n",
            "head: cannot open '/content/unadapted_predictions.json' for reading: No such file or directory\n",
            "Adapted\n",
            "{\"audio_filepath\": \"/workspace/nemo/NeMo-opensource/tutorials/asr/asr_adapters/datasets/an4/wav/an4test_clstk/fcaw/an406-fcaw-b.wav\", \"duration\": 4.0, \"text\": \"rubout g m e f three nine\", \"pred_text\": \"rubout g m e f three nine\", \"wer\": 0.0, \"tokens\": 7, \"ins_rate\": 0.0, \"del_rate\": 0.0, \"sub_rate\": 0.0}\n",
            "{\"audio_filepath\": \"/workspace/nemo/NeMo-opensource/tutorials/asr/asr_adapters/datasets/an4/wav/an4test_clstk/fcaw/an407-fcaw-b.wav\", \"duration\": 4.1, \"text\": \"erase c q q f seven\", \"pred_text\": \"erase c q q f seven\", \"wer\": 0.0, \"tokens\": 6, \"ins_rate\": 0.0, \"del_rate\": 0.0, \"sub_rate\": 0.0}\n",
            "{\"audio_filepath\": \"/workspace/nemo/NeMo-opensource/tutorials/asr/asr_adapters/datasets/an4/wav/an4test_clstk/fcaw/an408-fcaw-b.wav\", \"duration\": 3.3, \"text\": \"b a o z five three\", \"pred_text\": \"b a o z five three\", \"wer\": 0.0, \"tokens\": 6, \"ins_rate\": 0.0, \"del_rate\": 0.0, \"sub_rate\": 0.0}\n",
            "{\"audio_filepath\": \"/workspace/nemo/NeMo-opensource/tutorials/asr/asr_adapters/datasets/an4/wav/an4test_clstk/fcaw/an409-fcaw-b.wav\", \"duration\": 0.8, \"text\": \"go\", \"pred_text\": \"go\", \"wer\": 0.0, \"tokens\": 1, \"ins_rate\": 0.0, \"del_rate\": 0.0, \"sub_rate\": 0.0}\n",
            "{\"audio_filepath\": \"/workspace/nemo/NeMo-opensource/tutorials/asr/asr_adapters/datasets/an4/wav/an4test_clstk/fcaw/an410-fcaw-b.wav\", \"duration\": 3.6, \"text\": \"rubout n i m n one\", \"pred_text\": \"rubout n i m n one\", \"wer\": 0.0, \"tokens\": 6, \"ins_rate\": 0.0, \"del_rate\": 0.0, \"sub_rate\": 0.0}\n"
          ]
        }
      ],
      "source": [
        "print(\"Original\")\n",
        "!head -n 5 /content/unadapted_predictions.json\n",
        "print(\"Adapted\")\n",
        "!head -n 5 /content/adapted_predictions.json"
      ]
    },
    {
      "cell_type": "markdown",
      "metadata": {
        "id": "CCkH10jqd4q1"
      },
      "source": [
        "## Evaluate the adapter-disabled model\n",
        "\n",
        "Now, let us disable the adapters and recover the original performance of the model. We do this as a sanity test, to check that indeed the \"base\" model is still intact, even if adapter training has occurred."
      ]
    },
    {
      "cell_type": "code",
      "execution_count": 51,
      "metadata": {
        "id": "1R6wHGgRdRKX"
      },
      "outputs": [
        {
          "name": "stdout",
          "output_type": "stream",
          "text": [
            "[NeMo I 2024-07-07 13:40:43 adapter_mixins:719] Setting adapter 'AN4' status : Enabled = False\n"
          ]
        }
      ],
      "source": [
        "model.set_enabled_adapters(enabled=False)\n",
        "model.save_to(\"/content/adapter_disabled_model.nemo\")"
      ]
    },
    {
      "cell_type": "code",
      "execution_count": 52,
      "metadata": {
        "id": "IhGLtRwdeGRf"
      },
      "outputs": [
        {
          "name": "stdout",
          "output_type": "stream",
          "text": [
            "[NeMo W 2024-07-07 13:40:58 nemo_logging:349] /usr/local/lib/python3.10/dist-packages/hydra/_internal/hydra.py:119: UserWarning: Future Hydra versions will no longer change working directory at job runtime by default.\n",
            "    See https://hydra.cc/docs/1.2/upgrades/1.1_to_1.2/changes_to_job_working_dir/ for more information.\n",
            "      ret = run_job(\n",
            "    \n",
            "[NeMo I 2024-07-07 13:40:58 transcribe_speech:222] Hydra config: model_path: /content/adapter_disabled_model.nemo\n",
            "    pretrained_name: null\n",
            "    audio_dir: null\n",
            "    dataset_manifest: datasets/an4/test_manifest.json\n",
            "    channel_selector: null\n",
            "    audio_key: audio_filepath\n",
            "    eval_config_yaml: null\n",
            "    presort_manifest: true\n",
            "    output_filename: /content/adapter_disabled_predictions.json\n",
            "    batch_size: 32\n",
            "    num_workers: 0\n",
            "    append_pred: false\n",
            "    pred_name_postfix: null\n",
            "    random_seed: null\n",
            "    compute_timestamps: false\n",
            "    preserve_alignment: false\n",
            "    compute_langs: false\n",
            "    cuda: null\n",
            "    allow_mps: false\n",
            "    amp: false\n",
            "    amp_dtype: float16\n",
            "    compute_dtype: float32\n",
            "    matmul_precision: highest\n",
            "    audio_type: wav\n",
            "    overwrite_transcripts: true\n",
            "    ctc_decoding:\n",
            "      strategy: greedy\n",
            "      preserve_alignments: null\n",
            "      compute_timestamps: null\n",
            "      word_seperator: ' '\n",
            "      ctc_timestamp_type: all\n",
            "      batch_dim_index: 0\n",
            "      greedy:\n",
            "        preserve_alignments: false\n",
            "        compute_timestamps: false\n",
            "        preserve_frame_confidence: false\n",
            "        confidence_method_cfg:\n",
            "          name: entropy\n",
            "          entropy_type: tsallis\n",
            "          alpha: 0.33\n",
            "          entropy_norm: exp\n",
            "          temperature: DEPRECATED\n",
            "      beam:\n",
            "        beam_size: 4\n",
            "        search_type: default\n",
            "        preserve_alignments: false\n",
            "        compute_timestamps: false\n",
            "        return_best_hypothesis: true\n",
            "        beam_alpha: 1.0\n",
            "        beam_beta: 0.0\n",
            "        kenlm_path: null\n",
            "        flashlight_cfg:\n",
            "          lexicon_path: null\n",
            "          boost_path: null\n",
            "          beam_size_token: 16\n",
            "          beam_threshold: 20.0\n",
            "          unk_weight: -.inf\n",
            "          sil_weight: 0.0\n",
            "        pyctcdecode_cfg:\n",
            "          beam_prune_logp: -10.0\n",
            "          token_min_logp: -5.0\n",
            "          prune_history: false\n",
            "          hotwords: null\n",
            "          hotword_weight: 10.0\n",
            "      confidence_cfg:\n",
            "        preserve_frame_confidence: false\n",
            "        preserve_token_confidence: false\n",
            "        preserve_word_confidence: false\n",
            "        exclude_blank: true\n",
            "        aggregation: min\n",
            "        tdt_include_duration: false\n",
            "        method_cfg:\n",
            "          name: entropy\n",
            "          entropy_type: tsallis\n",
            "          alpha: 0.33\n",
            "          entropy_norm: exp\n",
            "          temperature: DEPRECATED\n",
            "      temperature: 1.0\n",
            "    rnnt_decoding:\n",
            "      model_type: rnnt\n",
            "      strategy: greedy_batch\n",
            "      compute_hypothesis_token_set: false\n",
            "      preserve_alignments: null\n",
            "      confidence_cfg:\n",
            "        preserve_frame_confidence: false\n",
            "        preserve_token_confidence: false\n",
            "        preserve_word_confidence: false\n",
            "        exclude_blank: true\n",
            "        aggregation: min\n",
            "        tdt_include_duration: false\n",
            "        method_cfg:\n",
            "          name: entropy\n",
            "          entropy_type: tsallis\n",
            "          alpha: 0.33\n",
            "          entropy_norm: exp\n",
            "          temperature: DEPRECATED\n",
            "      fused_batch_size: -1\n",
            "      compute_timestamps: null\n",
            "      compute_langs: false\n",
            "      word_seperator: ' '\n",
            "      rnnt_timestamp_type: all\n",
            "      greedy:\n",
            "        max_symbols_per_step: 10\n",
            "        preserve_alignments: false\n",
            "        preserve_frame_confidence: false\n",
            "        tdt_include_duration_confidence: false\n",
            "        confidence_method_cfg:\n",
            "          name: entropy\n",
            "          entropy_type: tsallis\n",
            "          alpha: 0.33\n",
            "          entropy_norm: exp\n",
            "          temperature: DEPRECATED\n",
            "        loop_labels: true\n",
            "        use_cuda_graph_decoder: true\n",
            "      beam:\n",
            "        beam_size: 4\n",
            "        search_type: default\n",
            "        score_norm: true\n",
            "        return_best_hypothesis: true\n",
            "        tsd_max_sym_exp_per_step: 50\n",
            "        alsd_max_target_len: 1.0\n",
            "        nsc_max_timesteps_expansion: 1\n",
            "        nsc_prefix_alpha: 1\n",
            "        maes_num_steps: 2\n",
            "        maes_prefix_alpha: 1\n",
            "        maes_expansion_gamma: 2.3\n",
            "        maes_expansion_beta: 2\n",
            "        language_model: null\n",
            "        softmax_temperature: 1.0\n",
            "        preserve_alignments: false\n",
            "        ngram_lm_model: null\n",
            "        ngram_lm_alpha: 0.0\n",
            "        hat_subtract_ilm: false\n",
            "        hat_ilm_weight: 0.0\n",
            "      temperature: 1.0\n",
            "      durations: []\n",
            "      big_blank_durations: []\n",
            "    multitask_decoding:\n",
            "      strategy: beam\n",
            "      compute_hypothesis_token_set: false\n",
            "      preserve_alignments: null\n",
            "      compute_langs: false\n",
            "      beam:\n",
            "        beam_size: 1\n",
            "        search_type: default\n",
            "        len_pen: 1.0\n",
            "        max_generation_delta: -1\n",
            "        return_best_hypothesis: true\n",
            "        preserve_alignments: false\n",
            "      temperature: 1.0\n",
            "    prompt: {}\n",
            "    decoder_type: null\n",
            "    att_context_size: null\n",
            "    model_change:\n",
            "      conformer:\n",
            "        self_attention_model: null\n",
            "        att_context_size: null\n",
            "    calculate_wer: true\n",
            "    clean_groundtruth_text: false\n",
            "    langid: en\n",
            "    use_cer: false\n",
            "    return_transcriptions: false\n",
            "    return_hypotheses: true\n",
            "    gt_text_attr_name: text\n",
            "    gt_lang_attr_name: lang\n",
            "    allow_partial_transcribe: false\n",
            "    extract_nbest: false\n",
            "    calculate_rtfx: false\n",
            "    use_punct_er: false\n",
            "    tolerance: null\n",
            "    only_score_manifest: false\n",
            "    scores_per_sample: false\n",
            "    text_processing:\n",
            "      punctuation_marks: .,?\n",
            "      do_lowercase: false\n",
            "      rm_punctuation: false\n",
            "      separate_punctuation: false\n",
            "    \n",
            "[NeMo I 2024-07-07 13:40:58 transcribe_speech:269] Inference will be done on device: cuda:0\n",
            "[NeMo I 2024-07-07 13:40:58 transcribe_utils:250] Restoring model : EncDecCTCModelBPE\n",
            "[NeMo I 2024-07-07 13:40:59 mixins:172] Tokenizer SentencePieceTokenizer initialized with 1024 tokens\n",
            "[NeMo W 2024-07-07 13:40:59 modelPT:176] If you intend to do training or fine-tuning, please call the ModelPT.setup_training_data() method and provide a valid configuration file to setup the train data loader.\n",
            "    Train config : \n",
            "    manifest_filepath: datasets/an4/train_manifest.json\n",
            "    sample_rate: 16000\n",
            "    batch_size: 32\n",
            "    shuffle: true\n",
            "    num_workers: 8\n",
            "    pin_memory: true\n",
            "    use_start_end_token: false\n",
            "    trim_silence: false\n",
            "    max_duration: 20.0\n",
            "    min_duration: 0.1\n",
            "    shuffle_n: 2048\n",
            "    is_tarred: false\n",
            "    tarred_audio_filepaths: null\n",
            "    \n",
            "[NeMo W 2024-07-07 13:40:59 modelPT:183] If you intend to do validation, please call the ModelPT.setup_validation_data() or ModelPT.setup_multiple_validation_data() method and provide a valid configuration file to setup the validation data loader(s). \n",
            "    Validation config : \n",
            "    manifest_filepath: datasets/an4/test_manifest.json\n",
            "    sample_rate: 16000\n",
            "    batch_size: 32\n",
            "    shuffle: false\n",
            "    num_workers: 8\n",
            "    pin_memory: true\n",
            "    use_start_end_token: false\n",
            "    is_tarred: false\n",
            "    tarred_audio_filepaths: na\n",
            "    \n",
            "[NeMo W 2024-07-07 13:40:59 modelPT:189] Please call the ModelPT.setup_test_data() or ModelPT.setup_multiple_test_data() method and provide a valid configuration file to setup the test data loader(s).\n",
            "    Test config : \n",
            "    manifest_filepath: datasets/an4/test_manifest.json\n",
            "    sample_rate: 16000\n",
            "    batch_size: 32\n",
            "    shuffle: false\n",
            "    num_workers: 8\n",
            "    pin_memory: true\n",
            "    use_start_end_token: false\n",
            "    is_tarred: false\n",
            "    tarred_audio_filepaths: na\n",
            "    \n",
            "[NeMo I 2024-07-07 13:40:59 features:305] PADDING: 0\n",
            "[NeMo I 2024-07-07 13:40:59 adapter_mixins:612] Finished setup of adapter : 'AN4'. Enabled: False.\n",
            "[NeMo I 2024-07-07 13:41:00 save_restore_connector:263] Model EncDecCTCModelBPE was successfully restored from /content/adapter_disabled_model.nemo.\n",
            "GPU available: True (cuda), used: True\n",
            "TPU available: False, using: 0 TPU cores\n",
            "HPU available: False, using: 0 HPUs\n",
            "[NeMo I 2024-07-07 13:41:00 ctc_bpe_models:342] Changed decoding strategy to \n",
            "    strategy: greedy\n",
            "    preserve_alignments: null\n",
            "    compute_timestamps: false\n",
            "    word_seperator: ' '\n",
            "    ctc_timestamp_type: all\n",
            "    batch_dim_index: 0\n",
            "    greedy:\n",
            "      preserve_alignments: false\n",
            "      compute_timestamps: false\n",
            "      preserve_frame_confidence: false\n",
            "      confidence_method_cfg:\n",
            "        name: entropy\n",
            "        entropy_type: tsallis\n",
            "        alpha: 0.33\n",
            "        entropy_norm: exp\n",
            "        temperature: DEPRECATED\n",
            "    beam:\n",
            "      beam_size: 4\n",
            "      search_type: default\n",
            "      preserve_alignments: false\n",
            "      compute_timestamps: false\n",
            "      return_best_hypothesis: true\n",
            "      beam_alpha: 1.0\n",
            "      beam_beta: 0.0\n",
            "      kenlm_path: null\n",
            "      flashlight_cfg:\n",
            "        lexicon_path: null\n",
            "        boost_path: null\n",
            "        beam_size_token: 16\n",
            "        beam_threshold: 20.0\n",
            "        unk_weight: -.inf\n",
            "        sil_weight: 0.0\n",
            "      pyctcdecode_cfg:\n",
            "        beam_prune_logp: -10.0\n",
            "        token_min_logp: -5.0\n",
            "        prune_history: false\n",
            "        hotwords: null\n",
            "        hotword_weight: 10.0\n",
            "    confidence_cfg:\n",
            "      preserve_frame_confidence: false\n",
            "      preserve_token_confidence: false\n",
            "      preserve_word_confidence: false\n",
            "      exclude_blank: true\n",
            "      aggregation: min\n",
            "      tdt_include_duration: false\n",
            "      method_cfg:\n",
            "        name: entropy\n",
            "        entropy_type: tsallis\n",
            "        alpha: 0.33\n",
            "        entropy_norm: exp\n",
            "        temperature: DEPRECATED\n",
            "    temperature: 1.0\n",
            "    \n",
            "[NeMo I 2024-07-07 13:41:00 transcribe_utils:293] \n",
            "    Transcribing 130 files...\n",
            "    \n",
            "Transcribing: 100%|███████████████████████████████| 5/5 [00:00<00:00,  5.23it/s]\n",
            "[NeMo I 2024-07-07 13:41:01 transcribe_speech:460] Finished transcribing from manifest file: datasets/an4/test_manifest.json\n",
            "[NeMo I 2024-07-07 13:41:01 transcribe_speech:465] Writing transcriptions into file: /content/adapter_disabled_predictions.json\n",
            "[NeMo I 2024-07-07 13:41:01 transcribe_speech:488] Finished writing predictions to /content/adapter_disabled_predictions.json!\n",
            "[NeMo I 2024-07-07 13:41:01 transcribe_speech:506] Writing prediction and error rate of each sample to /content/adapter_disabled_predictions.json!\n",
            "[NeMo I 2024-07-07 13:41:01 transcribe_speech:507] {'samples': 130, 'tokens': 773, 'wer': 0.054333764553686936, 'ins_rate': 0.007761966364812419, 'del_rate': 0.00646830530401035, 'sub_rate': 0.040103492884864166}\n",
            "[NeMo I 2024-07-07 13:41:01 speech_to_text_eval:133] Finished transcribing speech dataset. Computing ASR metrics..\n",
            "[NeMo I 2024-07-07 13:41:01 speech_to_text_eval:212] Dataset WER/CER 5.43%/1.83%\n"
          ]
        }
      ],
      "source": [
        "!python scripts/speech_to_text_eval.py \\\n",
        "  model_path=\"/content/adapter_disabled_model.nemo\" \\\n",
        "  dataset_manifest=$TEST_MANIFEST \\\n",
        "  output_filename=\"/content/adapter_disabled_predictions.json\" \\\n",
        "  batch_size=32 \\\n",
        "  use_cer=False"
      ]
    },
    {
      "cell_type": "markdown",
      "metadata": {
        "id": "GGKgsW5gvAuf"
      },
      "source": [
        "# [EXTRA] Check that accuracy can be recovered after adaptation\n",
        "\n",
        "This is a more explicit test than simply checking the WER above - here we do sample by sample check to ensure that predicted text remains the same."
      ]
    },
    {
      "cell_type": "code",
      "execution_count": 53,
      "metadata": {
        "id": "YFKN7QYuvBzP"
      },
      "outputs": [
        {
          "ename": "Exception",
          "evalue": "Manifest file could not be opened: <class 'nemo.utils.data_utils.DataStoreObject'>: store_path=/content/unadapted_predictions.json, local_path=/content/unadapted_predictions.json",
          "output_type": "error",
          "traceback": [
            "\u001b[0;31m---------------------------------------------------------------------------\u001b[0m",
            "\u001b[0;31mFileNotFoundError\u001b[0m                         Traceback (most recent call last)",
            "File \u001b[0;32m/workspace/nemo/NeMo-opensource/nemo/collections/asr/parts/utils/manifest_utils.py:477\u001b[0m, in \u001b[0;36mread_manifest\u001b[0;34m(manifest)\u001b[0m\n\u001b[1;32m    476\u001b[0m \u001b[38;5;28;01mtry\u001b[39;00m:\n\u001b[0;32m--> 477\u001b[0m     f \u001b[38;5;241m=\u001b[39m \u001b[38;5;28;43mopen\u001b[39;49m\u001b[43m(\u001b[49m\u001b[43mmanifest\u001b[49m\u001b[38;5;241;43m.\u001b[39;49m\u001b[43mget\u001b[49m\u001b[43m(\u001b[49m\u001b[43m)\u001b[49m\u001b[43m,\u001b[49m\u001b[43m \u001b[49m\u001b[38;5;124;43m'\u001b[39;49m\u001b[38;5;124;43mr\u001b[39;49m\u001b[38;5;124;43m'\u001b[39;49m\u001b[43m,\u001b[49m\u001b[43m \u001b[49m\u001b[43mencoding\u001b[49m\u001b[38;5;241;43m=\u001b[39;49m\u001b[38;5;124;43m'\u001b[39;49m\u001b[38;5;124;43mutf-8\u001b[39;49m\u001b[38;5;124;43m'\u001b[39;49m\u001b[43m)\u001b[49m\n\u001b[1;32m    478\u001b[0m \u001b[38;5;28;01mexcept\u001b[39;00m:\n",
            "\u001b[0;31mFileNotFoundError\u001b[0m: [Errno 2] No such file or directory: '/content/unadapted_predictions.json'",
            "\nDuring handling of the above exception, another exception occurred:\n",
            "\u001b[0;31mException\u001b[0m                                 Traceback (most recent call last)",
            "Cell \u001b[0;32mIn[53], line 1\u001b[0m\n\u001b[0;32m----> 1\u001b[0m original_transcripts \u001b[38;5;241m=\u001b[39m \u001b[43mread_manifest\u001b[49m\u001b[43m(\u001b[49m\u001b[38;5;124;43m'\u001b[39;49m\u001b[38;5;124;43m/content/unadapted_predictions.json\u001b[39;49m\u001b[38;5;124;43m'\u001b[39;49m\u001b[43m)\u001b[49m\n\u001b[1;32m      2\u001b[0m adapter_disabled_transcripts \u001b[38;5;241m=\u001b[39m read_manifest(\u001b[38;5;124m'\u001b[39m\u001b[38;5;124m/content/adapter_disabled_predictions.json\u001b[39m\u001b[38;5;124m'\u001b[39m)\n\u001b[1;32m      4\u001b[0m \u001b[38;5;28;01mfor\u001b[39;00m orig, new \u001b[38;5;129;01min\u001b[39;00m \u001b[38;5;28mzip\u001b[39m(original_transcripts, adapter_disabled_transcripts):\n",
            "File \u001b[0;32m/workspace/nemo/NeMo-opensource/nemo/collections/asr/parts/utils/manifest_utils.py:479\u001b[0m, in \u001b[0;36mread_manifest\u001b[0;34m(manifest)\u001b[0m\n\u001b[1;32m    477\u001b[0m     f \u001b[38;5;241m=\u001b[39m \u001b[38;5;28mopen\u001b[39m(manifest\u001b[38;5;241m.\u001b[39mget(), \u001b[38;5;124m'\u001b[39m\u001b[38;5;124mr\u001b[39m\u001b[38;5;124m'\u001b[39m, encoding\u001b[38;5;241m=\u001b[39m\u001b[38;5;124m'\u001b[39m\u001b[38;5;124mutf-8\u001b[39m\u001b[38;5;124m'\u001b[39m)\n\u001b[1;32m    478\u001b[0m \u001b[38;5;28;01mexcept\u001b[39;00m:\n\u001b[0;32m--> 479\u001b[0m     \u001b[38;5;28;01mraise\u001b[39;00m \u001b[38;5;167;01mException\u001b[39;00m(\u001b[38;5;124mf\u001b[39m\u001b[38;5;124m\"\u001b[39m\u001b[38;5;124mManifest file could not be opened: \u001b[39m\u001b[38;5;132;01m{\u001b[39;00mmanifest\u001b[38;5;132;01m}\u001b[39;00m\u001b[38;5;124m\"\u001b[39m)\n\u001b[1;32m    481\u001b[0m errors \u001b[38;5;241m=\u001b[39m []\n\u001b[1;32m    482\u001b[0m \u001b[38;5;28;01mfor\u001b[39;00m line \u001b[38;5;129;01min\u001b[39;00m f\u001b[38;5;241m.\u001b[39mreadlines():\n",
            "\u001b[0;31mException\u001b[0m: Manifest file could not be opened: <class 'nemo.utils.data_utils.DataStoreObject'>: store_path=/content/unadapted_predictions.json, local_path=/content/unadapted_predictions.json"
          ]
        }
      ],
      "source": [
        "original_transcripts = read_manifest('/content/unadapted_predictions.json')\n",
        "adapter_disabled_transcripts = read_manifest('/content/adapter_disabled_predictions.json')\n",
        "\n",
        "for orig, new in zip(original_transcripts, adapter_disabled_transcripts):\n",
        "  match = orig['pred_text'] == new['pred_text']\n",
        "  if not match:\n",
        "    print(\"Sample did not match after disabling adapter !\")\n",
        "    print(\"Original = \", orig['pred_text'])\n",
        "    print(\"Adapters disabled = \", new['pred_text']) \n",
        "    print()"
      ]
    },
    {
      "cell_type": "markdown",
      "metadata": {
        "id": "0CqpJGR6ecYW"
      },
      "source": [
        "# [EXTRA] Add as many adapters as needed\n",
        "\n",
        "Now that we have showcased how to utilize adapters for domain adaptation, we can take this further and adapt even more datasets - as many as needed!\n",
        "\n",
        "There is no implicit restriction on how many adapters can be added, as shown below. Still, we do recommend freezing all adapters and training only one at a time to prevent cross-interaction between adapters."
      ]
    },
    {
      "cell_type": "code",
      "execution_count": null,
      "metadata": {
        "id": "13vZHFFEeK_g"
      },
      "outputs": [],
      "source": [
        "model.add_adapter(name=\"AN4-v2\", cfg=adapter_cfg)"
      ]
    },
    {
      "cell_type": "code",
      "execution_count": null,
      "metadata": {
        "id": "iOrJ72SUelp6"
      },
      "outputs": [],
      "source": [
        "model.set_enabled_adapters(enabled=False)\n",
        "model.set_enabled_adapters(name='AN4-v2', enabled=True)\n",
        "\n",
        "model.freeze()\n",
        "model.unfreeze_enabled_adapters()\n",
        "\n",
        "model.summarize()"
      ]
    },
    {
      "cell_type": "markdown",
      "metadata": {
        "id": "EIli6c_OvKDH"
      },
      "source": [
        "# Further reading\n",
        "\n",
        "For efficient scripts to add, train, and evaluate adapter augmented models, please refer to the [Adapters example section](https://github.com/NVIDIA/NeMo/tree/main/examples/asr/asr_adapters).\n",
        "\n",
        "Please follow the following articles that discuss the use of adapters in ASR - \n",
        "- [Exploiting Adapters for Cross-lingual Low-resource Speech Recognition](https://arxiv.org/abs/2105.11905)\n",
        "- [Efficient Adapter Transfer of Self-Supervised Speech Models for Automatic Speech Recognition](https://arxiv.org/abs/2202.03218)\n"
      ]
    }
  ],
  "metadata": {
    "accelerator": "GPU",
    "colab": {
      "collapsed_sections": [
        "dm-qqTdZDUlZ",
        "GGKgsW5gvAuf",
        "0CqpJGR6ecYW"
      ],
      "provenance": [],
      "toc_visible": true
    },
    "kernelspec": {
      "display_name": "Python 3 (ipykernel)",
      "language": "python",
      "name": "python3"
    },
    "language_info": {
      "codemirror_mode": {
        "name": "ipython",
        "version": 3
      },
      "file_extension": ".py",
      "mimetype": "text/x-python",
      "name": "python",
      "nbconvert_exporter": "python",
      "pygments_lexer": "ipython3",
      "version": "3.10.12"
    }
  },
  "nbformat": 4,
  "nbformat_minor": 0
}
